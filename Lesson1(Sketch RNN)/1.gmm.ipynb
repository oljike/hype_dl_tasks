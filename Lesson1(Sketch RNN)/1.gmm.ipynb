{
 "cells": [
  {
   "cell_type": "code",
   "execution_count": null,
   "metadata": {},
   "outputs": [],
   "source": [
    "import math\n",
    "import random\n",
    "\n",
    "import numpy as np\n",
    "\n",
    "import torch \n",
    "import torch.nn as nn\n",
    "import torch.optim as optim\n",
    "import torch.nn.functional as F\n",
    "\n",
    "device = torch.device('cuda' if torch.cuda.is_available() else 'cpu')"
   ]
  },
  {
   "cell_type": "code",
   "execution_count": 2,
   "metadata": {},
   "outputs": [],
   "source": [
    "from IPython.display import clear_output\n",
    "import matplotlib.pyplot as plt\n",
    "%matplotlib inline"
   ]
  },
  {
   "cell_type": "markdown",
   "metadata": {},
   "source": [
    "<h3>Простая Синусоида</h3>"
   ]
  },
  {
   "cell_type": "code",
   "execution_count": 3,
   "metadata": {},
   "outputs": [],
   "source": [
    "def generate_sinus(n_samples):\n",
    "    epsilon = np.random.normal(size=(n_samples))\n",
    "    x  = np.random.uniform(-10.5, 10.5, n_samples)\n",
    "    y  = 7 * np.sin(0.75 * x) + 0.5 * x + epsilon\n",
    "    return torch.FloatTensor(x), torch.FloatTensor(y)\n",
    "    \n",
    "n_samples = 1000\n",
    "x, y = generate_sinus(n_samples)\n",
    "\n",
    "x = x.unsqueeze(1).to(device)\n",
    "y = y.unsqueeze(1).to(device)"
   ]
  },
  {
   "cell_type": "code",
   "execution_count": null,
   "metadata": {},
   "outputs": [],
   "source": [
    "plt.figure(figsize=(8, 8))\n",
    "plt.scatter(x.squeeze().tolist(), y.squeeze().tolist(), alpha=0.2)\n",
    "plt.show()"
   ]
  },
  {
   "cell_type": "code",
   "execution_count": 8,
   "metadata": {},
   "outputs": [],
   "source": [
    "def plot(epoch, losses, x, y, y_pred):\n",
    "    clear_output(True)\n",
    "    plt.figure(figsize=(20,5))\n",
    "    \n",
    "    plt.subplot(132)\n",
    "    plt.scatter(x, y, alpha=0.2)\n",
    "    plt.scatter(x, y_pred, alpha=0.2)\n",
    "    \n",
    "    plt.subplot(131)\n",
    "    plt.title('frame %s. reward: %s' % (epoch, losses[-1]))\n",
    "    plt.plot(losses)\n",
    "    \n",
    "    plt.show()"
   ]
  },
  {
   "cell_type": "markdown",
   "metadata": {},
   "source": [
    "<h3>Модель</h3>"
   ]
  },
  {
   "cell_type": "code",
   "execution_count": 11,
   "metadata": {},
   "outputs": [],
   "source": [
    "#code here"
   ]
  },
  {
   "cell_type": "code",
   "execution_count": null,
   "metadata": {},
   "outputs": [],
   "source": [
    "\n",
    "\n",
    "epoch = 0\n",
    "num_epochs = 1000\n",
    "\n",
    "losses = []"
   ]
  },
  {
   "cell_type": "code",
   "execution_count": null,
   "metadata": {},
   "outputs": [],
   "source": []
  },
  {
   "cell_type": "markdown",
   "metadata": {},
   "source": [
    "<h3>Вертикальная Синусоида</h3>"
   ]
  },
  {
   "cell_type": "code",
   "execution_count": 13,
   "metadata": {},
   "outputs": [],
   "source": [
    "x, y = y, x"
   ]
  },
  {
   "cell_type": "code",
   "execution_count": null,
   "metadata": {},
   "outputs": [],
   "source": [
    "plt.figure(figsize=(8, 8))\n",
    "plt.scatter(x.squeeze().tolist(), y.squeeze().tolist(), alpha=0.2)\n",
    "plt.show()"
   ]
  },
  {
   "cell_type": "code",
   "execution_count": null,
   "metadata": {},
   "outputs": [],
   "source": [
    "epoch = 0\n",
    "num_epochs = 1000\n",
    "\n",
    "losses = []"
   ]
  },
  {
   "cell_type": "code",
   "execution_count": null,
   "metadata": {},
   "outputs": [],
   "source": []
  },
  {
   "cell_type": "code",
   "execution_count": null,
   "metadata": {},
   "outputs": [],
   "source": []
  },
  {
   "cell_type": "code",
   "execution_count": null,
   "metadata": {},
   "outputs": [],
   "source": []
  },
  {
   "cell_type": "markdown",
   "metadata": {},
   "source": [
    "<h3>Gaussian Mixture Models</h3>"
   ]
  },
  {
   "cell_type": "code",
   "execution_count": 15,
   "metadata": {},
   "outputs": [],
   "source": [
    "class GMM(nn.Module):\n",
    "    def __init__(self, hidden_size, num_gaussians):\n",
    "        super(GMM, self).__init__()\n",
    "        \n",
    "    def forward(self, x):\n",
    "        '''\n",
    "        Inputs:\n",
    "            x: (batch x 1)\n",
    "        Outputs:\n",
    "            mean:   (batch x num_gaussians)\n",
    "            std:    (batch x num_gaussians)\n",
    "            weight: (batch x num_gaussians)\n",
    "            \n",
    "        '''\n",
    "        #code here\n",
    "    \n",
    "    def sample(self, x):\n",
    "        mean, std, weight = self.forward(x)\n",
    "        \n",
    "        gumbel  = np.random.gumbel(loc=0, scale=1, size=weight.size())\n",
    "        gumbel  = torch.FloatTensor(gumbel).to(x.device)\n",
    "\n",
    "        indices = (weight.log() + gumbel).max(1)[1]\n",
    "        indices = indices.unsqueeze(1)\n",
    "\n",
    "        mean = mean.gather(1, indices).squeeze(1)\n",
    "        std  = std.gather(1,  indices).squeeze(1)\n",
    "\n",
    "        sampled = torch.randn(n_samples).to(x.device) * std + mean\n",
    "        return sampled"
   ]
  },
  {
   "cell_type": "markdown",
   "metadata": {},
   "source": [
    "<h4>Normal Distribution</h4>"
   ]
  },
  {
   "cell_type": "code",
   "execution_count": 19,
   "metadata": {},
   "outputs": [],
   "source": [
    "def pdf(y, mean, std):\n",
    "    '''\n",
    "    Inputs:\n",
    "        y:    (batch x 1)\n",
    "        mean: (batch x num_gaussians)\n",
    "        std:  (batch x num_gaussians)\n",
    "    Outputs:\n",
    "        dist: (batch x num_gaussians)\n",
    "    '''\n",
    "    #\n",
    "    #code here\n",
    "    #"
   ]
  },
  {
   "cell_type": "markdown",
   "metadata": {},
   "source": [
    "<h4>GMM Loss</h4>"
   ]
  },
  {
   "cell_type": "code",
   "execution_count": 20,
   "metadata": {},
   "outputs": [],
   "source": [
    "def compute_gmm_loss(mean, std, gaussian_weight, y):\n",
    "    '''\n",
    "    Inputs:\n",
    "        mean: (batch x num_gaussians)\n",
    "        std:  (batch x num_gaussians)\n",
    "        gaussian_weight: (batch x num_gaussians)\n",
    "        y:    (batch x 1)\n",
    "    '''\n",
    "    #\n",
    "    #code here\n",
    "    #"
   ]
  },
  {
   "cell_type": "code",
   "execution_count": null,
   "metadata": {},
   "outputs": [],
   "source": [
    "gmm = GMM(20, 20).to(device)\n",
    "optimizer = optim.RMSprop(gmm.parameters())\n",
    "\n",
    "epoch = 0\n",
    "num_epochs = 1000\n",
    "\n",
    "losses = []"
   ]
  },
  {
   "cell_type": "code",
   "execution_count": null,
   "metadata": {},
   "outputs": [],
   "source": [
    "gaussian_weight, mean, std = gmm(x)\n",
    "\n",
    "while epoch < num_epochs:\n",
    "    \n",
    "    mean, std, weight = gmm(x)\n",
    "    loss = compute_gmm_loss(mean, std, weight, y)\n",
    "    \n",
    "    optimizer.zero_grad()\n",
    "    loss.backward()\n",
    "    optimizer.step()\n",
    "    \n",
    "    losses.append(loss.item())\n",
    "    \n",
    "    if epoch % 10 == 0:\n",
    "        y_pred = gmm.sample(x)\n",
    "        plot(epoch, losses, x.squeeze().tolist(), y.squeeze().tolist(), y_pred.squeeze().tolist())\n",
    "    \n",
    "    epoch += 1"
   ]
  },
  {
   "cell_type": "markdown",
   "metadata": {},
   "source": [
    "<h2>Задание</h2>\n",
    "<p>Попробуйте заменить tanh на relu и sigmoid и посмотрите что будет [1 бал]</p>\n",
    "<p>Попробуйте использовать softplus вместо exp при расчете std и посмотрите что будет [1 бал]</p>\n",
    "<p>Попробуйте использовать разное кол-во гауссиан и сделайте не большой отчет [1 бал]</p>"
   ]
  },
  {
   "cell_type": "code",
   "execution_count": null,
   "metadata": {},
   "outputs": [],
   "source": []
  }
 ],
 "metadata": {
  "kernelspec": {
   "display_name": "Python 3",
   "language": "python",
   "name": "python3"
  },
  "language_info": {
   "codemirror_mode": {
    "name": "ipython",
    "version": 3
   },
   "file_extension": ".py",
   "mimetype": "text/x-python",
   "name": "python",
   "nbconvert_exporter": "python",
   "pygments_lexer": "ipython3",
   "version": "3.6.6"
  }
 },
 "nbformat": 4,
 "nbformat_minor": 2
}
