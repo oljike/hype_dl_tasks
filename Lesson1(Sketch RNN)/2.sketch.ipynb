{
 "cells": [
  {
   "cell_type": "code",
   "execution_count": 1,
   "metadata": {},
   "outputs": [],
   "source": [
    "import math\n",
    "import random\n",
    "\n",
    "import numpy as np\n",
    "\n",
    "import torch\n",
    "import torch.nn as nn\n",
    "import torch.optim as optim\n",
    "import torch.nn.functional as F"
   ]
  },
  {
   "cell_type": "code",
   "execution_count": 2,
   "metadata": {},
   "outputs": [],
   "source": [
    "from IPython.display import clear_output\n",
    "import matplotlib.pyplot as plt\n",
    "%matplotlib inline"
   ]
  },
  {
   "cell_type": "markdown",
   "metadata": {},
   "source": [
    "<img src=\"https://i.imgur.com/UtPBG1L.png\">"
   ]
  },
  {
   "cell_type": "markdown",
   "metadata": {},
   "source": [
    "<h3>Quickdraw Dataset</h3>\n",
    "<p><a href=\"https://ai.googleblog.com/2017/04/teaching-machines-to-draw.html\">Google Blog</a></p>\n",
    "<p>https://console.cloud.google.com/storage/browser/quickdraw_dataset/sketchrnn?pli=1</p>"
   ]
  },
  {
   "cell_type": "code",
   "execution_count": 4,
   "metadata": {},
   "outputs": [],
   "source": [
    "def filter_by_length(data, \n",
    "                     min_length=-float('inf'), \n",
    "                     max_length= float('inf')):\n",
    "    return [stroke for stroke in data if stroke.shape[0] <= max_length and stroke.shape[0] >= min_length]\n",
    "\n",
    "def remove_gaps(data):\n",
    "    strokes = []\n",
    "    for stroke in data:\n",
    "        stroke = np.minimum(stroke,  1000)\n",
    "        stroke = np.maximum(stroke, -1000)\n",
    "        strokes.append(stroke)\n",
    "    return strokes\n",
    "\n",
    "def scale(data):\n",
    "    scale = np.std(np.concatenate([np.delete(x, -1, axis=1).ravel() for x in data]))\n",
    "    strokes = []\n",
    "    for stroke in data:\n",
    "        stroke[:,0:2] = stroke[:,0:2] / scale\n",
    "        strokes.append(stroke)\n",
    "    return strokes\n",
    "\n",
    "class Dataset:\n",
    "    def __init__(self, \n",
    "                 path, \n",
    "                 min_length=-float('inf'), \n",
    "                 max_length=float('inf')):\n",
    "        \n",
    "        dataset   = np.load(path, encoding='latin1')\n",
    "        data      = dataset['train']\n",
    "        data      = [np.float32(x) for x in data]\n",
    "        data      = filter_by_length(data, min_length, max_length)\n",
    "        data      = remove_gaps(data)\n",
    "        data      = scale(data)\n",
    "        self.data = data\n",
    "        \n",
    "    def __len__(self):\n",
    "        return len(self.data)\n",
    "\n",
    "    def get_batch(self, batch_size):\n",
    "        random_ids = np.random.randint(0, len(self), batch_size)\n",
    "        batch      = [self.data[idx] for idx in random_ids]\n",
    "        strokes    = []\n",
    "        lengths    = []\n",
    "        max_size   = max(map(lambda x: x.shape[0], batch))\n",
    "\n",
    "        for stroke in batch:\n",
    "            length     = stroke.shape[0]\n",
    "            new_stroke = np.zeros((max_size, 5))\n",
    "            new_stroke[:length,      :2]  = stroke[:, :2]\n",
    "            new_stroke[:length - 1,   2]  = 1 - stroke[:-1, 2]\n",
    "            new_stroke[:length,       3]  = stroke[:, 2]\n",
    "            new_stroke[length-1:,     4]  = 1\n",
    "            new_stroke[length-1,    2:4]  = 0\n",
    "            lengths.append(stroke.shape[0])\n",
    "            strokes.append(new_stroke)\n",
    "            \n",
    "        mask = torch.zeros(batch_size, max_size + 1)\n",
    "        for idx, length in enumerate(lengths):\n",
    "            mask[idx, :length] = 1\n",
    "            \n",
    "        batch    = np.stack(strokes)\n",
    "\n",
    "        batch    = torch.FloatTensor(batch)\n",
    "        sos      = torch.FloatTensor([[0, 0, 1, 0, 0] for _ in range(batch_size)]).unsqueeze(1)\n",
    "        eos      = torch.FloatTensor([[0, 0, 0, 0, 1] for _ in range(batch_size)]).unsqueeze(1)\n",
    "        batch_in  = torch.cat([sos, batch], 1)\n",
    "        batch_out = torch.cat([batch, eos], 1)\n",
    "        \n",
    "        return batch, batch_in, batch_out, mask"
   ]
  },
  {
   "cell_type": "code",
   "execution_count": 16,
   "metadata": {},
   "outputs": [],
   "source": [
    "batch_size = 32\n",
    "data_path  = 'Datasets/bicycle.full.npz'\n",
    "data = Dataset(data_path)"
   ]
  },
  {
   "cell_type": "code",
   "execution_count": 17,
   "metadata": {},
   "outputs": [],
   "source": [
    "batch, batch_in, batch_out, mask = data.get_batch(batch_size)"
   ]
  },
  {
   "cell_type": "code",
   "execution_count": 18,
   "metadata": {},
   "outputs": [],
   "source": [
    "batch = batch.cuda()\n",
    "batch_in = batch_in.cuda()\n",
    "batch_out = batch_out.cuda()\n",
    "mask = mask.cuda()"
   ]
  },
  {
   "cell_type": "markdown",
   "metadata": {},
   "source": [
    "<h2>Модель</h2>"
   ]
  },
  {
   "cell_type": "markdown",
   "metadata": {},
   "source": [
    "<img src=\"https://i.imgur.com/VRYIHha.png\">"
   ]
  },
  {
   "cell_type": "code",
   "execution_count": 32,
   "metadata": {},
   "outputs": [],
   "source": [
    "class Encoder(nn.Module):\n",
    "    def __init__(self, hidden_size, z_size):\n",
    "        super(Encoder, self).__init__()\n",
    "        \n",
    "        self.lstm = nn.LSTM(5, hidden_size, batch_first = True, bidirectional = True)\n",
    "        self.linear_mean = nn.Linear(2 * hidden_size, z_size)\n",
    "        self.linear_std = nn.Linear(2 * hidden_size, z_size)\n",
    "        self.linear_weight = nn.Linear(hidden_size, z_size)\n",
    "        \n",
    "    def forward(self, x):\n",
    "        '''\n",
    "        Inputs:\n",
    "            x: (batch x seq_len x 5)\n",
    "        Outputs:\n",
    "            z:    (batch x z_size)\n",
    "            mean: (batch x z_size)\n",
    "            std:  (batch x z_size)\n",
    "        '''\n",
    "        batch_size = x.size(0)\n",
    "        _, (hidden, cell) = self.lstm(x)\n",
    "        \n",
    "        hidden = hidden.transpose(0, 1)\n",
    "\n",
    "        hidden = hidden.contiguous().view(batch_size, -1)\n",
    "\n",
    " \n",
    "        mean = self.linear_mean(hidden)\n",
    "        std  = self.linear_std(hidden)\n",
    "        \n",
    "        std = (std / 2).exp()\n",
    "        \n",
    "        z = mean + std * torch.randn(batch_size, 1).cuda()\n",
    "        \n",
    "        return z, mean, std\n",
    "        \n",
    "        \n",
    "class Decoder(nn.Module):\n",
    "    def __init__(self, z_size, hidden_size, num_gaussians):\n",
    "        super(Decoder, self).__init__()\n",
    "        \n",
    "        self.hidden_size = hidden_size\n",
    "        self.num_gaussians = num_gaussians\n",
    "        \n",
    "        self.linear_z = nn.Linear(z_size, 2 * hidden_size)\n",
    "        self.lstm = nn.LSTM(5 + z_size, hidden_size, batch_first = True)\n",
    "        \n",
    "        self.linear_weight = nn.Linear(hidden_size, num_gaussians)\n",
    "        self.linear_mean_x = nn.Linear(hidden_size, num_gaussians)\n",
    "        self.linear_mean_y = nn.Linear(hidden_size, num_gaussians)\n",
    "        self.linear_std_x = nn.Linear(hidden_size, num_gaussians)\n",
    "        self.linear_std_y = nn.Linear(hidden_size, num_gaussians)\n",
    "        self.linear_rho_xy = nn.Linear(hidden_size, num_gaussians)\n",
    "        self.linear_pen = nn.Linear(hidden_size, 3)\n",
    "        \n",
    "    def forward(self, x, z, hidden_cell=None, generate=False):\n",
    "        '''\n",
    "        Inputs:\n",
    "            x: (batch x seq_len x z_size + 5)\n",
    "            z: (batch x seq_len x z_size)\n",
    "            hidden_cell: [(1 x batch x hidden), (1 x batch x hidden)]\n",
    "            generate: bool\n",
    "        Outputs:\n",
    "            weight: (batch x seq_len x num_gaussians)\n",
    "            mean_x: (batch x seq_len x num_gaussians)\n",
    "            mean_y: (batch x seq_len x num_gaussians)\n",
    "            std_x:  (batch x seq_len x num_gaussians)\n",
    "            std_y:  (batch x seq_len x num_gaussians)\n",
    "            rho_xy: (batch x seq_len x num_gaussians) \n",
    "            pen: (batch x seq_len x 3)\n",
    "            hidden_cell: [(1 x batch x hidden), (1 x batch x hidden)]\n",
    "        '''\n",
    "        if hidden_cell is None:\n",
    "            hidden_cell = self.linear_z(z)\n",
    "            hidden_cell = torch.tanh(hidden_cell)\n",
    "\n",
    "            hidden_state, cell = torch.chunk(hidden_cell, 2, dim=1)\n",
    "            hidden_state, cell = hidden_state.unsqueeze(0).contiguous(), cell.unsqueeze(0).contiguous()\n",
    "\n",
    "            \n",
    "        else: \n",
    "            hidden_state, cell = hidden_cell\n",
    "\n",
    "        outputs, (hidden_state, cell) = self.lstm(x, (hidden_state, cell))\n",
    "        \n",
    "        if generate:\n",
    "            outputs = hidden\n",
    "            \n",
    "        \n",
    "        weight = self.linear_weight(outputs) \n",
    "        mean_x = self.linear_mean_x(outputs) \n",
    "        mean_y = self.linear_mean_y(outputs) \n",
    "        std_x = self.linear_std_x(outputs) \n",
    "        std_y = self.linear_std_y(outputs) \n",
    "        rho_xy =  self.linear_rho_xy(outputs) \n",
    "        pen = self.linear_pen(outputs)\n",
    "        \n",
    "        weight = F.softmax(weight, dim = -1)\n",
    "        std_x = std_x.exp()\n",
    "        std_y = std_y.exp()\n",
    "        rho_xy = torch.tanh(rho_xy)\n",
    "        pen = F.softmax(pen, dim = -1)\n",
    "        \n",
    "        return weight, mean_x, mean_y, std_x, std_y, rho_xy, pen, (hidden_state, cell)"
   ]
  },
  {
   "cell_type": "markdown",
   "metadata": {},
   "source": [
    "<h3>Kullback Leibler Loss</h3>"
   ]
  },
  {
   "cell_type": "code",
   "execution_count": 33,
   "metadata": {},
   "outputs": [],
   "source": [
    "def compute_kl_loss(mean, std, kl_min=0.2, eta_min=0.01):\n",
    "    eta_step = 1 - (1 - eta_min) * 0.99995\n",
    "\n",
    "    kl   = -0.5 * (1 + std - mean.pow(2) - std.exp()).mean()\n",
    "    loss = 0.5 * eta_step * torch.max(kl, torch.tensor(kl_min).to(mean.device))\n",
    "    return loss"
   ]
  },
  {
   "cell_type": "markdown",
   "metadata": {},
   "source": [
    "<h3>Bivariate Normal Distribution</h3>"
   ]
  },
  {
   "cell_type": "code",
   "execution_count": 34,
   "metadata": {},
   "outputs": [],
   "source": [
    "def pdf(x, y, mean_x, mean_y, std_x, std_y, rho_xy):\n",
    "    \n",
    "    d_x = ((x - mean_x) / std_x).pow(2)\n",
    "    d_y = ((y - mean_y) / std_y).pow(2)\n",
    "    d_xy = ((x - mean_x) * (y - mean_y)) / (std_x * std_y)\n",
    "    d = d_x + d_y - 2 * rho_xy * d_xy\n",
    "    \n",
    "    exp = (-d / (2 * (1 - rho_xy.pow(2)))).exp()\n",
    "    norm = 2 * math.pi * std_x * std_y * (1 - rho_xy.pow(2)).sqrt()\n",
    "    \n",
    "    return exp/norm"
   ]
  },
  {
   "cell_type": "markdown",
   "metadata": {},
   "source": [
    "<h3>Gaussian Mixture Models Loss</h3>"
   ]
  },
  {
   "cell_type": "code",
   "execution_count": 35,
   "metadata": {},
   "outputs": [],
   "source": [
    "def compute_gmm_loss(x, y, mean_x, mean_y, std_x, std_y, rho_xy, weight, mask, eps=1e-5):  \n",
    "    dist = pdf(x, y, mean_x, mean_y, std_x, std_y, rho_xy)\n",
    "    \n",
    "    loss = - (mask * (eps + (weight * dist).sum(-1)).log()).mean()    \n",
    "    return loss\n",
    "    "
   ]
  },
  {
   "cell_type": "markdown",
   "metadata": {},
   "source": [
    "<h3>Cross Entropy Loss</h3>"
   ]
  },
  {
   "cell_type": "code",
   "execution_count": 36,
   "metadata": {},
   "outputs": [],
   "source": [
    "def compute_pen_loss(target, probs):\n",
    "    \n",
    "    loss = - (target * probs.log()).mean()\n",
    "    return loss"
   ]
  },
  {
   "cell_type": "markdown",
   "metadata": {},
   "source": [
    "<h3>Sample from Bivariate Normal Distribution</h3>"
   ]
  },
  {
   "cell_type": "code",
   "execution_count": 37,
   "metadata": {},
   "outputs": [],
   "source": [
    "def sample_normal(mean_x, mean_y, std_x, std_y, rho_xy, temperature=0.4):\n",
    "    '''\n",
    "    Inputs:\n",
    "        mean_x, mean_y, std_x, std_y, rho_xy: float\n",
    "    '''\n",
    "    std_x *= math.sqrt(temperature)\n",
    "    std_y *= math.sqrt(temperature)\n",
    "    \n",
    "    mean       = [mean_x, mean_y]\n",
    "    \n",
    "    covariance = [[math.pow(std_x, 2), rho_xy * std_x * std_y], [rho_xy * std_x * std_y, math.pow(std_y, 2)]] \n",
    "    \n",
    "    x     = np.random.multivariate_normal(mean, covariance, 1)\n",
    "    return x[0][0], x[0][1]"
   ]
  },
  {
   "cell_type": "code",
   "execution_count": 50,
   "metadata": {},
   "outputs": [],
   "source": [
    "class Model(nn.Module):\n",
    "    def __init__(self):\n",
    "        super(Model, self).__init__()\n",
    "\n",
    "        \n",
    "    def forward(self, batch, batch_in, batch_out, mask):\n",
    "        z, z_mean, z_std = self.encoder(batch)\n",
    "        print(z.size())\n",
    "        kl_loss = compute_kl_loss(z_mean, z_std)\n",
    "        \n",
    "        dec_input = torch.cat([batch_in, z.unsqueeze(1).repeat(1, batch_in.size(1), 1)], -1)\n",
    "        print(batch_in.size())\n",
    "        weight, mean_x, mean_y, std_x, std_y, rho_xy, pen_probs, _ = self.decoder(dec_input, z)\n",
    "\n",
    "        #gmm loss\n",
    "        x = batch_out[:,:,0].unsqueeze(-1)\n",
    "        y = batch_out[:,:,1].unsqueeze(-1)\n",
    "        gmm_loss = compute_gmm_loss(x, y, mean_x, mean_y, std_x, std_y, rho_xy, weight, mask)\n",
    "        \n",
    "        #cross entropy loss\n",
    "        pen_target = batch_out[:,:,2:]\n",
    "        pen_loss   = compute_pen_loss(pen_target, pen_probs)\n",
    "\n",
    "        loss = gmm_loss + pen_loss + kl_loss\n",
    "        \n",
    "        return loss"
   ]
  },
  {
   "cell_type": "code",
   "execution_count": 76,
   "metadata": {},
   "outputs": [],
   "source": [
    "class UnconditionalModel(nn.Module):\n",
    "    def __init__(self, z_size):\n",
    "        super(UnconditionalModel, self).__init__()\n",
    "        self.z_size = z_size\n",
    "        \n",
    "    def forward(self, batch_in, batch_out, mask):\n",
    "        #z, z_mean, z_std = self.encoder(batch)\n",
    "        #kl_loss = compute_kl_loss(z_mean, z_std)\n",
    "        \n",
    "        z = torch.zeros(batch_in.size(0), self.z_size).to(batch_in.device)\n",
    "        dec_input = torch.cat([batch_in, z.unsqueeze(1).repeat(1, batch_in.size(1), 1)], -1)\n",
    "        weight, mean_x, mean_y, std_x, std_y, rho_xy, pen_probs, _ = self.decoder(dec_input, z)\n",
    "\n",
    "        #gmm loss\n",
    "        x = batch_out[:,:,0].unsqueeze(-1)\n",
    "        y = batch_out[:,:,1].unsqueeze(-1)\n",
    "        gmm_loss = compute_gmm_loss(x, y, mean_x, mean_y, std_x, std_y, rho_xy, weight, mask)\n",
    "        \n",
    "        #cross entropy loss\n",
    "        pen_target = batch_out[:,:,2:]\n",
    "        pen_loss   = compute_pen_loss(pen_target, pen_probs)\n",
    "\n",
    "        loss = gmm_loss + pen_loss\n",
    "        \n",
    "        return loss"
   ]
  },
  {
   "cell_type": "code",
   "execution_count": 94,
   "metadata": {},
   "outputs": [],
   "source": [
    "import PIL\n",
    "\n",
    "def plot(epoch, losses):\n",
    "    clear_output(True)\n",
    "    plt.figure(figsize=(20,5))\n",
    "    plt.subplot(131)\n",
    "    plt.title('epoch %s. loss: %s' % (epoch, losses[-1]))\n",
    "    plt.plot(losses)\n",
    "    plt.show()\n",
    "\n",
    "def make_image(sequence, idx, name='Images/uncond/image_'):\n",
    "    \"\"\"plot drawing with separated strokes\"\"\"\n",
    "    strokes = np.split(sequence, np.where(sequence[:,2]>0)[0]+1)\n",
    "    fig = plt.figure()\n",
    "    ax1 = fig.add_subplot(111)\n",
    "    for s in strokes:\n",
    "        plt.plot(s[:,0],-s[:,1])\n",
    "    canvas = plt.get_current_fig_manager().canvas\n",
    "    canvas.draw()\n",
    "    pil_image = PIL.Image.frombytes('RGB', canvas.get_width_height(),\n",
    "                 canvas.tostring_rgb())\n",
    "    name = name + str(idx) + '.jpg'\n",
    "    pil_image.save(name, \"JPEG\")\n",
    "    plt.close(\"all\")"
   ]
  },
  {
   "cell_type": "code",
   "execution_count": 95,
   "metadata": {},
   "outputs": [],
   "source": [
    "def draw(i, max_len=200, conditional = False):\n",
    "\n",
    "    batch, batch_in, batch_out, mask = data.get_batch(1)\n",
    "    batch, batch_in, batch_out = (batch.to(device), \n",
    "                                  batch_in.to(device), \n",
    "                                  batch_out.to(device))\n",
    "    \n",
    "    print(batch.size(), batch_in.size(), batch_out.size())\n",
    "    if conditional:\n",
    "        z, z_mean, z_std = model.encoder(batch)\n",
    "    inps = []\n",
    "    hidden_cell = None\n",
    "    state  = torch.FloatTensor([[0, 0, 1, 0, 0]]).unsqueeze(1).to(device)\n",
    "\n",
    "    xs = []\n",
    "    ys = []\n",
    "    pens = []\n",
    "\n",
    "    for _ in range(max_len):\n",
    "        if conditional:\n",
    "            dec_input = torch.cat([state, \n",
    "                               z.unsqueeze(1).repeat(1, state.size(1), 1)],\n",
    "                              dim=-1)\n",
    "            weight, mean_x, mean_y, std_x, std_y, rho_xy, pen_probs, hidden_cell = model.decoder(dec_input, z, hidden_cell)\n",
    "        else:\n",
    "            z = torch.zeros(batch_in.size(0), 128).to(batch_in.device)\n",
    "            dec_input = torch.cat([state, \n",
    "                               z.unsqueeze(1).repeat(1, state.size(1), 1)],\n",
    "                              dim=-1)\n",
    "            weight, mean_x, mean_y, std_x, std_y, rho_xy, pen_probs, hidden_cell = model.decoder(dec_input, z, hidden_cell)\n",
    "\n",
    "\n",
    "\n",
    "        gaussian_idx  = np.random.choice(num_gaussians, p=weight.squeeze().detach().cpu().numpy())\n",
    "        mean_x = mean_x.squeeze()[gaussian_idx].item()\n",
    "        mean_y = mean_y.squeeze()[gaussian_idx].item()\n",
    "        std_x  = std_x.squeeze()[gaussian_idx].item()\n",
    "        std_y  = std_y.squeeze()[gaussian_idx].item()\n",
    "        rho_xy = rho_xy.squeeze()[gaussian_idx].item()\n",
    "\n",
    "        pen = np.random.choice(3, p=pen_probs.squeeze().detach().cpu().numpy())\n",
    "\n",
    "        x, y = sample_normal(mean_x, mean_y, std_x, std_y, rho_xy)\n",
    "\n",
    "        if pen == 2:\n",
    "            break\n",
    "\n",
    "        state = torch.zeros(5).to(device)\n",
    "        state[0] = x\n",
    "        state[1] = y\n",
    "        state[pen+2] = 1\n",
    "        state = state.unsqueeze(0).unsqueeze(0)\n",
    "\n",
    "        xs.append(x)\n",
    "        ys.append(y)\n",
    "        pens.append(pen)\n",
    "\n",
    "    x_sample = np.cumsum(xs, 0)\n",
    "    y_sample = np.cumsum(ys, 0)\n",
    "    z_sample = np.array(pens)\n",
    "    sequence = np.stack([x_sample,y_sample,z_sample]).T\n",
    "\n",
    "    make_image(sequence, i)"
   ]
  },
  {
   "cell_type": "code",
   "execution_count": 96,
   "metadata": {},
   "outputs": [
    {
     "data": {
      "text/plain": [
       "UnconditionalModel(\n",
       "  (decoder): Decoder(\n",
       "    (linear_z): Linear(in_features=128, out_features=1024, bias=True)\n",
       "    (lstm): LSTM(133, 512, batch_first=True)\n",
       "    (linear_weight): Linear(in_features=512, out_features=20, bias=True)\n",
       "    (linear_mean_x): Linear(in_features=512, out_features=20, bias=True)\n",
       "    (linear_mean_y): Linear(in_features=512, out_features=20, bias=True)\n",
       "    (linear_std_x): Linear(in_features=512, out_features=20, bias=True)\n",
       "    (linear_std_y): Linear(in_features=512, out_features=20, bias=True)\n",
       "    (linear_rho_xy): Linear(in_features=512, out_features=20, bias=True)\n",
       "    (linear_pen): Linear(in_features=512, out_features=3, bias=True)\n",
       "  )\n",
       ")"
      ]
     },
     "execution_count": 96,
     "metadata": {},
     "output_type": "execute_result"
    }
   ],
   "source": [
    "model"
   ]
  },
  {
   "cell_type": "code",
   "execution_count": 97,
   "metadata": {},
   "outputs": [],
   "source": [
    "device = 'cuda'\n",
    "num_gaussians = 20\n",
    "conditional = False   \n",
    "\n",
    "    \n",
    "encoder = Encoder(256, 128).to(device)\n",
    "decoder = Decoder(128, 512, num_gaussians).to(device)\n",
    "\n",
    "if conditional:\n",
    "    model = Model().to(device)\n",
    "    model.encoder = encoder\n",
    "    model.decoder = decoder\n",
    "else:\n",
    "    model = UnconditionalModel(128).to(device)\n",
    "    #model.encoder = encoder\n",
    "    model.decoder = decoder\n",
    "\n",
    "lr        = 0.001\n",
    "lr_decay = 0.5\n",
    "optimizer = optim.Adam(model.parameters(), lr=lr)\n",
    "grad_clip = 1.0\n",
    "\n",
    "num_epochs = 25\n",
    "epoch  = 0\n",
    "losses = []\n",
    "idx = 0\n"
   ]
  },
  {
   "cell_type": "code",
   "execution_count": 98,
   "metadata": {},
   "outputs": [
    {
     "data": {
      "image/png": "[encoded data removed]",
      "text/plain": [
       "<Figure size 1440x360 with 1 Axes>"
      ]
     },
     "metadata": {},
     "output_type": "display_data"
    },
    {
     "name": "stdout",
     "output_type": "stream",
     "text": [
      "torch.Size([1, 67, 5]) torch.Size([1, 68, 5]) torch.Size([1, 68, 5])\n"
     ]
    },
    {
     "ename": "KeyboardInterrupt",
     "evalue": "",
     "output_type": "error",
     "traceback": [
      "\u001b[0;31m---------------------------------------------------------------------------\u001b[0m",
      "\u001b[0;31mKeyboardInterrupt\u001b[0m                         Traceback (most recent call last)",
      "\u001b[0;32m<ipython-input-98-c6639eb39c1c>\u001b[0m in \u001b[0;36m<module>\u001b[0;34m()\u001b[0m\n\u001b[1;32m      9\u001b[0m             \u001b[0mloss\u001b[0m \u001b[0;34m=\u001b[0m \u001b[0mmodel\u001b[0m\u001b[0;34m(\u001b[0m\u001b[0mbatch\u001b[0m\u001b[0;34m,\u001b[0m \u001b[0mbatch_in\u001b[0m\u001b[0;34m,\u001b[0m \u001b[0mbatch_out\u001b[0m\u001b[0;34m,\u001b[0m \u001b[0mmask\u001b[0m\u001b[0;34m)\u001b[0m\u001b[0;34m\u001b[0m\u001b[0m\n\u001b[1;32m     10\u001b[0m         \u001b[0;32melse\u001b[0m\u001b[0;34m:\u001b[0m\u001b[0;34m\u001b[0m\u001b[0m\n\u001b[0;32m---> 11\u001b[0;31m             \u001b[0mloss\u001b[0m \u001b[0;34m=\u001b[0m \u001b[0mmodel\u001b[0m\u001b[0;34m(\u001b[0m\u001b[0mbatch_in\u001b[0m\u001b[0;34m,\u001b[0m \u001b[0mbatch_out\u001b[0m\u001b[0;34m,\u001b[0m \u001b[0mmask\u001b[0m\u001b[0;34m)\u001b[0m\u001b[0;34m\u001b[0m\u001b[0m\n\u001b[0m\u001b[1;32m     12\u001b[0m         \u001b[0mlosses\u001b[0m\u001b[0;34m.\u001b[0m\u001b[0mappend\u001b[0m\u001b[0;34m(\u001b[0m\u001b[0mloss\u001b[0m\u001b[0;34m.\u001b[0m\u001b[0mitem\u001b[0m\u001b[0;34m(\u001b[0m\u001b[0;34m)\u001b[0m\u001b[0;34m)\u001b[0m\u001b[0;34m\u001b[0m\u001b[0m\n\u001b[1;32m     13\u001b[0m \u001b[0;34m\u001b[0m\u001b[0m\n",
      "\u001b[0;32m/home/oljike/PycharmProjects/TopicModelling/venv/lib/python3.6/site-packages/torch/nn/modules/module.py\u001b[0m in \u001b[0;36m__call__\u001b[0;34m(self, *input, **kwargs)\u001b[0m\n\u001b[1;32m    475\u001b[0m             \u001b[0mresult\u001b[0m \u001b[0;34m=\u001b[0m \u001b[0mself\u001b[0m\u001b[0;34m.\u001b[0m\u001b[0m_slow_forward\u001b[0m\u001b[0;34m(\u001b[0m\u001b[0;34m*\u001b[0m\u001b[0minput\u001b[0m\u001b[0;34m,\u001b[0m \u001b[0;34m**\u001b[0m\u001b[0mkwargs\u001b[0m\u001b[0;34m)\u001b[0m\u001b[0;34m\u001b[0m\u001b[0m\n\u001b[1;32m    476\u001b[0m         \u001b[0;32melse\u001b[0m\u001b[0;34m:\u001b[0m\u001b[0;34m\u001b[0m\u001b[0m\n\u001b[0;32m--> 477\u001b[0;31m             \u001b[0mresult\u001b[0m \u001b[0;34m=\u001b[0m \u001b[0mself\u001b[0m\u001b[0;34m.\u001b[0m\u001b[0mforward\u001b[0m\u001b[0;34m(\u001b[0m\u001b[0;34m*\u001b[0m\u001b[0minput\u001b[0m\u001b[0;34m,\u001b[0m \u001b[0;34m**\u001b[0m\u001b[0mkwargs\u001b[0m\u001b[0;34m)\u001b[0m\u001b[0;34m\u001b[0m\u001b[0m\n\u001b[0m\u001b[1;32m    478\u001b[0m         \u001b[0;32mfor\u001b[0m \u001b[0mhook\u001b[0m \u001b[0;32min\u001b[0m \u001b[0mself\u001b[0m\u001b[0;34m.\u001b[0m\u001b[0m_forward_hooks\u001b[0m\u001b[0;34m.\u001b[0m\u001b[0mvalues\u001b[0m\u001b[0;34m(\u001b[0m\u001b[0;34m)\u001b[0m\u001b[0;34m:\u001b[0m\u001b[0;34m\u001b[0m\u001b[0m\n\u001b[1;32m    479\u001b[0m             \u001b[0mhook_result\u001b[0m \u001b[0;34m=\u001b[0m \u001b[0mhook\u001b[0m\u001b[0;34m(\u001b[0m\u001b[0mself\u001b[0m\u001b[0;34m,\u001b[0m \u001b[0minput\u001b[0m\u001b[0;34m,\u001b[0m \u001b[0mresult\u001b[0m\u001b[0;34m)\u001b[0m\u001b[0;34m\u001b[0m\u001b[0m\n",
      "\u001b[0;32m<ipython-input-76-3a3cccdf9f6e>\u001b[0m in \u001b[0;36mforward\u001b[0;34m(self, batch_in, batch_out, mask)\u001b[0m\n\u001b[1;32m     15\u001b[0m         \u001b[0mx\u001b[0m \u001b[0;34m=\u001b[0m \u001b[0mbatch_out\u001b[0m\u001b[0;34m[\u001b[0m\u001b[0;34m:\u001b[0m\u001b[0;34m,\u001b[0m\u001b[0;34m:\u001b[0m\u001b[0;34m,\u001b[0m\u001b[0;36m0\u001b[0m\u001b[0;34m]\u001b[0m\u001b[0;34m.\u001b[0m\u001b[0munsqueeze\u001b[0m\u001b[0;34m(\u001b[0m\u001b[0;34m-\u001b[0m\u001b[0;36m1\u001b[0m\u001b[0;34m)\u001b[0m\u001b[0;34m\u001b[0m\u001b[0m\n\u001b[1;32m     16\u001b[0m         \u001b[0my\u001b[0m \u001b[0;34m=\u001b[0m \u001b[0mbatch_out\u001b[0m\u001b[0;34m[\u001b[0m\u001b[0;34m:\u001b[0m\u001b[0;34m,\u001b[0m\u001b[0;34m:\u001b[0m\u001b[0;34m,\u001b[0m\u001b[0;36m1\u001b[0m\u001b[0;34m]\u001b[0m\u001b[0;34m.\u001b[0m\u001b[0munsqueeze\u001b[0m\u001b[0;34m(\u001b[0m\u001b[0;34m-\u001b[0m\u001b[0;36m1\u001b[0m\u001b[0;34m)\u001b[0m\u001b[0;34m\u001b[0m\u001b[0m\n\u001b[0;32m---> 17\u001b[0;31m         \u001b[0mgmm_loss\u001b[0m \u001b[0;34m=\u001b[0m \u001b[0mcompute_gmm_loss\u001b[0m\u001b[0;34m(\u001b[0m\u001b[0mx\u001b[0m\u001b[0;34m,\u001b[0m \u001b[0my\u001b[0m\u001b[0;34m,\u001b[0m \u001b[0mmean_x\u001b[0m\u001b[0;34m,\u001b[0m \u001b[0mmean_y\u001b[0m\u001b[0;34m,\u001b[0m \u001b[0mstd_x\u001b[0m\u001b[0;34m,\u001b[0m \u001b[0mstd_y\u001b[0m\u001b[0;34m,\u001b[0m \u001b[0mrho_xy\u001b[0m\u001b[0;34m,\u001b[0m \u001b[0mweight\u001b[0m\u001b[0;34m,\u001b[0m \u001b[0mmask\u001b[0m\u001b[0;34m)\u001b[0m\u001b[0;34m\u001b[0m\u001b[0m\n\u001b[0m\u001b[1;32m     18\u001b[0m \u001b[0;34m\u001b[0m\u001b[0m\n\u001b[1;32m     19\u001b[0m         \u001b[0;31m#cross entropy loss\u001b[0m\u001b[0;34m\u001b[0m\u001b[0;34m\u001b[0m\u001b[0m\n",
      "\u001b[0;32m<ipython-input-35-17ae3c124988>\u001b[0m in \u001b[0;36mcompute_gmm_loss\u001b[0;34m(x, y, mean_x, mean_y, std_x, std_y, rho_xy, weight, mask, eps)\u001b[0m\n\u001b[1;32m      2\u001b[0m     \u001b[0mdist\u001b[0m \u001b[0;34m=\u001b[0m \u001b[0mpdf\u001b[0m\u001b[0;34m(\u001b[0m\u001b[0mx\u001b[0m\u001b[0;34m,\u001b[0m \u001b[0my\u001b[0m\u001b[0;34m,\u001b[0m \u001b[0mmean_x\u001b[0m\u001b[0;34m,\u001b[0m \u001b[0mmean_y\u001b[0m\u001b[0;34m,\u001b[0m \u001b[0mstd_x\u001b[0m\u001b[0;34m,\u001b[0m \u001b[0mstd_y\u001b[0m\u001b[0;34m,\u001b[0m \u001b[0mrho_xy\u001b[0m\u001b[0;34m)\u001b[0m\u001b[0;34m\u001b[0m\u001b[0m\n\u001b[1;32m      3\u001b[0m \u001b[0;34m\u001b[0m\u001b[0m\n\u001b[0;32m----> 4\u001b[0;31m     \u001b[0mloss\u001b[0m \u001b[0;34m=\u001b[0m \u001b[0;34m-\u001b[0m \u001b[0;34m(\u001b[0m\u001b[0mmask\u001b[0m \u001b[0;34m*\u001b[0m \u001b[0;34m(\u001b[0m\u001b[0meps\u001b[0m \u001b[0;34m+\u001b[0m \u001b[0;34m(\u001b[0m\u001b[0mweight\u001b[0m \u001b[0;34m*\u001b[0m \u001b[0mdist\u001b[0m\u001b[0;34m)\u001b[0m\u001b[0;34m.\u001b[0m\u001b[0msum\u001b[0m\u001b[0;34m(\u001b[0m\u001b[0;34m-\u001b[0m\u001b[0;36m1\u001b[0m\u001b[0;34m)\u001b[0m\u001b[0;34m)\u001b[0m\u001b[0;34m.\u001b[0m\u001b[0mlog\u001b[0m\u001b[0;34m(\u001b[0m\u001b[0;34m)\u001b[0m\u001b[0;34m)\u001b[0m\u001b[0;34m.\u001b[0m\u001b[0mmean\u001b[0m\u001b[0;34m(\u001b[0m\u001b[0;34m)\u001b[0m\u001b[0;34m\u001b[0m\u001b[0m\n\u001b[0m\u001b[1;32m      5\u001b[0m     \u001b[0;32mreturn\u001b[0m \u001b[0mloss\u001b[0m\u001b[0;34m\u001b[0m\u001b[0m\n\u001b[1;32m      6\u001b[0m \u001b[0;34m\u001b[0m\u001b[0m\n",
      "\u001b[0;31mKeyboardInterrupt\u001b[0m: "
     ]
    }
   ],
   "source": [
    "while epoch < num_epochs:\n",
    "    for batch_per_epoch in range(len(data) // batch_size):\n",
    "        batch, batch_in, batch_out, mask = data.get_batch(batch_size)\n",
    "        batch, batch_in, batch_out, mask = (batch.to(device), \n",
    "                                            batch_in.to(device), \n",
    "                                            batch_out.to(device), \n",
    "                                            mask.to(device))\n",
    "        if conditional:\n",
    "            loss = model(batch, batch_in, batch_out, mask)\n",
    "        else:\n",
    "            loss = model(batch_in, batch_out, mask)\n",
    "        losses.append(loss.item())\n",
    "        \n",
    "        optimizer.zero_grad()\n",
    "        loss.backward()\n",
    "        nn.utils.clip_grad_norm_(model.parameters(), grad_clip)\n",
    "        optimizer.step()\n",
    "        \n",
    "        if batch_per_epoch % 500 == 0:\n",
    "            plot(epoch, losses)\n",
    "            draw(idx)\n",
    "            \n",
    "        idx += 1\n",
    "        \n",
    "        if epoch % 5 ==0 and epoch != 0:\n",
    "            for param_group in optimizer.param_groups:\n",
    "                param_group['lr'] = lr * lr_decay\n",
    "        \n",
    "    epoch += 1"
   ]
  },
  {
   "cell_type": "markdown",
   "metadata": {},
   "source": [
    "<h2>HomeWork</h2>\n",
    "\n",
    "<p>1. Добавьте learning decay для лучшей сходимости [1 бал]</p>\n",
    "<p>2. Натреньте сетку на других датасетах google sketchs [5 балов]</p>\n",
    "<p>3. Сделайте рефакторинг кода модели [3 бала]</p>\n",
    "<p>4. Натренируйте Unconditional Decoder на нескольких объеденных датасетах. Покажите какие рисунки генерит сеть при разной темпретуре [10 балов]</p>\n",
    "<p><b>Bonus:</b> Сделайте \"AR\" рисовалку. Можно применить edge detection для фото и дорисовывать скетчи [30 балов]</p>\n",
    "<img src=\"https://i.imgur.com/tkYiWlf.png\" >"
   ]
  },
  {
   "cell_type": "markdown",
   "metadata": {},
   "source": [
    "### 1. Добавьте learning decay для лучшей сходимости [1 бал]\n",
    " Done!\n"
   ]
  },
  {
   "cell_type": "code",
   "execution_count": 99,
   "metadata": {},
   "outputs": [
    {
     "data": {
      "image/jpeg": "[encoded data removed]",
      "text/plain": [
       "<IPython.core.display.Image object>"
      ]
     },
     "execution_count": 99,
     "metadata": {},
     "output_type": "execute_result"
    }
   ],
   "source": [
    "### 2. Натреньте сетку на других датасетах google sketchs [5 балов]\n",
    "#bicycle dataset\n",
    "from IPython.display import Image\n",
    "Image(filename='Images/image_56524.jpg')"
   ]
  },
  {
   "cell_type": "markdown",
   "metadata": {},
   "source": [
    "4. Натренируйте Unconditional Decoder на нескольких объеденных датасетах. Покажите какие рисунки генерит сеть при разной темпретуре [10 балов]"
   ]
  },
  {
   "cell_type": "code",
   "execution_count": 102,
   "metadata": {},
   "outputs": [],
   "source": [
    "class UnconditionalModel(nn.Module):\n",
    "    def __init__(self, z_size):\n",
    "        super(UnconditionalModel, self).__init__()\n",
    "        self.z_size = z_size\n",
    "        \n",
    "    def forward(self, batch_in, batch_out, mask):\n",
    "        \n",
    "        #инициализируем нулями как написано в пейпере\n",
    "        z = torch.zeros(batch_in.size(0), self.z_size).to(batch_in.device)\n",
    "        dec_input = torch.cat([batch_in, z.unsqueeze(1).repeat(1, batch_in.size(1), 1)], -1)\n",
    "        weight, mean_x, mean_y, std_x, std_y, rho_xy, pen_probs, _ = self.decoder(dec_input, z)\n",
    "\n",
    "        #gmm loss\n",
    "        x = batch_out[:,:,0].unsqueeze(-1)\n",
    "        y = batch_out[:,:,1].unsqueeze(-1)\n",
    "        gmm_loss = compute_gmm_loss(x, y, mean_x, mean_y, std_x, std_y, rho_xy, weight, mask)\n",
    "        \n",
    "        #cross entropy loss\n",
    "        pen_target = batch_out[:,:,2:]\n",
    "        pen_loss   = compute_pen_loss(pen_target, pen_probs)\n",
    "\n",
    "        loss = gmm_loss + pen_loss\n",
    "        \n",
    "        return loss"
   ]
  },
  {
   "cell_type": "code",
   "execution_count": 101,
   "metadata": {},
   "outputs": [
    {
     "data": {
      "image/jpeg": "[encoded data removed]",
      "text/plain": [
       "<IPython.core.display.Image object>"
      ]
     },
     "execution_count": 101,
     "metadata": {},
     "output_type": "execute_result"
    }
   ],
   "source": [
    "#Результат unconditional model\n",
    "Image(filename='Images/uncond/image_51146.jpg')"
   ]
  }
 ],
 "metadata": {
  "kernelspec": {
   "display_name": "Python 2",
   "language": "python",
   "name": "python2"
  },
  "language_info": {
   "codemirror_mode": {
    "name": "ipython",
    "version": 3
   },
   "file_extension": ".py",
   "mimetype": "text/x-python",
   "name": "python",
   "nbconvert_exporter": "python",
   "pygments_lexer": "ipython3",
   "version": "3.6.5"
  }
 },
 "nbformat": 4,
 "nbformat_minor": 2
}
