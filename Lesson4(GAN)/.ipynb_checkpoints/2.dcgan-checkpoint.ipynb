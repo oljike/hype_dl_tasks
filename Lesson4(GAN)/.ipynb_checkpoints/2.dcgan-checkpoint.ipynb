{
 "cells": [
  {
   "cell_type": "code",
   "execution_count": 2,
   "metadata": {},
   "outputs": [],
   "source": [
    "import os\n",
    "import math\n",
    "import random\n",
    "\n",
    "import numpy as np\n",
    "\n",
    "import torch\n",
    "import torch.nn as nn\n",
    "import torch.optim as optim\n",
    "import torch.nn.functional as F\n",
    "\n",
    "import torch.utils.data\n",
    "import torchvision\n",
    "import torchvision.datasets as datasets\n",
    "import torchvision.transforms as transforms\n",
    "\n",
    "device = torch.device('cuda' if torch.cuda.is_available() else 'cpu')"
   ]
  },
  {
   "cell_type": "code",
   "execution_count": 3,
   "metadata": {},
   "outputs": [],
   "source": [
    "from IPython.display import clear_output\n",
    "import matplotlib.pyplot as plt\n",
    "%matplotlib inline"
   ]
  },
  {
   "cell_type": "code",
   "execution_count": 4,
   "metadata": {},
   "outputs": [
    {
     "name": "stdout",
     "output_type": "stream",
     "text": [
      "torch.Size([64, 3, 32, 32])\n",
      "torch.Size([64, 3, 16, 16])\n",
      "torch.Size([64, 3, 31, 31])\n"
     ]
    }
   ],
   "source": [
    "x = torch.rand(64, 3, 32, 32)\n",
    "\n",
    "conv = nn.Conv2d(3, 3, kernel_size=4, stride=2, padding=1)\n",
    "\n",
    "y = conv(x)\n",
    "\n",
    "deconv = nn.ConvTranspose2d(3, 3, kernel_size=3, stride=2, padding=1)\n",
    "\n",
    "x_hat = deconv(y)\n",
    "\n",
    "print(x.size())\n",
    "print(y.size())\n",
    "print(x_hat.size())"
   ]
  },
  {
   "cell_type": "code",
   "execution_count": 5,
   "metadata": {},
   "outputs": [],
   "source": [
    "batch_size = 32\n",
    "\n",
    "dataloader = torch.utils.data.DataLoader(\n",
    "    datasets.MNIST('./data/mnist', train=True, download=True,\n",
    "                   transform=transforms.Compose([\n",
    "                       transforms.ToTensor(),\n",
    "                       transforms.Normalize((0.5, 0.5, 0.5), (0.5, 0.5, 0.5))\n",
    "                   ])),\n",
    "    batch_size=batch_size, \n",
    "    shuffle=True)"
   ]
  },
  {
   "cell_type": "code",
   "execution_count": 8,
   "metadata": {},
   "outputs": [],
   "source": [
    "def weights_init(m):\n",
    "    if isinstance(m, nn.ConvTranspose2d) or isinstance(m, nn.Conv2d):\n",
    "        m.weight.data.normal_(mean=0.0, std=0.02)\n",
    "    elif isinstance(m, nn.BatchNorm2d):\n",
    "        if m.weight is not None:\n",
    "            m.weight.data.normal_(mean=1.0, std=0.02)\n",
    "        if m.bias is not None:\n",
    "            m.bias.data.fill_(0)"
   ]
  },
  {
   "cell_type": "code",
   "execution_count": 7,
   "metadata": {},
   "outputs": [
    {
     "name": "stdout",
     "output_type": "stream",
     "text": [
      "4 4\n"
     ]
    }
   ],
   "source": [
    "import math\n",
    "\n",
    "def filter(x,y, kernel, stride, pad=1):\n",
    "    return math.floor((x +2*pad - kernel) / stride + 1), math.floor((y + 2*pad - kernel) / stride + 1)\n",
    "\n",
    "def cal_output_sise(x, y):\n",
    "    x, y = filter(x, y, 3, 2)\n",
    "    x, y = filter(x, y, 3, 2)\n",
    "    x, y = filter(x, y, 3, 2)\n",
    "    print((x),(y))\n",
    "\n",
    "cal_output_sise(28, 28)"
   ]
  },
  {
   "cell_type": "code",
   "execution_count": 5,
   "metadata": {},
   "outputs": [],
   "source": [
    "# 32  kernel_size 4 stride 2 padding 1\n",
    "# 64  kernel_size 4 stride 2 padding 1\n",
    "# 1   kernel_size 7 stride 1 padding 0\n",
    "\n",
    "\n",
    "class Discriminator(nn.Module):\n",
    "    def __init__(self):\n",
    "        super(Discriminator, self).__init__()\n",
    "        \n",
    "        self.conv_1 = nn.Conv2d(1, 3, kernel_size=3, stride=2, padding=1)\n",
    "        \n",
    "        self.conv_2 = nn.Conv2d(3, 32, kernel_size=3, stride=2, padding=1)\n",
    "        self.batch_norm_1 = nn.BatchNorm2d(32)\n",
    "        \n",
    "        self.conv_3 = nn.Conv2d(32, 64, kernel_size=3, stride=2, padding=1)\n",
    "        self.batch_norm_2 = nn.BatchNorm2d(64)\n",
    "        \n",
    "        self.linear = nn.Linear(64 * 4 * 4, 128)\n",
    "        self.linear_2 = nn.Linear(128, 1)\n",
    "        \n",
    "        self.apply(weights_init)\n",
    "        \n",
    "    def forward(self, image):\n",
    "        '''\n",
    "        Inputs:\n",
    "            image: (batch x 1 x 28 x 28)\n",
    "        Outputs:\n",
    "            prob: (batch x 1)\n",
    "        '''\n",
    "        \n",
    "        \n",
    "        \n",
    "\n",
    "    \n",
    "    \n",
    "class Generator(nn.Module):\n",
    "    def __init__(self, z_size):\n",
    "        super(Generator, self).__init__()\n",
    "        \n",
    "        \n",
    "        self.apply(weights_init)\n",
    "\n",
    "    def forward(self, noise):\n",
    "        '''\n",
    "        Inputs:\n",
    "            noise: (batch x latent_size)\n",
    "        Outputs:\n",
    "            image: (batch x 1 x 28 x 28)\n",
    "        '''\n",
    "        \n",
    "        \n",
    "        "
   ]
  },
  {
   "cell_type": "code",
   "execution_count": 6,
   "metadata": {},
   "outputs": [],
   "source": []
  },
  {
   "cell_type": "code",
   "execution_count": 6,
   "metadata": {},
   "outputs": [],
   "source": [
    "def show(img):\n",
    "    npimg = img.numpy()\n",
    "    plt.imshow(np.transpose(npimg, (1,2,0)), interpolation='nearest')"
   ]
  },
  {
   "cell_type": "code",
   "execution_count": null,
   "metadata": {},
   "outputs": [],
   "source": [
    "latent_size = 100\n",
    "\n",
    "generator     = Generator(latent_size).to(device)\n",
    "discriminator = Discriminator().to(device)\n",
    "\n",
    "adversarial_loss = nn.BCELoss()\n",
    "\n",
    "lr    = 0.0002\n",
    "beta1 = 0.5\n",
    "beta2 = 0.999\n",
    "\n",
    "gen_optimizer = optim.Adam(generator.parameters(),     lr=lr, betas=(beta1, beta2))\n",
    "dis_optimizer = optim.Adam(discriminator.parameters(), lr=lr, betas=(beta1, beta2))\n",
    "\n",
    "\n",
    "epoch      = 0\n",
    "num_epochs = 25\n",
    "\n",
    "dis_losses = []\n",
    "gen_losses = []"
   ]
  },
  {
   "cell_type": "code",
   "execution_count": null,
   "metadata": {},
   "outputs": [],
   "source": [
    "while epoch < num_epochs:\n",
    "    for batch_idx, (image, _) in enumerate(dataloader):\n",
    "        image = image.to(device)\n",
    "        \n",
    "        real_labels = torch.ones(batch_size, 1).to(device)\n",
    "        fake_labels = torch.zeros(batch_size, 1).to(device)\n",
    "\n",
    "        ################\n",
    "        #Train Generator\n",
    "        ################\n",
    "        \n",
    "        #code here\n",
    "        \n",
    "        ####################\n",
    "        #Train Discriminator\n",
    "        ####################\n",
    "\n",
    "        #code here\n",
    "        \n",
    "        \n",
    "        dis_losses.append(discriminator_loss.item()) \n",
    "        gen_losses.append(generator_loss.item())\n",
    "        \n",
    "        if batch_idx % 500 == 0:\n",
    "            show(torchvision.utils.make_grid(generated_image.cpu().detach()))\n",
    "        \n",
    "    epoch += 1"
   ]
  },
  {
   "cell_type": "markdown",
   "metadata": {},
   "source": [
    "<h2>Дополнительная теория</h2>\n",
    "<h3>Batch Norm: https://www.youtube.com/watch?v=nUUqwaxLnWs</h3>\n",
    "<h3>Convolutions and Deconvolutions: http://deeplearning.net/software/theano/tutorial/conv_arithmetic.html</h3>\n",
    "<h3>Up-sampling with Transposed Convolution: https://towardsdatascience.com/up-sampling-with-transposed-convolution-9ae4f2df52d0</h3>"
   ]
  }
 ],
 "metadata": {
  "kernelspec": {
   "display_name": "Python 3",
   "language": "python",
   "name": "python3"
  },
  "language_info": {
   "codemirror_mode": {
    "name": "ipython",
    "version": 3
   },
   "file_extension": ".py",
   "mimetype": "text/x-python",
   "name": "python",
   "nbconvert_exporter": "python",
   "pygments_lexer": "ipython3",
   "version": "3.6.5"
  }
 },
 "nbformat": 4,
 "nbformat_minor": 2
}
