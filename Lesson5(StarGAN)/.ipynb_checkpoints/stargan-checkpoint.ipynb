{
 "cells": [
  {
   "cell_type": "code",
   "execution_count": 1,
   "metadata": {},
   "outputs": [],
   "source": [
    "import os\n",
    "import math\n",
    "import random\n",
    "\n",
    "import numpy as np\n",
    "\n",
    "import torch\n",
    "import torch.nn as nn\n",
    "import torch.optim as optim\n",
    "import torch.nn.functional as F\n",
    "\n",
    "import torch.utils.data\n",
    "import torchvision\n",
    "import torchvision.datasets as datasets\n",
    "import torchvision.transforms as transforms\n",
    "\n",
    "device = torch.device('cuda' if torch.cuda.is_available() else 'cpu')"
   ]
  },
  {
   "cell_type": "code",
   "execution_count": 53,
   "metadata": {},
   "outputs": [
    {
     "name": "stdout",
     "output_type": "stream",
     "text": [
      "Once deleted, variables cannot be recovered. Proceed (y/[n])? y\n"
     ]
    }
   ],
   "source": [
    "reset"
   ]
  },
  {
   "cell_type": "code",
   "execution_count": 2,
   "metadata": {},
   "outputs": [],
   "source": [
    "from IPython.display import clear_output\n",
    "import matplotlib.pyplot as plt\n",
    "%matplotlib inline"
   ]
  },
  {
   "cell_type": "code",
   "execution_count": 3,
   "metadata": {},
   "outputs": [],
   "source": [
    "from torchvision.datasets import ImageFolder\n",
    "from PIL import Image\n",
    "\n",
    "class CelebA(torch.utils.data.Dataset):\n",
    "    def __init__(self, image_dir, attr_path, selected_attrs, transform, mode):\n",
    "        self.image_dir = image_dir\n",
    "        self.attr_path = attr_path\n",
    "        self.selected_attrs = selected_attrs\n",
    "        self.transform = transform\n",
    "        self.mode = mode\n",
    "        self.train_dataset = []\n",
    "        self.test_dataset = []\n",
    "        self.attr2idx = {}\n",
    "        self.idx2attr = {}\n",
    "        self.preprocess()\n",
    "\n",
    "        if mode == 'train':\n",
    "            self.num_images = len(self.train_dataset)\n",
    "        else:\n",
    "            self.num_images = len(self.test_dataset)\n",
    "\n",
    "    def preprocess(self):\n",
    "        \"\"\"Preprocess the CelebA attribute file.\"\"\"\n",
    "        lines = [line.rstrip() for line in open(self.attr_path, 'r')]\n",
    "        all_attr_names = lines[0].split(',')\n",
    "        for i, attr_name in enumerate(all_attr_names):\n",
    "            if attr_name == 'image_id':\n",
    "                continue\n",
    "            self.attr2idx[attr_name] = i - 1\n",
    "            self.idx2attr[i - 1] = attr_name\n",
    "            \n",
    "        lines = lines[1:]\n",
    "        random.seed(1234)\n",
    "        random.shuffle(lines)\n",
    "        for i, line in enumerate(lines):\n",
    "            split = line.split(',')\n",
    "            filename = split[0]\n",
    "            values = split[1:]\n",
    "            \n",
    "            label = []\n",
    "            \n",
    "            for attr_name in self.selected_attrs:\n",
    "                idx = self.attr2idx[attr_name]\n",
    "                label.append(values[idx] == '1')\n",
    "\n",
    "            if (i+1) < 2000:\n",
    "                self.test_dataset.append([filename, label])\n",
    "            else:\n",
    "                self.train_dataset.append([filename, label])\n",
    "\n",
    "        print('Finished preprocessing the CelebA dataset...')\n",
    "\n",
    "    def __getitem__(self, index):\n",
    "        \"\"\"Return one image and its corresponding attribute label.\"\"\"\n",
    "        dataset = self.train_dataset if self.mode == 'train' else self.test_dataset\n",
    "        filename, label = dataset[index]\n",
    "        image = Image.open(os.path.join(self.image_dir, filename))\n",
    "        return self.transform(image), torch.FloatTensor(label)\n",
    "\n",
    "    def __len__(self):\n",
    "        \"\"\"Return the number of images.\"\"\"\n",
    "        return self.num_images"
   ]
  },
  {
   "cell_type": "code",
   "execution_count": 4,
   "metadata": {},
   "outputs": [
    {
     "name": "stdout",
     "output_type": "stream",
     "text": [
      "Finished preprocessing the CelebA dataset...\n"
     ]
    }
   ],
   "source": [
    "img_path       = 'img_align_celeba'\n",
    "attr_path      = 'list_attr_celeba.csv'\n",
    "selected_attrs = ['Black_Hair', 'Blond_Hair', 'Brown_Hair', 'Male', 'Young']\n",
    "\n",
    "from torchvision import transforms\n",
    "crop_size=178\n",
    "image_size=128\n",
    "batch_size=2\n",
    "\n",
    "transform = transforms.Compose([transforms.RandomHorizontalFlip(), \n",
    "             transforms.CenterCrop(crop_size), \n",
    "             transforms.Resize(image_size), transforms.ToTensor(),\n",
    "             transforms.Normalize(mean=(0.5, 0.5, 0.5), std=(0.5, 0.5, 0.5))])\n",
    "\n",
    "mode='train'\n",
    "dataset = CelebA(img_path, \n",
    "                 attr_path, \n",
    "                 selected_attrs, \n",
    "                 transform,\n",
    "                 mode)"
   ]
  },
  {
   "cell_type": "code",
   "execution_count": 38,
   "metadata": {},
   "outputs": [
    {
     "name": "stderr",
     "output_type": "stream",
     "text": [
      "Clipping input data to the valid range for imshow with RGB data ([0..1] for floats or [0..255] for integers).\n"
     ]
    },
    {
     "data": {
      "text/plain": [
       "<matplotlib.image.AxesImage at 0x7f7531706828>"
      ]
     },
     "execution_count": 38,
     "metadata": {},
     "output_type": "execute_result"
    },
    {
     "data": {
      "image/png": "[encoded data removed]",
      "text/plain": [
       "<Figure size 432x288 with 1 Axes>"
      ]
     },
     "metadata": {},
     "output_type": "display_data"
    }
   ],
   "source": [
    "plt.imshow(image.detach().cpu().permute(1, 2, 0).numpy())"
   ]
  },
  {
   "cell_type": "code",
   "execution_count": 5,
   "metadata": {},
   "outputs": [],
   "source": [
    "dataloader = torch.utils.data.DataLoader(dataset=dataset,\n",
    "                                         batch_size=batch_size,\n",
    "                                         shuffle=(mode=='train'))"
   ]
  },
  {
   "cell_type": "code",
   "execution_count": 6,
   "metadata": {
    "code_folding": [
     1,
     16,
     27,
     39
    ]
   },
   "outputs": [],
   "source": [
    "class StarWGAN(object):\n",
    "    def __init__(self, dataloader, discriminator, generator, dis_optimizer, gen_optimizer, save_images_path='./stargan_images'):\n",
    "        self.dataloader    = dataloader\n",
    "        self.discriminator = discriminator\n",
    "        self.generator     = generator\n",
    "        self.dis_optimizer = dis_optimizer\n",
    "        self.gen_optimizer = gen_optimizer\n",
    "        self.save_images_path = save_images_path\n",
    "        \n",
    "        self.start_iters = 0\n",
    "\n",
    "        self.num_iters_decay = 100000\n",
    "        self.lr_update_step = 1000\n",
    "        self.n_critic = 5       \n",
    "        \n",
    "    def gradient_penalty(self, y, x, lambda_gp=10):\n",
    "        grads  = torch.autograd.grad(outputs=y,\n",
    "                                     inputs=x,\n",
    "                                     grad_outputs=torch.ones_like(y),\n",
    "                                     retain_graph=True,\n",
    "                                     create_graph=True,\n",
    "                                     only_inputs=True)[0]\n",
    "        loss = ((grads.norm(2, dim=1) - 1) ** 2).mean()\n",
    "\n",
    "        return loss * lambda_gp\n",
    "    \n",
    "    def update_lr(self, i, num_iters):\n",
    "            if (i + 1) % self.lr_update_step == 0 and (i + 1) > (num_iters - self.num_iters_decay):\n",
    "                for param_group in gen_optimizer.param_groups:\n",
    "                    gen_lr = param_group['lr']\n",
    "                    gen_lr -= (gen_lr / float(self.num_iters_decay))\n",
    "                    param_group['lr'] = gen_lr\n",
    "                    \n",
    "                for param_group in dis_optimizer.param_groups:\n",
    "                    dis_lr = param_group['lr']\n",
    "                    dis_lr -= (dis_lr / float(self.num_iters_decay))\n",
    "                    param_group['lr'] = dis_lr\n",
    "\n",
    "    def save_image(self, i, x_fake):\n",
    "        if i % 1000 == 0:\n",
    "            torchvision.utils.save_image(x_fake.data,\n",
    "                                             '%s/%d.png' % (self.save_images_path, i),\n",
    "                                             normalize=True)\n",
    "            \n",
    "    def train(self, num_iters):\n",
    "        start_iters = self.start_iters\n",
    "        \n",
    "        for i in range(start_iters, num_iters):\n",
    "            self.start_iters += 1\n",
    "            \n",
    "            try:\n",
    "                x_real, label_org = next(data_iter)\n",
    "            except:\n",
    "                data_iter = iter(self.dataloader)\n",
    "                x_real, label_org = next(data_iter)\n",
    "\n",
    "            rand_idx = torch.randperm(label_org.size(0))\n",
    "            label_trg = label_org[rand_idx]\n",
    "\n",
    "            c_org = label_org.clone()\n",
    "            c_trg = label_trg.clone()\n",
    "\n",
    "            x_real = x_real.to(device)           \n",
    "            c_org = c_org.to(device)             \n",
    "            c_trg = c_trg.to(device)             \n",
    "            label_org = label_org.to(device)     \n",
    "            label_trg = label_trg.to(device) \n",
    "\n",
    "            real_out_src, real_out_cls = self.discriminator(x_real)\n",
    "\n",
    "            x_fake = self.generator(x_real, c_trg)\n",
    "            fake_out_src, fake_out_cls = self.discriminator(x_fake.detach())\n",
    "\n",
    "            alpha = torch.rand(x_real.size(0), 1, 1, 1).to(x_real.device)\n",
    "            x_hat = (alpha * x_real.data + (1 - alpha) * x_fake.data).requires_grad_(True)\n",
    "            out_src, _ = self.discriminator(x_hat)\n",
    "            \n",
    "            d_loss_gp  = self.gradient_penalty(out_src, x_hat)\n",
    "            d_loss     = self.discriminator_loss(real_out_src, fake_out_src)\n",
    "            d_loss_cls = self.classification_loss(real_out_cls, label_org)\n",
    "    \n",
    "            d_loss += d_loss_cls + d_loss_gp\n",
    "\n",
    "            self.dis_optimizer.zero_grad()\n",
    "            d_loss.backward()\n",
    "            self.dis_optimizer.step()\n",
    "\n",
    "            if (i+1) % self.n_critic == 0:\n",
    "                x_fake           = self.generator(x_real, c_trg)\n",
    "                out_src, out_cls = self.discriminator(x_fake)\n",
    "                \n",
    "                g_loss_fake = self.generator_loss(out_src)\n",
    "                g_loss_cls  = self.classification_loss(out_cls, label_trg)\n",
    "\n",
    "                x_reconst  = self.generator(x_fake, c_org)\n",
    "                g_loss_rec = self.reconstruct_loss(x_real, x_reconst)\n",
    "\n",
    "                g_loss = g_loss_fake + g_loss_rec + g_loss_cls\n",
    "\n",
    "                self.gen_optimizer.zero_grad()\n",
    "                g_loss.backward()\n",
    "                self.gen_optimizer.step()\n",
    "            \n",
    "            self.update_lr(i, num_iters)\n",
    "            self.save_image(i, x_fake)"
   ]
  },
  {
   "cell_type": "code",
   "execution_count": 13,
   "metadata": {
    "code_folding": [
     0,
     22,
     91,
     92
    ]
   },
   "outputs": [],
   "source": [
    "class ResBlock(nn.Module):\n",
    "    def __init__(self, in_channels, out_channels):\n",
    "        super(ResBlock, self).__init__()\n",
    "        \n",
    "        self.conv_1 = nn.Conv2d(in_channels, out_channels, kernel_size=3, stride=1, padding=1)\n",
    "        self.norm_1 = nn.InstanceNorm2d(out_channels, affine=True, track_running_stats=True)\n",
    "        \n",
    "        self.conv_2 = nn.Conv2d(in_channels, out_channels, kernel_size=3, stride=1, padding=1)\n",
    "        self.norm_2 = nn.InstanceNorm2d(out_channels, affine=True, track_running_stats=True)\n",
    "        \n",
    "        \n",
    "    def forward(self, x):\n",
    "        \n",
    "        x_res = self.conv_1(x)\n",
    "        x_res = self.norm_1(x_res)\n",
    "        x_res = F.relu(x_res)\n",
    "        \n",
    "        x_res = self.conv_2(x_res)\n",
    "        x_res = self.norm_2(x_res)        \n",
    "        \n",
    "        return x + x_res \n",
    "    \n",
    "class Generator(nn.Module):\n",
    "    def __init__(self, hid_channels=64, cat_features=5, num_bottlenecks=6):\n",
    "        super(Generator, self).__init__()\n",
    "        \n",
    "        #Downsampling layers\n",
    "        self.conv_1 = nn.Conv2d(3 + cat_features, 64, 7, 1, 3, bias=False)\n",
    "        self.norm_1 = nn.InstanceNorm2d(64, affine=True, track_running_stats=True)\n",
    "        \n",
    "        self.conv_2 = nn.Conv2d(64, 128, 4, 2, 1, bias=False)\n",
    "        self.norm_2 = nn.InstanceNorm2d(128, affine=True, track_running_stats=True)\n",
    "        \n",
    "        self.conv_3 = nn.Conv2d(128, 256, 4, 2, 1, bias=False)\n",
    "        self.norm_3 = nn.InstanceNorm2d(256, affine=True, track_running_stats=True)\n",
    "        \n",
    "        \n",
    "        self.Bottleneck = nn.Sequential(*[\n",
    "                            ResBlock(256, 256) for _ in range(num_bottlenecks)\n",
    "        ])\n",
    "        \n",
    "        #UpSampling\n",
    "        self.conv_4 = nn.ConvTranspose2d(256, 128, 4, 2, 1, bias=True)\n",
    "        self.norm_4 = nn.InstanceNorm2d(128, affine=True, track_running_stats=True)\n",
    "            \n",
    "        self.conv_5 = nn.ConvTranspose2d(128, 64, 4, 2, 1, bias=True)\n",
    "        self.norm_5 = nn.InstanceNorm2d(64, affine=True, track_running_stats=True)\n",
    "        \n",
    "        self.conv_6 = nn.Conv2d(64, 3, 7, 1, 3, bias=True)\n",
    "        \n",
    "        \n",
    "    def forward(self, x, cat_features):\n",
    "        '''\n",
    "        Inputs:\n",
    "            x: (batch x 3 x 128 x 128)\n",
    "            cat_features: (batch x num_cat_features)\n",
    "        Outputs:\n",
    "            image: (batch x 3 x 128 x 128)\n",
    "        '''\n",
    "\n",
    "        cat_features = cat_features.unsqueeze(-1).unsqueeze(-1).repeat(1, 1, x.size(-1), x.size(-1))\n",
    "        x = torch.cat([x, cat_features], dim = 1)\n",
    "        \n",
    "        x = self.conv_1(x)\n",
    "        x = self.norm_1(x)\n",
    "        x = F.relu(x)\n",
    "        \n",
    "        x = self.conv_2(x)\n",
    "        x = self.norm_2(x)\n",
    "        x = F.relu(x)\n",
    "        \n",
    "        x = self.conv_3(x)\n",
    "        x = self.norm_3(x)\n",
    "        x = F.relu(x)\n",
    "                \n",
    "        x = self.Bottleneck(x)\n",
    "        \n",
    "        x = self.conv_4(x)\n",
    "        x = self.norm_4(x)\n",
    "        x = F.relu(x)\n",
    "        \n",
    "        x = self.conv_5(x)\n",
    "        x = self.norm_5(x)\n",
    "        x = F.relu(x)\n",
    "        \n",
    "        x = self.conv_6(x)\n",
    "        x = F.tanh(x)\n",
    "        \n",
    "\n",
    "        return x\n",
    "               \n",
    "class Discriminator(nn.Module):\n",
    "    def __init__(self, image_size=128, hid_channels=64, cat_features=5):\n",
    "        super(Discriminator, self).__init__()\n",
    "        \n",
    "        self.conv_1 = nn.Conv2d(3, 64, 4, 2, 1, bias = False)\n",
    "        self.conv_2 = nn.Conv2d(64, 128, 4, 2, 1, bias = False)\n",
    "        self.conv_3 = nn.Conv2d(128, 256, 4, 2, 1, bias = False)\n",
    "        self.conv_4 = nn.Conv2d(256, 512, 4, 2, 1, bias = False)\n",
    "        self.conv_5 = nn.Conv2d(512, 1024, 4, 2, 1, bias = False)\n",
    "        self.conv_6 = nn.Conv2d(1024, 2048, 4, 2, 1, bias = False)\n",
    "        \n",
    "        self.conv_output = nn.Conv2d(2048, 1, 3, 1, 1, bias = False)\n",
    "        self.conv_clc = nn.Conv2d(2048, cat_features, kernel_size=int(image_size/2**6), bias = False)\n",
    "        \n",
    "    def forward(self, x):\n",
    "        '''\n",
    "        Inputs:\n",
    "            x: (batch x 3 x 128 x 128)\n",
    "        Outputs:\n",
    "            output: (batch x 1 x 2 x 2)\n",
    "            binary_logits: (batch x num_cat_features)\n",
    "        '''\n",
    "        x = self.conv_1(x)\n",
    "        x = F.leaky_relu(x, 0.01)\n",
    "        \n",
    "        x = self.conv_2(x)\n",
    "        x = F.leaky_relu(x, 0.01)\n",
    "        \n",
    "        x = self.conv_3(x)\n",
    "        x = F.leaky_relu(x, 0.01)\n",
    "        \n",
    "        x = self.conv_4(x)\n",
    "        x = F.leaky_relu(x, 0.01)\n",
    "        \n",
    "        x = self.conv_5(x)\n",
    "        x = F.leaky_relu(x, 0.01)\n",
    "        \n",
    "        x = self.conv_6(x)\n",
    "        x = F.leaky_relu(x, 0.01)\n",
    "        \n",
    "        output = self.conv_output(x)\n",
    "        binary_logits = self.conv_clc(x)\n",
    "        binary_logits = binary_logits.squeeze(-1).squeeze(-1)\n",
    "        \n",
    "        return output, binary_logits"
   ]
  },
  {
   "cell_type": "code",
   "execution_count": 8,
   "metadata": {},
   "outputs": [],
   "source": [
    "generator = Generator().to(device)\n",
    "discriminator = Discriminator().to(device)"
   ]
  },
  {
   "cell_type": "code",
   "execution_count": 43,
   "metadata": {},
   "outputs": [],
   "source": [
    "output, binary = discriminator(torch.rand(2, 3, 128, 128).to(device))"
   ]
  },
  {
   "cell_type": "code",
   "execution_count": 44,
   "metadata": {},
   "outputs": [
    {
     "data": {
      "text/plain": [
       "(torch.Size([2, 1, 2, 2]), torch.Size([2, 5]))"
      ]
     },
     "execution_count": 44,
     "metadata": {},
     "output_type": "execute_result"
    }
   ],
   "source": [
    "output.size(), binary.size()"
   ]
  },
  {
   "cell_type": "code",
   "execution_count": 14,
   "metadata": {},
   "outputs": [],
   "source": [
    "class MyGAN(StarWGAN):\n",
    "    def discriminator_loss(self, real_output, fake_output):\n",
    "        '''\n",
    "        Inputs:\n",
    "            real_output: (batch x ***)\n",
    "            fake_output: (batch x ***)\n",
    "        Outputs:\n",
    "            loss: scalar\n",
    "        '''\n",
    "        return fake_output.mean() - real_output.mean()\n",
    "    \n",
    "    def generator_loss(self, fake_output):\n",
    "        '''\n",
    "        Inputs:\n",
    "            fake_output: (batch x ***)\n",
    "        Outputs:\n",
    "            loss: scalar\n",
    "        '''\n",
    "        return -fake_output.mean()\n",
    "    \n",
    "    def reconstruct_loss(self, real_image, reconstruction, lambda_rec=10):\n",
    "        '''\n",
    "        Inputs:\n",
    "            real_image:     (batch x 3 x 128 x 128)\n",
    "            reconstruction: (batch x 3 x 128 x 128)\n",
    "        Outputs:\n",
    "            loss: scalar\n",
    "        '''\n",
    "        return (reconstruction - real_image).abs().mean() * lambda_rec\n",
    "    \n",
    "    def classification_loss(self, binary_logits, target, lambda_cls=1):\n",
    "        '''\n",
    "        Inputs:\n",
    "            binary_logits: (batch x num_classes)\n",
    "            target:        (batch x num_classes)\n",
    "        '''\n",
    "        loss = F.binary_cross_entropy_with_logits(binary_logits, target, size_average=False) / binary_logits.size(0)\n",
    "        \n",
    "        return loss * lambda_cls       "
   ]
  },
  {
   "cell_type": "code",
   "execution_count": 15,
   "metadata": {},
   "outputs": [],
   "source": [
    "device = 'cuda'\n",
    "generator     = Generator().to(device)\n",
    "discriminator = Discriminator(128).to(device)\n",
    "\n",
    "lr    = 0.0001\n",
    "beta1 = 0.5\n",
    "beta2 = 0.999\n",
    "\n",
    "gen_optimizer = optim.Adam(generator.parameters(),     lr, [beta1, beta2])\n",
    "dis_optimizer = optim.Adam(discriminator.parameters(), lr, [beta1, beta2])"
   ]
  },
  {
   "cell_type": "code",
   "execution_count": 16,
   "metadata": {},
   "outputs": [],
   "source": [
    "gan = MyGAN(dataloader, \n",
    "            discriminator, \n",
    "            generator, \n",
    "            dis_optimizer, \n",
    "            gen_optimizer,\n",
    "            save_images_path='./stargan_images')"
   ]
  },
  {
   "cell_type": "code",
   "execution_count": 17,
   "metadata": {},
   "outputs": [
    {
     "name": "stderr",
     "output_type": "stream",
     "text": [
      "/home/oljike/PycharmProjects/TopicModelling/venv/lib/python3.6/site-packages/torch/nn/functional.py:995: UserWarning: nn.functional.tanh is deprecated. Use torch.tanh instead.\n",
      "  warnings.warn(\"nn.functional.tanh is deprecated. Use torch.tanh instead.\")\n",
      "/home/oljike/PycharmProjects/TopicModelling/venv/lib/python3.6/site-packages/torch/nn/functional.py:52: UserWarning: size_average and reduce args will be deprecated, please use reduction='sum' instead.\n",
      "  warnings.warn(warning.format(ret))\n"
     ]
    },
    {
     "ename": "KeyboardInterrupt",
     "evalue": "",
     "output_type": "error",
     "traceback": [
      "\u001b[0;31m---------------------------------------------------------------------------\u001b[0m",
      "\u001b[0;31mKeyboardInterrupt\u001b[0m                         Traceback (most recent call last)",
      "\u001b[0;32m<ipython-input-17-468726f8f1d6>\u001b[0m in \u001b[0;36m<module>\u001b[0;34m()\u001b[0m\n\u001b[0;32m----> 1\u001b[0;31m \u001b[0mgan\u001b[0m\u001b[0;34m.\u001b[0m\u001b[0mtrain\u001b[0m\u001b[0;34m(\u001b[0m\u001b[0;36m200000\u001b[0m\u001b[0;34m)\u001b[0m\u001b[0;34m\u001b[0m\u001b[0m\n\u001b[0m",
      "\u001b[0;32m<ipython-input-6-4e227fdeddb2>\u001b[0m in \u001b[0;36mtrain\u001b[0;34m(self, num_iters)\u001b[0m\n\u001b[1;32m     80\u001b[0m             \u001b[0mout_src\u001b[0m\u001b[0;34m,\u001b[0m \u001b[0m_\u001b[0m \u001b[0;34m=\u001b[0m \u001b[0mself\u001b[0m\u001b[0;34m.\u001b[0m\u001b[0mdiscriminator\u001b[0m\u001b[0;34m(\u001b[0m\u001b[0mx_hat\u001b[0m\u001b[0;34m)\u001b[0m\u001b[0;34m\u001b[0m\u001b[0m\n\u001b[1;32m     81\u001b[0m \u001b[0;34m\u001b[0m\u001b[0m\n\u001b[0;32m---> 82\u001b[0;31m             \u001b[0md_loss_gp\u001b[0m  \u001b[0;34m=\u001b[0m \u001b[0mself\u001b[0m\u001b[0;34m.\u001b[0m\u001b[0mgradient_penalty\u001b[0m\u001b[0;34m(\u001b[0m\u001b[0mout_src\u001b[0m\u001b[0;34m,\u001b[0m \u001b[0mx_hat\u001b[0m\u001b[0;34m)\u001b[0m\u001b[0;34m\u001b[0m\u001b[0m\n\u001b[0m\u001b[1;32m     83\u001b[0m             \u001b[0md_loss\u001b[0m     \u001b[0;34m=\u001b[0m \u001b[0mself\u001b[0m\u001b[0;34m.\u001b[0m\u001b[0mdiscriminator_loss\u001b[0m\u001b[0;34m(\u001b[0m\u001b[0mreal_out_src\u001b[0m\u001b[0;34m,\u001b[0m \u001b[0mfake_out_src\u001b[0m\u001b[0;34m)\u001b[0m\u001b[0;34m\u001b[0m\u001b[0m\n\u001b[1;32m     84\u001b[0m             \u001b[0md_loss_cls\u001b[0m \u001b[0;34m=\u001b[0m \u001b[0mself\u001b[0m\u001b[0;34m.\u001b[0m\u001b[0mclassification_loss\u001b[0m\u001b[0;34m(\u001b[0m\u001b[0mreal_out_cls\u001b[0m\u001b[0;34m,\u001b[0m \u001b[0mlabel_org\u001b[0m\u001b[0;34m)\u001b[0m\u001b[0;34m\u001b[0m\u001b[0m\n",
      "\u001b[0;32m<ipython-input-6-4e227fdeddb2>\u001b[0m in \u001b[0;36mgradient_penalty\u001b[0;34m(self, y, x, lambda_gp)\u001b[0m\n\u001b[1;32m     22\u001b[0m                                      \u001b[0mcreate_graph\u001b[0m\u001b[0;34m=\u001b[0m\u001b[0;32mTrue\u001b[0m\u001b[0;34m,\u001b[0m\u001b[0;34m\u001b[0m\u001b[0m\n\u001b[1;32m     23\u001b[0m                                      only_inputs=True)[0]\n\u001b[0;32m---> 24\u001b[0;31m         \u001b[0mloss\u001b[0m \u001b[0;34m=\u001b[0m \u001b[0;34m(\u001b[0m\u001b[0;34m(\u001b[0m\u001b[0mgrads\u001b[0m\u001b[0;34m.\u001b[0m\u001b[0mnorm\u001b[0m\u001b[0;34m(\u001b[0m\u001b[0;36m2\u001b[0m\u001b[0;34m,\u001b[0m \u001b[0mdim\u001b[0m\u001b[0;34m=\u001b[0m\u001b[0;36m1\u001b[0m\u001b[0;34m)\u001b[0m \u001b[0;34m-\u001b[0m \u001b[0;36m1\u001b[0m\u001b[0;34m)\u001b[0m \u001b[0;34m**\u001b[0m \u001b[0;36m2\u001b[0m\u001b[0;34m)\u001b[0m\u001b[0;34m.\u001b[0m\u001b[0mmean\u001b[0m\u001b[0;34m(\u001b[0m\u001b[0;34m)\u001b[0m\u001b[0;34m\u001b[0m\u001b[0m\n\u001b[0m\u001b[1;32m     25\u001b[0m \u001b[0;34m\u001b[0m\u001b[0m\n\u001b[1;32m     26\u001b[0m         \u001b[0;32mreturn\u001b[0m \u001b[0mloss\u001b[0m \u001b[0;34m*\u001b[0m \u001b[0mlambda_gp\u001b[0m\u001b[0;34m\u001b[0m\u001b[0m\n",
      "\u001b[0;31mKeyboardInterrupt\u001b[0m: "
     ]
    }
   ],
   "source": [
    "gan.train(200000)"
   ]
  },
  {
   "cell_type": "code",
   "execution_count": null,
   "metadata": {},
   "outputs": [],
   "source": []
  },
  {
   "cell_type": "code",
   "execution_count": null,
   "metadata": {},
   "outputs": [],
   "source": []
  },
  {
   "cell_type": "code",
   "execution_count": null,
   "metadata": {},
   "outputs": [],
   "source": []
  },
  {
   "cell_type": "code",
   "execution_count": null,
   "metadata": {},
   "outputs": [],
   "source": []
  }
 ],
 "metadata": {
  "kernelspec": {
   "display_name": "Python 3",
   "language": "python",
   "name": "python3"
  },
  "language_info": {
   "codemirror_mode": {
    "name": "ipython",
    "version": 3
   },
   "file_extension": ".py",
   "mimetype": "text/x-python",
   "name": "python",
   "nbconvert_exporter": "python",
   "pygments_lexer": "ipython3",
   "version": "3.6.5"
  }
 },
 "nbformat": 4,
 "nbformat_minor": 2
}
