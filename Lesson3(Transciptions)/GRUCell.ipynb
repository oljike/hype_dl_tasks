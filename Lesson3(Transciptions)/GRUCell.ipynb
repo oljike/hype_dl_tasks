{
 "cells": [
  {
   "cell_type": "code",
   "execution_count": 1,
   "metadata": {},
   "outputs": [],
   "source": [
    "from trans import Dataset\n",
    "import math\n",
    "import random\n",
    "\n",
    "import numpy as np\n",
    "\n",
    "import torch\n",
    "import torch.nn as nn\n",
    "import torch.optim as optim\n",
    "import torch.nn.functional as F"
   ]
  },
  {
   "cell_type": "code",
   "execution_count": 2,
   "metadata": {},
   "outputs": [],
   "source": [
    "from IPython.display import clear_output\n",
    "import matplotlib.pyplot as plt\n",
    "%matplotlib inline"
   ]
  },
  {
   "cell_type": "code",
   "execution_count": 3,
   "metadata": {},
   "outputs": [],
   "source": [
    "data = Dataset('data/transcriptions/train.csv')\n",
    "words_vocab = data.words_vocab\n",
    "trans_vocab = data.trans_vocab"
   ]
  },
  {
   "cell_type": "code",
   "execution_count": 3,
   "metadata": {},
   "outputs": [],
   "source": [
    "batch_words, batch_trans_in, batch_trans_out, words_lens, trans_lens = data.get_batch(32)"
   ]
  },
  {
   "cell_type": "code",
   "execution_count": 4,
   "metadata": {},
   "outputs": [
    {
     "data": {
      "text/plain": [
       "(torch.Size([32, 13]),\n",
       " torch.Size([32, 13]),\n",
       " torch.Size([32, 13]),\n",
       " torch.Size([32]),\n",
       " torch.Size([32]))"
      ]
     },
     "execution_count": 4,
     "metadata": {},
     "output_type": "execute_result"
    }
   ],
   "source": [
    "batch_words.size(), batch_trans_in.size(), batch_trans_out.size(), words_lens.size(), trans_lens.size()"
   ]
  },
  {
   "cell_type": "code",
   "execution_count": 9,
   "metadata": {},
   "outputs": [],
   "source": [
    "gru_cell = nn.GRUCell(32 , 64)\n",
    "gru = nn.GRU(32, 64)"
   ]
  },
  {
   "cell_type": "code",
   "execution_count": 13,
   "metadata": {},
   "outputs": [
    {
     "name": "stdout",
     "output_type": "stream",
     "text": [
      "torch.Size([12, 128, 64]) torch.Size([1, 128, 64])\n"
     ]
    }
   ],
   "source": [
    "emb = torch.rand(12, 128, 32)\n",
    "\n",
    "output, hidden = gru(emb)\n",
    "print(output.size(), hidden.size())"
   ]
  },
  {
   "cell_type": "code",
   "execution_count": 15,
   "metadata": {},
   "outputs": [
    {
     "name": "stdout",
     "output_type": "stream",
     "text": [
      "torch.Size([128, 32]) torch.Size([128, 64])\n"
     ]
    }
   ],
   "source": [
    "emb_t = emb[0, :, :]\n",
    "hidden = torch.zeros(128, 64)\n",
    "\n",
    "print(emb_t.size(), hidden.size())\n",
    "hidden = gru_cell(emb_t, hidden)"
   ]
  },
  {
   "cell_type": "code",
   "execution_count": 30,
   "metadata": {},
   "outputs": [
    {
     "name": "stdout",
     "output_type": "stream",
     "text": [
      "torch.Size([128, 64])\n",
      "torch.Size([12, 128, 64])\n"
     ]
    }
   ],
   "source": [
    "emb = torch.rand(12, 128, 32)\n",
    "\n",
    "outputs = []\n",
    "hidden = torch.zeros(128, 64)\n",
    "\n",
    "for e in emb:\n",
    "    hidden = gru_cell(e, hidden)\n",
    "    outputs.append(hidden)\n",
    "outputs = torch.stack(outputs)        \n",
    "\n",
    "print(hidden.size())\n",
    "print(outputs.size())\n"
   ]
  },
  {
   "cell_type": "code",
   "execution_count": 4,
   "metadata": {},
   "outputs": [],
   "source": [
    "class Encoder(nn.Module):\n",
    "    def __init__(self, vocab_size, emb_size, hidden_size, pad_idx):\n",
    "        super(Encoder, self).__init__()\n",
    "            \n",
    "        self.vocab_size = vocab_size\n",
    "        self.emb_size = emb_size\n",
    "        self.hidden_size = hidden_size\n",
    "        self.pad_idx = pad_idx\n",
    "        \n",
    "        self.embedding = nn.Embedding(vocab_size, emb_size, padding_idx=pad_idx)\n",
    "        self.GRU_cell = nn.GRUCell(emb_size, hidden_size)\n",
    "        \n",
    "    def forward(self, batch_words):\n",
    "        \n",
    "        batch_size = batch_words.size(0)\n",
    "        seq_len = batch_words.size(1)\n",
    "        \n",
    "        embedded = self.embedding(batch_words)\n",
    "        \n",
    "        hidden = torch.zeros(batch_size, self.hidden_size).to(batch_words.device)\n",
    "        for t in range(seq_len):          \n",
    "            hidden = self.GRU_cell(embedded[:, t, :], hidden)\n",
    "\n",
    "        return hidden\n",
    "\n",
    "\n",
    "        \n",
    "class Decoder(nn.Module):\n",
    "    def __init__(self, vocab_size, emb_size, hidden_size, pad_idx):\n",
    "        super(Decoder, self).__init__()\n",
    "         \n",
    "        self.vocab_size = vocab_size\n",
    "        self.emb_size = emb_size\n",
    "        self.hidden_size = hidden_size\n",
    "        self.pad_idx = pad_idx\n",
    "        \n",
    "        self.embedding = nn.Embedding(vocab_size, emb_size, padding_idx=pad_idx)\n",
    "        self.GRU_cell = nn.GRUCell(emb_size, hidden_size)\n",
    "        self.linear = nn.Linear(hidden_size, vocab_size)\n",
    "       \n",
    "    def forward(self, batch_trans_in, hidden):\n",
    "        \n",
    "        batch_size = batch_trans_in.size(0)\n",
    "        \n",
    "        embedded = self.embedding(batch_trans_in)\n",
    "        embedded = embedded.squeeze(1)\n",
    "\n",
    "        hidden = self.GRU_cell(embedded, hidden)\n",
    "        \n",
    "        logit = self.linear(hidden)\n",
    "       \n",
    "        return logit, hidden\n",
    "    "
   ]
  },
  {
   "cell_type": "code",
   "execution_count": 5,
   "metadata": {},
   "outputs": [],
   "source": [
    "encoder = Encoder(len(words_vocab), 32, 64, pad_idx=words_vocab.pad_idx)\n",
    "decoder = Decoder(len(trans_vocab), 32, 64, pad_idx=words_vocab.pad_idx)\n",
    "\n",
    "criterion = nn.CrossEntropyLoss()\n",
    "\n",
    "encoder_optimizer = optim.Adam(encoder.parameters())\n",
    "decoder_optimizer = optim.Adam(decoder.parameters())"
   ]
  },
  {
   "cell_type": "code",
   "execution_count": 6,
   "metadata": {},
   "outputs": [],
   "source": [
    "num_epochs = 5\n",
    "batch_size = 32\n",
    "losses = []"
   ]
  },
  {
   "cell_type": "code",
   "execution_count": 23,
   "metadata": {},
   "outputs": [],
   "source": [
    "def plot(epoch, batch_idx, train_losses, val_losses):\n",
    "    clear_output(True)\n",
    "    plt.figure(figsize=(20,5))\n",
    "    plt.subplot(131)\n",
    "    plt.title('epoch %s. | batch: %s | loss: %s' % (epoch, batch_idx, train_losses[-1]))\n",
    "    plt.plot(train_losses)\n",
    "    plt.subplot(132)\n",
    "    plt.title('epoch %s. | loss: %s' % (epoch, val_losses[-1]))\n",
    "    plt.plot(val_losses)\n",
    "    plt.show()"
   ]
  },
  {
   "cell_type": "code",
   "execution_count": null,
   "metadata": {},
   "outputs": [
    {
     "data": {
      "image/png": "[encoded data removed]",
      "text/plain": [
       "<Figure size 1440x360 with 2 Axes>"
      ]
     },
     "metadata": {},
     "output_type": "display_data"
    }
   ],
   "source": [
    "for epoch in range(num_epochs):\n",
    "\n",
    "    for batch_idx in range(len(data)//batch_size):\n",
    "\n",
    "        batch_words, batch_trans_in, batch_trans_out, words_lens, trans_lens = data.get_batch(32)\n",
    "        hidden = encoder(batch_words)\n",
    "\n",
    "        logits = []\n",
    "        for  t in range(batch_trans_in.size(1)):\n",
    "            logit, hidden = decoder(batch_trans_in[:, t], hidden)\n",
    "            logits.append(logit)\n",
    "\n",
    "\n",
    "        logits = torch.stack(logits, 1)\n",
    "        logits = logits.view(-1, len(trans_vocab))\n",
    "        batch_trans_out = batch_trans_out.view(-1)                \n",
    "\n",
    "        mask = batch_trans_out != trans_vocab.pad_idx\n",
    "\n",
    "\n",
    "        loss = criterion(logits[mask], batch_trans_out[mask])\n",
    "\n",
    "        encoder_optimizer.zero_grad()\n",
    "        decoder_optimizer.zero_grad()\n",
    "\n",
    "        loss.backward()\n",
    "\n",
    "        encoder_optimizer.step()\n",
    "        decoder_optimizer.step()\n",
    "        \n",
    "        losses.append(loss.item())\n",
    "        \n",
    "    val_words, val_trans_in, val_trans_out, val_words_lens, val_trans_lens = data.get_batch(32, val = True)\n",
    "    \n",
    "    \n",
    "    plot(epoch, batch_idx, losses, losses)"
   ]
  },
  {
   "cell_type": "code",
   "execution_count": 7,
   "metadata": {},
   "outputs": [],
   "source": [
    "class Model(nn.Module):\n",
    "    def __init__(self, dataset, encoder, decoder):\n",
    "        super(Model, self).__init__()\n",
    "        self.dataset = dataset\n",
    "        self.encoder = encoder\n",
    "        self.decoder = decoder\n",
    "        \n",
    "        \n",
    "    def forward(self, batch_words, batch_trans_in):\n",
    "        hidden = self.encoder(batch_words)\n",
    "\n",
    "        logits = []\n",
    "        for  t in range(batch_trans_in.size(1)):\n",
    "            logit, hidden = self.decoder(batch_trans_in[:, t], hidden)\n",
    "            logits.append(logit)\n",
    "\n",
    "\n",
    "        logits = torch.stack(logits, 1)\n",
    "        logits = logits.view(-1, len(self.dataset.trans_vocab))\n",
    "        \n",
    "        \n",
    "        return logits\n",
    "    "
   ]
  },
  {
   "cell_type": "code",
   "execution_count": 8,
   "metadata": {},
   "outputs": [],
   "source": [
    "class Trainer:\n",
    "    def __init__(self, dataset, model, encoder_optimizer, decoder_optimizer, criterion, batch_size):\n",
    "        \n",
    "        \n",
    "        self.dataset = dataset\n",
    "        self.train_losses = []\n",
    "        self.val_losses = []\n",
    "        self.batch_size = batch_size\n",
    "        \n",
    "        self.model = model\n",
    "        self.encoder_optimizer = encoder_optimizer\n",
    "        self.decoder_optimizer = decoder_optimizer\n",
    "        self.criterion = criterion\n",
    "        \n",
    "               \n",
    "    def train(self, n_epochs):\n",
    "        \n",
    "        for epoch in range(n_epochs):\n",
    "\n",
    "            for batch_idx in range(len(self.dataset)//self.batch_size):\n",
    "\n",
    "                batch_words, batch_trans_in, batch_trans_out, words_lens, trans_lens = self.dataset.get_batch(32)\n",
    "                \n",
    "                logits = self.model(batch_words, batch_trans_in)\n",
    "                \n",
    "                batch_trans_out = batch_trans_out.view(-1)  \n",
    "                mask = batch_trans_out != self.dataset.trans_vocab.pad_idx\n",
    "\n",
    "                loss = self.criterion(logits[mask], batch_trans_out[mask])\n",
    "\n",
    "                self.encoder_optimizer.zero_grad()\n",
    "                self.decoder_optimizer.zero_grad()\n",
    "\n",
    "                loss.backward()\n",
    "\n",
    "                self.encoder_optimizer.step()\n",
    "                self.decoder_optimizer.step()\n",
    "\n",
    "                self.train_losses.append(loss.item())\n",
    "                \n",
    "                if batch_idx % 200 == 0:\n",
    "                    val_loss = self.eval_()\n",
    "                    self.val_losses.append(val_loss.item())\n",
    "\n",
    "            \n",
    "            self.plot(epoch, batch_idx, self.train_losses, self.val_losses)\n",
    "        \n",
    "    def eval_(self):\n",
    "        \n",
    "        val_words, val_trans_in, val_trans_out, val_words_lens, val_trans_lens = self.dataset.get_batch(32, val = True)\n",
    "        \n",
    "        logits = self.model(val_words, val_trans_in)\n",
    "        val_trans_out = val_trans_out.view(-1)                \n",
    "\n",
    "        mask = val_trans_out != trans_vocab.pad_idx\n",
    "\n",
    "        loss = self.criterion(logits[mask], val_trans_out[mask])\n",
    "\n",
    "        return loss\n",
    "        \n",
    "    def plot(self, epoch, batch_idx, train_losses, val_losses):\n",
    "        clear_output(True)\n",
    "        plt.figure(figsize=(20,5))\n",
    "        plt.subplot(131)\n",
    "        plt.title('epoch %s. | batch: %s | loss: %s' % (epoch, batch_idx, train_losses[-1]))\n",
    "        plt.plot(train_losses)\n",
    "        plt.subplot(132)\n",
    "        plt.title('epoch %s. | loss: %s' % (epoch, val_losses[-1]))\n",
    "        plt.plot(val_losses)\n",
    "        plt.show()\n",
    "\n",
    "      \n",
    "           \n",
    "    "
   ]
  },
  {
   "cell_type": "code",
   "execution_count": 9,
   "metadata": {},
   "outputs": [],
   "source": [
    "model = Model(data, encoder, decoder)\n",
    "trainer = Trainer(data, model, encoder_optimizer, decoder_optimizer, criterion, batch_size = 32)"
   ]
  },
  {
   "cell_type": "code",
   "execution_count": 10,
   "metadata": {},
   "outputs": [
    {
     "data": {
      "image/png": "[encoded data removed]",
      "text/plain": [
       "<Figure size 1440x360 with 2 Axes>"
      ]
     },
     "metadata": {},
     "output_type": "display_data"
    }
   ],
   "source": [
    "trainer.train(5)"
   ]
  },
  {
   "cell_type": "code",
   "execution_count": null,
   "metadata": {},
   "outputs": [],
   "source": []
  }
 ],
 "metadata": {
  "kernelspec": {
   "display_name": "Python 3",
   "language": "python",
   "name": "python3"
  },
  "language_info": {
   "codemirror_mode": {
    "name": "ipython",
    "version": 3
   },
   "file_extension": ".py",
   "mimetype": "text/x-python",
   "name": "python",
   "nbconvert_exporter": "python",
   "pygments_lexer": "ipython3",
   "version": "3.6.5"
  }
 },
 "nbformat": 4,
 "nbformat_minor": 2
}
