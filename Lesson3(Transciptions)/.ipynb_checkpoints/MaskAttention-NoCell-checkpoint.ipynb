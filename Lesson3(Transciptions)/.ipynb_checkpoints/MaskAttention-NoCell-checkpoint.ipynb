{
 "cells": [
  {
   "cell_type": "code",
   "execution_count": 44,
   "metadata": {},
   "outputs": [
    {
     "name": "stdout",
     "output_type": "stream",
     "text": [
      "Once deleted, variables cannot be recovered. Proceed (y/[n])? y\n"
     ]
    }
   ],
   "source": [
    "reset"
   ]
  },
  {
   "cell_type": "code",
   "execution_count": 1,
   "metadata": {},
   "outputs": [],
   "source": [
    "from trans import Dataset\n",
    "import math\n",
    "import random\n",
    "\n",
    "import numpy as np\n",
    "\n",
    "import torch\n",
    "import torch.nn as nn\n",
    "import torch.optim as optim\n",
    "import torch.nn.functional as F\n",
    "from torch.nn.utils.rnn import pack_padded_sequence as pack\n",
    "from torch.nn.utils.rnn import pad_packed_sequence as unpack\n",
    "\n",
    "device = torch.device(\"cuda\" if torch.cuda.is_available else \"cpu\")"
   ]
  },
  {
   "cell_type": "code",
   "execution_count": 2,
   "metadata": {},
   "outputs": [],
   "source": [
    "from IPython.display import clear_output\n",
    "import matplotlib.pyplot as plt\n",
    "%matplotlib inline"
   ]
  },
  {
   "cell_type": "code",
   "execution_count": 3,
   "metadata": {},
   "outputs": [],
   "source": [
    "data = Dataset('data/transcriptions/train.csv')\n",
    "words_vocab = data.words_vocab\n",
    "trans_vocab = data.trans_vocab"
   ]
  },
  {
   "cell_type": "code",
   "execution_count": 4,
   "metadata": {},
   "outputs": [],
   "source": [
    "batch_words, batch_trans_in, batch_trans_out, words_lens, trans_lens = data.get_batch(32)"
   ]
  },
  {
   "cell_type": "code",
   "execution_count": 5,
   "metadata": {},
   "outputs": [
    {
     "data": {
      "text/plain": [
       "device(type='cuda', index=0)"
      ]
     },
     "execution_count": 5,
     "metadata": {},
     "output_type": "execute_result"
    }
   ],
   "source": [
    "batch_words.device"
   ]
  },
  {
   "cell_type": "code",
   "execution_count": 6,
   "metadata": {},
   "outputs": [],
   "source": [
    "class Encoder(nn.Module):\n",
    "    def __init__(self, vocab_size, emb_size, hidden_size, pad_idx):\n",
    "        super(Encoder, self).__init__()\n",
    "        \n",
    "        self.embedding = nn.Embedding(vocab_size, emb_size, padding_idx=pad_idx)\n",
    "        self.gru = nn.GRU(emb_size, hidden_size, num_layers = 2, batch_first = True)\n",
    "        \n",
    "    def forward(self, source, source_lens = None):\n",
    "        \n",
    "        embedded = self.embedding(source)\n",
    "\n",
    "        if source_lens is not None:\n",
    "            embedded = pack(embedded, source_lens, batch_first=True)\n",
    "\n",
    "        outs, hidden = self.gru(embedded)\n",
    "        \n",
    "        if source_lens is not None: \n",
    "            outs, _ = unpack(outs, batch_first=True)\n",
    "\n",
    "        return outs, hidden\n",
    "        \n",
    "        \n",
    "class DotAttentionNoCell(nn.Module):\n",
    "    def __init__(self):\n",
    "        super(DotAttentionNoCell, self).__init__()\n",
    "        \n",
    "        \n",
    "    def forward(self, query, context, mask = None):\n",
    "        '''\n",
    "        Inputs:\n",
    "            query:   (batch_size, dec_seq_len, hidden) - outputs of decoder\n",
    "            context: (batch_size, enc_seq_len, hidden) - outputs of encoder\n",
    "            mask:    (batch_size, enc_seq_len)\n",
    "        Outputs:\n",
    "            weights: (batch_size, dec_seq_len, enc_seq_len)\n",
    "            outputs: (batch, dec_seq_len, hidden)\n",
    "        '''\n",
    "        logits = torch.matmul(query, context.transpose(1, 2))\n",
    "\n",
    "        if mask is not None:\n",
    "\n",
    "            mask = mask.unsqueeze(1).repeat(1, logits.size(1), 1)\n",
    "            logits = logits.masked_fill(1 - mask, -10e10)\n",
    "\n",
    "        weights = F.softmax(logits, dim = 2)\n",
    "               \n",
    "        outputs = torch.matmul(weights, context)\n",
    "\n",
    "        return weights, outputs\n",
    "    \n",
    "class BahdanauAttentionNoCell(nn.Module):\n",
    "    def __init__(self, hidden_size):\n",
    "        super(BahdanauAttentionNoCell, self).__init__()\n",
    "        \n",
    "        self.W = nn.Linear(2 * hidden_size, hidden_size)\n",
    "        self.v_a = nn.Linear(hidden_size, 1)\n",
    "        \n",
    "        \n",
    "    def forward(self, dec_outputs, enc_outputs, mask = None):\n",
    "        '''\n",
    "        Inputs:\n",
    "            query:   (batch_size, dec_seq_len, hidden) - outputs of decoder\n",
    "            context: (batch_size, enc_seq_len, hidden) - outputs of encoder\n",
    "            mask:    (batch_size, enc_seq_len)\n",
    "            \n",
    "        Outputs:\n",
    "            weights: (batch_size, dec_seq_len, enc_seq_len)\n",
    "            outputs: (batch, dec_seq_len, hidden)\n",
    "        '''\n",
    "        \n",
    "        cat_enc_outputs = enc_outputs.unsqueeze(1).repeat(1, dec_outputs.size(1), 1, 1)\n",
    "        dec_outputs = dec_outputs.unsqueeze(2).repeat(1, 1, enc_outputs.size(1), 1)\n",
    "\n",
    "        hidden_concat = torch.cat((cat_enc_outputs, dec_outputs), 3)\n",
    "\n",
    "        W = self.W(hidden_concat)\n",
    "       \n",
    "        W = torch.tanh(W)\n",
    "\n",
    "        weights = self.v_a(W)\n",
    "        \n",
    "        weights = weights.squeeze(-1)\n",
    "        \n",
    "        if mask is not None:\n",
    "            mask = mask.unsqueeze(1).repeat(1, dec_outputs.size(1), 1)\n",
    "            weights = weights.masked_fill(1 - mask, -10e10)\n",
    "\n",
    "        weights = torch.softmax(weights, dim = -1)\n",
    "\n",
    "        context = torch.matmul(weights, enc_outputs)#.sum(1)    \n",
    "             \n",
    "        return weights, context\n",
    "\n",
    "class GeneralAttentionNocell(nn.Module):\n",
    "    def __init__(self, hidden_size):\n",
    "        super(GeneralAttentionNocell, self).__init__()\n",
    "        \n",
    "        self.W = nn.Linear(2 * hidden_size, hidden_size)\n",
    "        self.v_a = nn.Linear(hidden_size, 1)\n",
    "        \n",
    "        \n",
    "    def forward(self, outputs, hidden, mask = None):\n",
    "        '''\n",
    "        Inputs:\n",
    "            outputs: (batch_size, seq_len, hidden) - outputs of encoder\n",
    "            hidden: (batch_size, hidden) - previous hidden state\n",
    "            \n",
    "        Outputs:\n",
    "            weights: (batch_size, seq_len, 1)\n",
    "            context: (batch, hidden)\n",
    "        '''\n",
    "\n",
    "        hidden =  hidden.unsqueeze(1).repeat(1, outputs.size(1), 1)\n",
    "\n",
    "        hidden_concat = torch.cat((outputs, hidden), 2)\n",
    "        W = self.W(hidden_concat)\n",
    "        W = torch.tanh(W)\n",
    "        \n",
    "        weights = self.v_a(W)\n",
    "\n",
    "        if mask is not None:\n",
    "            mask = mask.unsqueeze(-1)\n",
    "            weights = weights.masked_fill(1 - mask, -10e10)\n",
    "\n",
    "        weights = torch.softmax(weights, dim = 2)\n",
    "\n",
    "        context = (weights * outputs).sum(1)\n",
    "        \n",
    "        return weights, context\n",
    "        \n",
    "class Decoder(nn.Module):\n",
    "    def __init__(self, vocab_size, emb_size, hidden_size, pad_idx):\n",
    "        super(Decoder, self).__init__()\n",
    "        self.vocab_size = vocab_size\n",
    "        self.embedding = nn.Embedding(vocab_size, emb_size, padding_idx=pad_idx)\n",
    "\n",
    "        self.GRU = nn.GRU(emb_size, hidden_size, num_layers = 2,batch_first =  True)\n",
    "        \n",
    "        self.linear_1 = nn.Linear(2 * hidden_size, hidden_size)\n",
    "        self.linear_2 = nn.Linear(hidden_size, vocab_size)\n",
    "        \n",
    "        self.attention = DotAttentionNoCell()\n",
    "        \n",
    "    def forward(self, enc_hidden, enc_outputs, target, mask):\n",
    "\n",
    "        embedded = self.embedding(target)\n",
    "\n",
    "        dec_outputs, hidden = self.GRU(embedded, enc_hidden)\n",
    "        \n",
    "        _, att_outputs = self.attention(dec_outputs, enc_outputs, mask)\n",
    "\n",
    "        output = torch.cat((dec_outputs, att_outputs), dim = 2)\n",
    "\n",
    "        linear_1 = self.linear_1(output)\n",
    "        \n",
    "        linear_1 = torch.tanh(linear_1)\n",
    "        \n",
    "        linear_2 = self.linear_2(linear_1)\n",
    "        \n",
    "        out = linear_2.view(-1, self.vocab_size)\n",
    "        \n",
    "                \n",
    "        return out, hidden"
   ]
  },
  {
   "cell_type": "code",
   "execution_count": 7,
   "metadata": {},
   "outputs": [],
   "source": [
    "encoder = Encoder(len(words_vocab), 32, 64, pad_idx=words_vocab.pad_idx)\n",
    "decoder = Decoder(len(trans_vocab), 32, 64, pad_idx=words_vocab.pad_idx)\n",
    "\n",
    "criterion = nn.CrossEntropyLoss()\n",
    "\n",
    "encoder_optimizer = optim.Adam(encoder.parameters())\n",
    "decoder_optimizer = optim.Adam(decoder.parameters())"
   ]
  },
  {
   "cell_type": "code",
   "execution_count": 8,
   "metadata": {},
   "outputs": [],
   "source": [
    "num_epochs = 10\n",
    "batch_size = 32\n",
    "losses = []"
   ]
  },
  {
   "cell_type": "code",
   "execution_count": 9,
   "metadata": {},
   "outputs": [],
   "source": [
    "class Model(nn.Module):\n",
    "    def __init__(self, dataset, encoder, decoder, hidden_size, vocab_size):\n",
    "        super(Model, self).__init__()\n",
    "        self.dataset = dataset\n",
    "        self.encoder = encoder\n",
    "        self.decoder = decoder\n",
    "        \n",
    "        self.vocab_size = vocab_size\n",
    "        \n",
    "        \n",
    "    def forward(self, batch_words, batch_trans_in, source_lens = None, mask = None):\n",
    "        enc_outputs, hidden = self.encoder(batch_words, source_lens)\n",
    "\n",
    "        out, hidden = self.decoder(hidden, enc_outputs, batch_trans_in, mask)\n",
    "           \n",
    "        return out   \n",
    "    \n",
    "    def generate(self, bos_idx, eos_idx, batch_words):\n",
    "        inp = [bos_idx]\n",
    "        outputs, hidden = self.encoder(batch_words)\n",
    "        mask_words  = batch_words != 0\n",
    "        \n",
    "\n",
    "        for _ in range(100):\n",
    "            inp_tensor = torch.LongTensor([[inp[-1]]]).to(batch_words.device)\n",
    "            logits, hidden   = self.decoder(hidden, outputs, inp_tensor, mask_words)\n",
    "            next_token = F.softmax(logits, dim=-1)[-1].topk(1)[1].item()\n",
    "            inp.append(next_token)\n",
    "            if next_token == eos_idx:\n",
    "                break\n",
    "        return inp"
   ]
  },
  {
   "cell_type": "code",
   "execution_count": 10,
   "metadata": {},
   "outputs": [],
   "source": [
    "class Trainer:\n",
    "    def __init__(self, dataset, model, encoder_optimizer, decoder_optimizer, criterion, batch_size):\n",
    "        \n",
    "        \n",
    "        self.dataset = dataset\n",
    "        self.train_losses = []\n",
    "        self.val_losses = []\n",
    "        self.batch_size = batch_size\n",
    "        \n",
    "        self.model = model\n",
    "        self.encoder_optimizer = encoder_optimizer\n",
    "        self.decoder_optimizer = decoder_optimizer\n",
    "        self.criterion = criterion\n",
    "        \n",
    "               \n",
    "    def train(self, n_epochs):\n",
    "        \n",
    "        mask_words = None\n",
    "        for epoch in range(n_epochs):\n",
    "\n",
    "            for batch_idx in range(len(self.dataset)//self.batch_size):\n",
    "\n",
    "                batch_words, batch_trans_in, batch_trans_out, words_lens, trans_lens = self.dataset.get_batch(32, sort = True)\n",
    "                mask_words  = batch_words != 0\n",
    "                \n",
    "                logits = self.model(batch_words, batch_trans_in, words_lens, mask_words)\n",
    "\n",
    "                batch_trans_out = batch_trans_out.view(-1)  \n",
    "                mask = batch_trans_out != self.dataset.trans_vocab.pad_idx\n",
    "                \n",
    "                loss = self.criterion(logits[mask], batch_trans_out[mask])\n",
    "\n",
    "                self.encoder_optimizer.zero_grad()\n",
    "                self.decoder_optimizer.zero_grad()\n",
    "\n",
    "                loss.backward()\n",
    "\n",
    "                self.encoder_optimizer.step()\n",
    "                self.decoder_optimizer.step()\n",
    "\n",
    "                self.train_losses.append(loss.item())\n",
    "                \n",
    "                if batch_idx % 200 == 0:\n",
    "                    val_loss = self.eval_()\n",
    "                    self.val_losses.append(val_loss.item())\n",
    "                    self.plot(epoch, batch_idx, self.train_losses, self.val_losses)\n",
    "                  \n",
    "        \n",
    "    def eval_(self):\n",
    "        \n",
    "        val_words, val_trans_in, val_trans_out, val_words_lens, val_trans_lens = self.dataset.get_batch(32, sort = True, val = True)\n",
    "        val_mask = val_words != 0\n",
    "        logits = self.model(val_words, val_trans_in, val_words_lens, val_mask)\n",
    "        val_trans_out = val_trans_out.view(-1)                \n",
    "\n",
    "        mask = val_trans_out != trans_vocab.pad_idx\n",
    "\n",
    "        loss = self.criterion(logits[mask], val_trans_out[mask])\n",
    "\n",
    "        return loss\n",
    "        \n",
    "    def plot(self, epoch, batch_idx, train_losses, val_losses):\n",
    "        clear_output(True)\n",
    "        plt.figure(figsize=(20,5))\n",
    "        plt.subplot(131)\n",
    "        plt.title('epoch %s. | batch: %s | loss: %s' % (epoch, batch_idx, train_losses[-1]))\n",
    "        plt.plot(train_losses)\n",
    "        plt.subplot(132)\n",
    "        plt.title('epoch %s. | loss: %s' % (epoch, val_losses[-1]))\n",
    "        plt.plot(val_losses)\n",
    "        plt.show()  "
   ]
  },
  {
   "cell_type": "code",
   "execution_count": 11,
   "metadata": {},
   "outputs": [],
   "source": [
    "model = Model(data, encoder, decoder, 64, len(trans_vocab)).to(device)\n",
    "trainer = Trainer(data, model, encoder_optimizer, decoder_optimizer, criterion, batch_size = 32)"
   ]
  },
  {
   "cell_type": "code",
   "execution_count": 12,
   "metadata": {},
   "outputs": [
    {
     "data": {
      "image/png": "[encoded data removed]",
      "text/plain": [
       "<Figure size 1440x360 with 2 Axes>"
      ]
     },
     "metadata": {},
     "output_type": "display_data"
    },
    {
     "ename": "KeyboardInterrupt",
     "evalue": "",
     "output_type": "error",
     "traceback": [
      "\u001b[0;31m---------------------------------------------------------------------------\u001b[0m",
      "\u001b[0;31mKeyboardInterrupt\u001b[0m                         Traceback (most recent call last)",
      "\u001b[0;32m<ipython-input-12-fa4a89fc91dd>\u001b[0m in \u001b[0;36m<module>\u001b[0;34m()\u001b[0m\n\u001b[0;32m----> 1\u001b[0;31m \u001b[0mtrainer\u001b[0m\u001b[0;34m.\u001b[0m\u001b[0mtrain\u001b[0m\u001b[0;34m(\u001b[0m\u001b[0;36m4\u001b[0m\u001b[0;34m)\u001b[0m\u001b[0;34m\u001b[0m\u001b[0m\n\u001b[0m",
      "\u001b[0;32m<ipython-input-10-278c4182737b>\u001b[0m in \u001b[0;36mtrain\u001b[0;34m(self, n_epochs)\u001b[0m\n\u001b[1;32m     24\u001b[0m                 \u001b[0mmask_words\u001b[0m  \u001b[0;34m=\u001b[0m \u001b[0mbatch_words\u001b[0m \u001b[0;34m!=\u001b[0m \u001b[0;36m0\u001b[0m\u001b[0;34m\u001b[0m\u001b[0m\n\u001b[1;32m     25\u001b[0m \u001b[0;34m\u001b[0m\u001b[0m\n\u001b[0;32m---> 26\u001b[0;31m                 \u001b[0mlogits\u001b[0m \u001b[0;34m=\u001b[0m \u001b[0mself\u001b[0m\u001b[0;34m.\u001b[0m\u001b[0mmodel\u001b[0m\u001b[0;34m(\u001b[0m\u001b[0mbatch_words\u001b[0m\u001b[0;34m,\u001b[0m \u001b[0mbatch_trans_in\u001b[0m\u001b[0;34m,\u001b[0m \u001b[0mwords_lens\u001b[0m\u001b[0;34m,\u001b[0m \u001b[0mmask_words\u001b[0m\u001b[0;34m)\u001b[0m\u001b[0;34m\u001b[0m\u001b[0m\n\u001b[0m\u001b[1;32m     27\u001b[0m \u001b[0;34m\u001b[0m\u001b[0m\n\u001b[1;32m     28\u001b[0m                 \u001b[0mbatch_trans_out\u001b[0m \u001b[0;34m=\u001b[0m \u001b[0mbatch_trans_out\u001b[0m\u001b[0;34m.\u001b[0m\u001b[0mview\u001b[0m\u001b[0;34m(\u001b[0m\u001b[0;34m-\u001b[0m\u001b[0;36m1\u001b[0m\u001b[0;34m)\u001b[0m\u001b[0;34m\u001b[0m\u001b[0m\n",
      "\u001b[0;32m/home/oljike/PycharmProjects/TopicModelling/venv/lib/python3.6/site-packages/torch/nn/modules/module.py\u001b[0m in \u001b[0;36m__call__\u001b[0;34m(self, *input, **kwargs)\u001b[0m\n\u001b[1;32m    475\u001b[0m             \u001b[0mresult\u001b[0m \u001b[0;34m=\u001b[0m \u001b[0mself\u001b[0m\u001b[0;34m.\u001b[0m\u001b[0m_slow_forward\u001b[0m\u001b[0;34m(\u001b[0m\u001b[0;34m*\u001b[0m\u001b[0minput\u001b[0m\u001b[0;34m,\u001b[0m \u001b[0;34m**\u001b[0m\u001b[0mkwargs\u001b[0m\u001b[0;34m)\u001b[0m\u001b[0;34m\u001b[0m\u001b[0m\n\u001b[1;32m    476\u001b[0m         \u001b[0;32melse\u001b[0m\u001b[0;34m:\u001b[0m\u001b[0;34m\u001b[0m\u001b[0m\n\u001b[0;32m--> 477\u001b[0;31m             \u001b[0mresult\u001b[0m \u001b[0;34m=\u001b[0m \u001b[0mself\u001b[0m\u001b[0;34m.\u001b[0m\u001b[0mforward\u001b[0m\u001b[0;34m(\u001b[0m\u001b[0;34m*\u001b[0m\u001b[0minput\u001b[0m\u001b[0;34m,\u001b[0m \u001b[0;34m**\u001b[0m\u001b[0mkwargs\u001b[0m\u001b[0;34m)\u001b[0m\u001b[0;34m\u001b[0m\u001b[0m\n\u001b[0m\u001b[1;32m    478\u001b[0m         \u001b[0;32mfor\u001b[0m \u001b[0mhook\u001b[0m \u001b[0;32min\u001b[0m \u001b[0mself\u001b[0m\u001b[0;34m.\u001b[0m\u001b[0m_forward_hooks\u001b[0m\u001b[0;34m.\u001b[0m\u001b[0mvalues\u001b[0m\u001b[0;34m(\u001b[0m\u001b[0;34m)\u001b[0m\u001b[0;34m:\u001b[0m\u001b[0;34m\u001b[0m\u001b[0m\n\u001b[1;32m    479\u001b[0m             \u001b[0mhook_result\u001b[0m \u001b[0;34m=\u001b[0m \u001b[0mhook\u001b[0m\u001b[0;34m(\u001b[0m\u001b[0mself\u001b[0m\u001b[0;34m,\u001b[0m \u001b[0minput\u001b[0m\u001b[0;34m,\u001b[0m \u001b[0mresult\u001b[0m\u001b[0;34m)\u001b[0m\u001b[0;34m\u001b[0m\u001b[0m\n",
      "\u001b[0;32m<ipython-input-9-fcb53b2d95c9>\u001b[0m in \u001b[0;36mforward\u001b[0;34m(self, batch_words, batch_trans_in, source_lens, mask)\u001b[0m\n\u001b[1;32m     12\u001b[0m         \u001b[0menc_outputs\u001b[0m\u001b[0;34m,\u001b[0m \u001b[0mhidden\u001b[0m \u001b[0;34m=\u001b[0m \u001b[0mself\u001b[0m\u001b[0;34m.\u001b[0m\u001b[0mencoder\u001b[0m\u001b[0;34m(\u001b[0m\u001b[0mbatch_words\u001b[0m\u001b[0;34m,\u001b[0m \u001b[0msource_lens\u001b[0m\u001b[0;34m)\u001b[0m\u001b[0;34m\u001b[0m\u001b[0m\n\u001b[1;32m     13\u001b[0m \u001b[0;34m\u001b[0m\u001b[0m\n\u001b[0;32m---> 14\u001b[0;31m         \u001b[0mout\u001b[0m\u001b[0;34m,\u001b[0m \u001b[0mhidden\u001b[0m \u001b[0;34m=\u001b[0m \u001b[0mself\u001b[0m\u001b[0;34m.\u001b[0m\u001b[0mdecoder\u001b[0m\u001b[0;34m(\u001b[0m\u001b[0mhidden\u001b[0m\u001b[0;34m,\u001b[0m \u001b[0menc_outputs\u001b[0m\u001b[0;34m,\u001b[0m \u001b[0mbatch_trans_in\u001b[0m\u001b[0;34m,\u001b[0m \u001b[0mmask\u001b[0m\u001b[0;34m)\u001b[0m\u001b[0;34m\u001b[0m\u001b[0m\n\u001b[0m\u001b[1;32m     15\u001b[0m \u001b[0;34m\u001b[0m\u001b[0m\n\u001b[1;32m     16\u001b[0m         \u001b[0;32mreturn\u001b[0m \u001b[0mout\u001b[0m\u001b[0;34m\u001b[0m\u001b[0m\n",
      "\u001b[0;32m/home/oljike/PycharmProjects/TopicModelling/venv/lib/python3.6/site-packages/torch/nn/modules/module.py\u001b[0m in \u001b[0;36m__call__\u001b[0;34m(self, *input, **kwargs)\u001b[0m\n\u001b[1;32m    475\u001b[0m             \u001b[0mresult\u001b[0m \u001b[0;34m=\u001b[0m \u001b[0mself\u001b[0m\u001b[0;34m.\u001b[0m\u001b[0m_slow_forward\u001b[0m\u001b[0;34m(\u001b[0m\u001b[0;34m*\u001b[0m\u001b[0minput\u001b[0m\u001b[0;34m,\u001b[0m \u001b[0;34m**\u001b[0m\u001b[0mkwargs\u001b[0m\u001b[0;34m)\u001b[0m\u001b[0;34m\u001b[0m\u001b[0m\n\u001b[1;32m    476\u001b[0m         \u001b[0;32melse\u001b[0m\u001b[0;34m:\u001b[0m\u001b[0;34m\u001b[0m\u001b[0m\n\u001b[0;32m--> 477\u001b[0;31m             \u001b[0mresult\u001b[0m \u001b[0;34m=\u001b[0m \u001b[0mself\u001b[0m\u001b[0;34m.\u001b[0m\u001b[0mforward\u001b[0m\u001b[0;34m(\u001b[0m\u001b[0;34m*\u001b[0m\u001b[0minput\u001b[0m\u001b[0;34m,\u001b[0m \u001b[0;34m**\u001b[0m\u001b[0mkwargs\u001b[0m\u001b[0;34m)\u001b[0m\u001b[0;34m\u001b[0m\u001b[0m\n\u001b[0m\u001b[1;32m    478\u001b[0m         \u001b[0;32mfor\u001b[0m \u001b[0mhook\u001b[0m \u001b[0;32min\u001b[0m \u001b[0mself\u001b[0m\u001b[0;34m.\u001b[0m\u001b[0m_forward_hooks\u001b[0m\u001b[0;34m.\u001b[0m\u001b[0mvalues\u001b[0m\u001b[0;34m(\u001b[0m\u001b[0;34m)\u001b[0m\u001b[0;34m:\u001b[0m\u001b[0;34m\u001b[0m\u001b[0m\n\u001b[1;32m    479\u001b[0m             \u001b[0mhook_result\u001b[0m \u001b[0;34m=\u001b[0m \u001b[0mhook\u001b[0m\u001b[0;34m(\u001b[0m\u001b[0mself\u001b[0m\u001b[0;34m,\u001b[0m \u001b[0minput\u001b[0m\u001b[0;34m,\u001b[0m \u001b[0mresult\u001b[0m\u001b[0;34m)\u001b[0m\u001b[0;34m\u001b[0m\u001b[0m\n",
      "\u001b[0;32m<ipython-input-6-8c3463e749f5>\u001b[0m in \u001b[0;36mforward\u001b[0;34m(self, enc_hidden, enc_outputs, target, mask)\u001b[0m\n\u001b[1;32m    146\u001b[0m         \u001b[0membedded\u001b[0m \u001b[0;34m=\u001b[0m \u001b[0mself\u001b[0m\u001b[0;34m.\u001b[0m\u001b[0membedding\u001b[0m\u001b[0;34m(\u001b[0m\u001b[0mtarget\u001b[0m\u001b[0;34m)\u001b[0m\u001b[0;34m\u001b[0m\u001b[0m\n\u001b[1;32m    147\u001b[0m \u001b[0;34m\u001b[0m\u001b[0m\n\u001b[0;32m--> 148\u001b[0;31m         \u001b[0mdec_outputs\u001b[0m\u001b[0;34m,\u001b[0m \u001b[0mhidden\u001b[0m \u001b[0;34m=\u001b[0m \u001b[0mself\u001b[0m\u001b[0;34m.\u001b[0m\u001b[0mGRU\u001b[0m\u001b[0;34m(\u001b[0m\u001b[0membedded\u001b[0m\u001b[0;34m,\u001b[0m \u001b[0menc_hidden\u001b[0m\u001b[0;34m)\u001b[0m\u001b[0;34m\u001b[0m\u001b[0m\n\u001b[0m\u001b[1;32m    149\u001b[0m \u001b[0;34m\u001b[0m\u001b[0m\n\u001b[1;32m    150\u001b[0m         \u001b[0m_\u001b[0m\u001b[0;34m,\u001b[0m \u001b[0matt_outputs\u001b[0m \u001b[0;34m=\u001b[0m \u001b[0mself\u001b[0m\u001b[0;34m.\u001b[0m\u001b[0mattention\u001b[0m\u001b[0;34m(\u001b[0m\u001b[0mdec_outputs\u001b[0m\u001b[0;34m,\u001b[0m \u001b[0menc_outputs\u001b[0m\u001b[0;34m,\u001b[0m \u001b[0mmask\u001b[0m\u001b[0;34m)\u001b[0m\u001b[0;34m\u001b[0m\u001b[0m\n",
      "\u001b[0;32m/home/oljike/PycharmProjects/TopicModelling/venv/lib/python3.6/site-packages/torch/nn/modules/module.py\u001b[0m in \u001b[0;36m__call__\u001b[0;34m(self, *input, **kwargs)\u001b[0m\n\u001b[1;32m    475\u001b[0m             \u001b[0mresult\u001b[0m \u001b[0;34m=\u001b[0m \u001b[0mself\u001b[0m\u001b[0;34m.\u001b[0m\u001b[0m_slow_forward\u001b[0m\u001b[0;34m(\u001b[0m\u001b[0;34m*\u001b[0m\u001b[0minput\u001b[0m\u001b[0;34m,\u001b[0m \u001b[0;34m**\u001b[0m\u001b[0mkwargs\u001b[0m\u001b[0;34m)\u001b[0m\u001b[0;34m\u001b[0m\u001b[0m\n\u001b[1;32m    476\u001b[0m         \u001b[0;32melse\u001b[0m\u001b[0;34m:\u001b[0m\u001b[0;34m\u001b[0m\u001b[0m\n\u001b[0;32m--> 477\u001b[0;31m             \u001b[0mresult\u001b[0m \u001b[0;34m=\u001b[0m \u001b[0mself\u001b[0m\u001b[0;34m.\u001b[0m\u001b[0mforward\u001b[0m\u001b[0;34m(\u001b[0m\u001b[0;34m*\u001b[0m\u001b[0minput\u001b[0m\u001b[0;34m,\u001b[0m \u001b[0;34m**\u001b[0m\u001b[0mkwargs\u001b[0m\u001b[0;34m)\u001b[0m\u001b[0;34m\u001b[0m\u001b[0m\n\u001b[0m\u001b[1;32m    478\u001b[0m         \u001b[0;32mfor\u001b[0m \u001b[0mhook\u001b[0m \u001b[0;32min\u001b[0m \u001b[0mself\u001b[0m\u001b[0;34m.\u001b[0m\u001b[0m_forward_hooks\u001b[0m\u001b[0;34m.\u001b[0m\u001b[0mvalues\u001b[0m\u001b[0;34m(\u001b[0m\u001b[0;34m)\u001b[0m\u001b[0;34m:\u001b[0m\u001b[0;34m\u001b[0m\u001b[0m\n\u001b[1;32m    479\u001b[0m             \u001b[0mhook_result\u001b[0m \u001b[0;34m=\u001b[0m \u001b[0mhook\u001b[0m\u001b[0;34m(\u001b[0m\u001b[0mself\u001b[0m\u001b[0;34m,\u001b[0m \u001b[0minput\u001b[0m\u001b[0;34m,\u001b[0m \u001b[0mresult\u001b[0m\u001b[0;34m)\u001b[0m\u001b[0;34m\u001b[0m\u001b[0m\n",
      "\u001b[0;32m/home/oljike/PycharmProjects/TopicModelling/venv/lib/python3.6/site-packages/torch/nn/modules/rnn.py\u001b[0m in \u001b[0;36mforward\u001b[0;34m(self, input, hx)\u001b[0m\n\u001b[1;32m    190\u001b[0m             \u001b[0mflat_weight\u001b[0m\u001b[0;34m=\u001b[0m\u001b[0mflat_weight\u001b[0m\u001b[0;34m\u001b[0m\u001b[0m\n\u001b[1;32m    191\u001b[0m         )\n\u001b[0;32m--> 192\u001b[0;31m         \u001b[0moutput\u001b[0m\u001b[0;34m,\u001b[0m \u001b[0mhidden\u001b[0m \u001b[0;34m=\u001b[0m \u001b[0mfunc\u001b[0m\u001b[0;34m(\u001b[0m\u001b[0minput\u001b[0m\u001b[0;34m,\u001b[0m \u001b[0mself\u001b[0m\u001b[0;34m.\u001b[0m\u001b[0mall_weights\u001b[0m\u001b[0;34m,\u001b[0m \u001b[0mhx\u001b[0m\u001b[0;34m,\u001b[0m \u001b[0mbatch_sizes\u001b[0m\u001b[0;34m)\u001b[0m\u001b[0;34m\u001b[0m\u001b[0m\n\u001b[0m\u001b[1;32m    193\u001b[0m         \u001b[0;32mif\u001b[0m \u001b[0mis_packed\u001b[0m\u001b[0;34m:\u001b[0m\u001b[0;34m\u001b[0m\u001b[0m\n\u001b[1;32m    194\u001b[0m             \u001b[0moutput\u001b[0m \u001b[0;34m=\u001b[0m \u001b[0mPackedSequence\u001b[0m\u001b[0;34m(\u001b[0m\u001b[0moutput\u001b[0m\u001b[0;34m,\u001b[0m \u001b[0mbatch_sizes\u001b[0m\u001b[0;34m)\u001b[0m\u001b[0;34m\u001b[0m\u001b[0m\n",
      "\u001b[0;32m/home/oljike/PycharmProjects/TopicModelling/venv/lib/python3.6/site-packages/torch/nn/_functions/rnn.py\u001b[0m in \u001b[0;36mforward\u001b[0;34m(input, *fargs, **fkwargs)\u001b[0m\n\u001b[1;32m    322\u001b[0m             \u001b[0mfunc\u001b[0m \u001b[0;34m=\u001b[0m \u001b[0mdecorator\u001b[0m\u001b[0;34m(\u001b[0m\u001b[0mfunc\u001b[0m\u001b[0;34m)\u001b[0m\u001b[0;34m\u001b[0m\u001b[0m\n\u001b[1;32m    323\u001b[0m \u001b[0;34m\u001b[0m\u001b[0m\n\u001b[0;32m--> 324\u001b[0;31m         \u001b[0;32mreturn\u001b[0m \u001b[0mfunc\u001b[0m\u001b[0;34m(\u001b[0m\u001b[0minput\u001b[0m\u001b[0;34m,\u001b[0m \u001b[0;34m*\u001b[0m\u001b[0mfargs\u001b[0m\u001b[0;34m,\u001b[0m \u001b[0;34m**\u001b[0m\u001b[0mfkwargs\u001b[0m\u001b[0;34m)\u001b[0m\u001b[0;34m\u001b[0m\u001b[0m\n\u001b[0m\u001b[1;32m    325\u001b[0m \u001b[0;34m\u001b[0m\u001b[0m\n\u001b[1;32m    326\u001b[0m     \u001b[0;32mreturn\u001b[0m \u001b[0mforward\u001b[0m\u001b[0;34m\u001b[0m\u001b[0m\n",
      "\u001b[0;32m/home/oljike/PycharmProjects/TopicModelling/venv/lib/python3.6/site-packages/torch/nn/_functions/rnn.py\u001b[0m in \u001b[0;36mforward\u001b[0;34m(input, weight, hx, batch_sizes)\u001b[0m\n\u001b[1;32m    286\u001b[0m             \u001b[0mbatch_first\u001b[0m\u001b[0;34m,\u001b[0m \u001b[0mdropout\u001b[0m\u001b[0;34m,\u001b[0m \u001b[0mtrain\u001b[0m\u001b[0;34m,\u001b[0m \u001b[0mbool\u001b[0m\u001b[0;34m(\u001b[0m\u001b[0mbidirectional\u001b[0m\u001b[0;34m)\u001b[0m\u001b[0;34m,\u001b[0m\u001b[0;34m\u001b[0m\u001b[0m\n\u001b[1;32m    287\u001b[0m             \u001b[0mlist\u001b[0m\u001b[0;34m(\u001b[0m\u001b[0mbatch_sizes\u001b[0m\u001b[0;34m.\u001b[0m\u001b[0mdata\u001b[0m\u001b[0;34m)\u001b[0m \u001b[0;32mif\u001b[0m \u001b[0mvariable_length\u001b[0m \u001b[0;32melse\u001b[0m \u001b[0;34m(\u001b[0m\u001b[0;34m)\u001b[0m\u001b[0;34m,\u001b[0m\u001b[0;34m\u001b[0m\u001b[0m\n\u001b[0;32m--> 288\u001b[0;31m             dropout_ts)\n\u001b[0m\u001b[1;32m    289\u001b[0m \u001b[0;34m\u001b[0m\u001b[0m\n\u001b[1;32m    290\u001b[0m         \u001b[0;32mif\u001b[0m \u001b[0mcx\u001b[0m \u001b[0;32mis\u001b[0m \u001b[0;32mnot\u001b[0m \u001b[0;32mNone\u001b[0m\u001b[0;34m:\u001b[0m\u001b[0;34m\u001b[0m\u001b[0m\n",
      "\u001b[0;31mKeyboardInterrupt\u001b[0m: "
     ]
    }
   ],
   "source": [
    "trainer.train(4)"
   ]
  },
  {
   "cell_type": "code",
   "execution_count": 764,
   "metadata": {},
   "outputs": [
    {
     "data": {
      "text/plain": [
       "0.1685192584991455"
      ]
     },
     "execution_count": 764,
     "metadata": {},
     "output_type": "execute_result"
    }
   ],
   "source": [
    "min(trainer.val_losses)"
   ]
  },
  {
   "cell_type": "code",
   "execution_count": 765,
   "metadata": {},
   "outputs": [],
   "source": [
    "def _print(val):\n",
    "    batch_words, batch_trans_in, batch_trans_out, words_lens, trans_lens = data.get_batch(1, sort=True, val=val)\n",
    "    batch_words     = batch_words.to(device)\n",
    "    batch_trans_out = batch_trans_out.to(device)\n",
    "\n",
    "\n",
    "    inp = model.generate(data.words_vocab.sos_idx, data.words_vocab.eos_idx, batch_words)\n",
    "            \n",
    "    tokens = [data.trans_vocab.idx2token(idx) for idx in inp if idx not in [data.trans_vocab.sos_idx,\n",
    "                                                                       data.trans_vocab.eos_idx,\n",
    "                                                                       data.trans_vocab.pad_idx]]\n",
    "    print('Src: ', ''.join([data.words_vocab.idx2token(idx) for idx in batch_words[0].tolist()]))\n",
    "    print('Pred:', ''.join(tokens))\n",
    "    print('Real:', ''.join([data.trans_vocab.idx2token(idx) for idx in batch_trans_out[0].tolist() if idx not in [data.trans_vocab.sos_idx,\n",
    "                                                                            data.trans_vocab.eos_idx,\n",
    "                                                                            data.trans_vocab.pad_idx]]))"
   ]
  },
  {
   "cell_type": "code",
   "execution_count": 771,
   "metadata": {},
   "outputs": [
    {
     "name": "stdout",
     "output_type": "stream",
     "text": [
      "Src:  WIGINTON\n",
      "Pred: WAYGIHNTAHN\n",
      "Real: WIHJHIHNTAHN\n",
      "\n",
      "Src:  DETTORE\n",
      "Pred: DEHTER\n",
      "Real: DIHTAORIY\n",
      "\n",
      "Src:  NEEDHAM\n",
      "Pred: NIYDAHM\n",
      "Real: NIYDAHM\n",
      "\n",
      "Src:  CALABRO\n",
      "Pred: KAALAABROW\n",
      "Real: KAHLAEBROW\n",
      "\n",
      "Src:  BIGSBY\n",
      "Pred: BIHGZBIY\n",
      "Real: BIHGZBIY\n",
      "\n",
      "Src:  PLAY\n",
      "Pred: PLEY\n",
      "Real: PLEY\n",
      "\n",
      "Src:  SMEE\n",
      "Pred: SMIY\n",
      "Real: SMIY\n",
      "\n",
      "Src:  CHOONG\n",
      "Pred: CHUWNG\n",
      "Real: CHUWNG\n",
      "\n",
      "Src:  VOLUME\n",
      "Pred: VOWLUWM\n",
      "Real: VAALYUWM\n",
      "\n",
      "Src:  COUNTERREVOLUTION\n",
      "Pred: KAWNTERREHVAHLAHTIYAHSHAHN\n",
      "Real: KAWNTERREHVAHLUWSHAHN\n",
      "\n"
     ]
    }
   ],
   "source": [
    "for _ in range(10):\n",
    "    _print(True)\n",
    "    print()"
   ]
  },
  {
   "cell_type": "code",
   "execution_count": null,
   "metadata": {},
   "outputs": [],
   "source": []
  },
  {
   "cell_type": "code",
   "execution_count": null,
   "metadata": {},
   "outputs": [],
   "source": []
  }
 ],
 "metadata": {
  "kernelspec": {
   "display_name": "Python 3",
   "language": "python",
   "name": "python3"
  },
  "language_info": {
   "codemirror_mode": {
    "name": "ipython",
    "version": 3
   },
   "file_extension": ".py",
   "mimetype": "text/x-python",
   "name": "python",
   "nbconvert_exporter": "python",
   "pygments_lexer": "ipython3",
   "version": "3.6.5"
  }
 },
 "nbformat": 4,
 "nbformat_minor": 2
}
