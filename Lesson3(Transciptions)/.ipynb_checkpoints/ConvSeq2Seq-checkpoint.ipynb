{
 "cells": [
  {
   "cell_type": "code",
   "execution_count": 1,
   "metadata": {},
   "outputs": [],
   "source": [
    "from trans import Dataset\n",
    "import math\n",
    "import random\n",
    "\n",
    "import numpy as np\n",
    "\n",
    "import torch\n",
    "import torch.nn as nn\n",
    "import torch.optim as optim\n",
    "import torch.nn.functional as F\n",
    "from torch.nn.utils.rnn import pack_padded_sequence as pack\n",
    "from torch.nn.utils.rnn import pad_packed_sequence as unpack\n",
    "\n",
    "device = torch.device(\"cuda\" if torch.cuda.is_available else \"cpu\")"
   ]
  },
  {
   "cell_type": "code",
   "execution_count": 3,
   "metadata": {},
   "outputs": [],
   "source": [
    "from IPython.display import clear_output\n",
    "import matplotlib.pyplot as plt\n",
    "%matplotlib inline"
   ]
  },
  {
   "cell_type": "code",
   "execution_count": 2,
   "metadata": {
    "code_folding": [
     0
    ]
   },
   "outputs": [],
   "source": [
    "class PositionalEncoding(nn.Module):\n",
    "    def __init__(self, dim, max_len=5000):\n",
    "        pe = torch.zeros(max_len, dim)\n",
    "        position = torch.arange(0, max_len).unsqueeze(1)\n",
    "        div_term = torch.exp((torch.arange(0, dim, 2, dtype=torch.float) *\n",
    "                             -(math.log(10000.0) / dim)))\n",
    "        pe[:, 0::2] = torch.sin(position.float() * div_term)\n",
    "        pe[:, 1::2] = torch.cos(position.float() * div_term)\n",
    "        pe = pe.unsqueeze(0)\n",
    "        super(PositionalEncoding, self).__init__()\n",
    "        self.register_buffer('pe', pe)\n",
    "        self.dim = dim\n",
    "\n",
    "    def forward(self, emb):\n",
    "        emb = emb * math.sqrt(self.dim)\n",
    "        emb = emb + self.pe[:,:emb.size(1),:]\n",
    "        return emb"
   ]
  },
  {
   "cell_type": "code",
   "execution_count": 4,
   "metadata": {},
   "outputs": [],
   "source": [
    "data = Dataset('data/transcriptions/train.csv')\n",
    "words_vocab = data.words_vocab\n",
    "trans_vocab = data.trans_vocab"
   ]
  },
  {
   "cell_type": "code",
   "execution_count": 6,
   "metadata": {},
   "outputs": [],
   "source": [
    "batch_size = 32\n",
    "batch_words, batch_trans_in, batch_trans_out, words_lens, trans_lens = data.get_batch(30, sort=True)"
   ]
  },
  {
   "cell_type": "code",
   "execution_count": 8,
   "metadata": {},
   "outputs": [
    {
     "data": {
      "text/plain": [
       "(torch.Size([30, 15]), torch.Size([30, 13]), torch.Size([30, 13]))"
      ]
     },
     "execution_count": 8,
     "metadata": {},
     "output_type": "execute_result"
    }
   ],
   "source": [
    "batch_words.size(), batch_trans_in.size(), batch_trans_out.size()"
   ]
  },
  {
   "cell_type": "code",
   "execution_count": 52,
   "metadata": {},
   "outputs": [],
   "source": [
    "model_size   = 64\n",
    "padding_idx  = 0\n",
    "\n",
    "embedding    = nn.Embedding(data.words_vocab.vocab_size,\n",
    "                           model_size,\n",
    "                           padding_idx=padding_idx).to(device)\n",
    "\n",
    "pos_encoding = PositionalEncoding(model_size).to(device)\n",
    "\n",
    "conv1 = nn.Conv1d(model_size, model_size, kernel_size=3, padding=1, stride=1).to(device)\n",
    "\n",
    "conv2 = nn.Conv1d(model_size // 2, model_size, kernel_size=3, padding=1, stride=1).to(device)\n",
    "\n",
    "conv3 = nn.Conv1d(model_size // 2, model_size, kernel_size=3, padding=1, stride=1).to(device)\n"
   ]
  },
  {
   "cell_type": "code",
   "execution_count": 53,
   "metadata": {},
   "outputs": [],
   "source": [
    "embedded = embedding(batch_words)\n",
    "embedded = pos_encoding(embedded)"
   ]
  },
  {
   "cell_type": "code",
   "execution_count": 54,
   "metadata": {},
   "outputs": [],
   "source": [
    "x = embedded.transpose(1, 2)"
   ]
  },
  {
   "cell_type": "code",
   "execution_count": 59,
   "metadata": {},
   "outputs": [
    {
     "name": "stdout",
     "output_type": "stream",
     "text": [
      "torch.Size([30, 64, 15])\n",
      "torch.Size([30, 32, 15])\n",
      "\n",
      "torch.Size([30, 64, 15])\n",
      "torch.Size([30, 32, 15])\n",
      "\n",
      "torch.Size([30, 64, 15])\n"
     ]
    }
   ],
   "source": [
    "x = conv1(x)\n",
    "print(x.size())\n",
    "x = F.glu(x, dim=1)\n",
    "print(x.size())\n",
    "print()\n",
    "\n",
    "x = conv2(x)\n",
    "print(x.size())\n",
    "x = F.glu(x, dim=1)\n",
    "print(x.size())\n",
    "print()\n",
    "\n",
    "x = conv3(x)\n",
    "print(x.size())"
   ]
  },
  {
   "cell_type": "code",
   "execution_count": 693,
   "metadata": {
    "code_folding": []
   },
   "outputs": [],
   "source": [
    "class ConvEncoder(nn.Module):\n",
    "    def __init__(self, vocab_size, model_size, num_layers, pad_idx, norm_const=0.5):\n",
    "        super(ConvEncoder, self).__init__()\n",
    "        \n",
    "        self.pad_idx = pad_idx\n",
    "        self.norm_const = norm_const\n",
    "        \n",
    "        self.embedding    = nn.Embedding(data.words_vocab.vocab_size,\n",
    "                           model_size,\n",
    "                           padding_idx=padding_idx).to(device)\n",
    "\n",
    "        self.pos_encoding = PositionalEncoding(model_size).to(device)\n",
    "\n",
    "        self.convs = nn.ModuleList([\n",
    "            nn.Conv1d(model_size, model_size * 2, kernel_size=3, padding=1, stride=1).to(device)        \n",
    "            for _ in range(num_layers)\n",
    "        ])\n",
    "        \n",
    "        self.linear_in = nn.Linear(model_size, model_size)\n",
    "        self.linear_out = nn.Linear(model_size, model_size)\n",
    "        \n",
    "    def forward(self, source):\n",
    "        '''\n",
    "        Inputs:\n",
    "            source: (batch_size x seq_len)\n",
    "        Outputs:\n",
    "            x: (batch_size x seq_len x model_size)\n",
    "            y: (batch_size x seq_len x model_size)\n",
    "            mask: (batch x 1 x seq_len)\n",
    "        '''\n",
    "        mask = (source == self.pad_idx)\n",
    "        mask = mask.unsqueeze(1) \n",
    "        \n",
    "        embedded = self.embedding(source)\n",
    "        embedded = self.pos_encoding(embedded)\n",
    "        \n",
    "        x = self.linear_in(embedded)\n",
    "        x = embedded.transpose(1, 2)\n",
    "        \n",
    "        res = x\n",
    "        for conv in self.convs:\n",
    "            x.masked_fill_(mask, 1e-18) #small number\n",
    "            x = conv(x)\n",
    "            x = F.glu(x, dim=1)\n",
    "            x = (x + res) * math.sqrt(self.norm_const)\n",
    "            res = x\n",
    "            \n",
    "        \n",
    "        x = x.transpose(1, 2)\n",
    "        x = self.linear_out(x)\n",
    "        y = (x + embedded) * math.sqrt(self.norm_const)\n",
    "        \n",
    "        return x, y, mask\n",
    "\n",
    "    \n",
    "class MultiStepAttention(nn.Module):\n",
    "    def __init__(self, in_channels, model_size, norm_const=0.5):\n",
    "        super(MultiStepAttention, self).__init__()\n",
    "        \n",
    "        self.in_channels = in_channels\n",
    "        self.model_size = model_size\n",
    "        self.norm_const = norm_const\n",
    "        \n",
    "        self.linear_in = nn.Linear(in_channels, model_size)\n",
    "        self.linear_out = nn.Linear(model_size, in_channels)\n",
    "        \n",
    "    def forward(self, encoder_outputs, encoder_emb, decoder_outputs, decoder_emb, mask = None):\n",
    "        '''\n",
    "        Inputs:\n",
    "            encoder_outputs: (batch_size x enc_seq_len x model_size)\n",
    "            encoder_emb: (batch_size x enc_seq_len x model_size)\n",
    "            decoder_outputs : (batch_size x dec_seq_len x model_size)\n",
    "            decoder_emb: (batch_size x dec_seq_len x model_size)\n",
    "            mask: batch x 1 x enc_seq_len\n",
    "        '''\n",
    "        \n",
    "        res   = decoder_outputs\n",
    "#         print(decoder_outputs.size(), 'decoder out')\n",
    "#         print(decoder_emb.size(), 'emb')\n",
    "#         print(self.linear_in(decoder_outputs).size(), 'linear')\n",
    "        query = (self.linear_in(decoder_outputs) + decoder_emb) * math.sqrt(self.norm_const)\n",
    "\n",
    "        \n",
    "        logits = decoder_outputs.matmul(encoder_outputs.transpose(1, 2))\n",
    "#         print(logits.size(), 'logits')\n",
    "        if mask is not None:\n",
    "            logits.masked_fill_(mask, -1e18)\n",
    "            \n",
    "        weights = F.softmax(logits, dim=-1)\n",
    "#         print(weights.size(), 'weights')\n",
    "        \n",
    "        output = weights.matmul(encoder_outputs + encoder_emb)\n",
    "        output = (self.linear_out(output) + decoder_outputs) * math.sqrt(self.norm_const)\n",
    "\n",
    "#         print(output.size(), 'output')\n",
    "        return output, weights\n",
    "        \n",
    "        \n",
    "class ConvDecoder(nn.Module):\n",
    "    def __init__(self, vocab_size, model_size, pad_idx, bottle_size, num_layers, norm_const=0.5):\n",
    "        super(ConvDecoder, self).__init__()\n",
    "        \n",
    "        self.pad_idx = pad_idx\n",
    "        self.norm_const = norm_const\n",
    "        self.vocab_size = vocab_size\n",
    "        \n",
    "        self.embedding    = nn.Embedding(vocab_size,\n",
    "                           model_size,\n",
    "                           padding_idx=padding_idx).to(device)\n",
    "\n",
    "        self.pos_encoding = PositionalEncoding(model_size)\n",
    "    \n",
    "        self.convs = nn.ModuleList([\n",
    "            nn.Conv1d(model_size, model_size * 2, kernel_size=3, padding=0, stride=1).to(device)        \n",
    "            for _ in range(num_layers)\n",
    "        ])\n",
    "        \n",
    "        self.attns = nn.ModuleList([\n",
    "                        MultiStepAttention(model_size, model_size)\n",
    "                        for _ in range(num_layers)\n",
    "        ])\n",
    "        \n",
    "        self.linear_in = nn.Linear(model_size, model_size)\n",
    "        self.linear_out = nn.Linear(model_size, model_size)\n",
    "        \n",
    "        self.linear_logits = nn.Linear(model_size, vocab_size)\n",
    "        \n",
    "        \n",
    "        \n",
    "    def forward(self, target, encoder_outputs, encoder_emb, encoder_mask):\n",
    "        '''\n",
    "        Input:\n",
    "            target: (batch_size x seq_len)\n",
    "            encoder_outputs: (batch_size x seq_len x model_size)\n",
    "            encoder_emb: (batch_size x seq_len x model_size)\n",
    "            encoder_mask: (batch x 1 x seq_len)       \n",
    "        \n",
    "        '''\n",
    "        target = F.pad(target, (2, 0))\n",
    "        mask = (target == self.pad_idx)\n",
    "        mask = mask.unsqueeze(1)#.transpose(1, 2)\n",
    "        \n",
    "        embedded = self.embedding(target)\n",
    "        embedded = self.pos_encoding(embedded)\n",
    "               \n",
    "        x = self.linear_in(embedded)\n",
    "        x = x.transpose(1, 2)\n",
    "        \n",
    "\n",
    "        for att, conv in zip(self.attns, self.convs): \n",
    "            x.masked_fill_(mask, 0) #small number\n",
    "            x = F.pad(x, (2, 0))\n",
    "            \n",
    "            x = conv(x)\n",
    "            x = F.glu(x, dim=1)\n",
    "            \n",
    "            res = x\n",
    "            x, _ = att(encoder_outputs, encoder_emb, x.transpose(1, 2), embedded, encoder_mask)\n",
    "            x = (x + res.transpose(1, 2)) * math.sqrt(self.norm_const)\n",
    "                           \n",
    "            x = x.transpose(1, 2)\n",
    "\n",
    "        \n",
    "        x = x.transpose(1, 2)\n",
    "        out = self.linear_logits(x[:, 2:, :])       \n",
    "        logits = out.view(-1, self.vocab_size)\n",
    "\n",
    "        return logits    "
   ]
  },
  {
   "cell_type": "code",
   "execution_count": 694,
   "metadata": {},
   "outputs": [],
   "source": [
    "decoder = ConvDecoder(data.words_vocab.vocab_size, model_size, 0,  3, 3).to(device)"
   ]
  },
  {
   "cell_type": "code",
   "execution_count": 695,
   "metadata": {},
   "outputs": [],
   "source": [
    "model_size = 64\n",
    "num_heads   = 8\n",
    "num_layers = 2\n",
    "ff_size = 128\n",
    "\n",
    "encoder = ConvEncoder(data.words_vocab.vocab_size, model_size, 3, 0).to(device)\n",
    "\n",
    "decoder = ConvDecoder(data.trans_vocab.vocab_size, model_size, 0,  3, 3).to(device)\n",
    "\n",
    "criterion = nn.CrossEntropyLoss()\n",
    "model = Model(data, encoder, decoder, model_size).to(device)\n",
    "optimizer = optim.Adam(model.parameters())"
   ]
  },
  {
   "cell_type": "code",
   "execution_count": 696,
   "metadata": {
    "code_folding": []
   },
   "outputs": [],
   "source": [
    "class Model(nn.Module):\n",
    "    def __init__(self, dataset, encoder, decoder, hidden_size):\n",
    "        super(Model, self).__init__()\n",
    "        self.dataset = dataset\n",
    "        self.encoder = encoder\n",
    "        self.decoder = decoder\n",
    "        \n",
    "        \n",
    "    def forward(self, batch_words, batch_trans_in, source_lens = None, mask = None):\n",
    "        \n",
    "        encoder_outputs, encoder_emb, enc_mask = self.encoder(batch_words)\n",
    "        out = self.decoder(batch_trans_in, encoder_outputs, encoder_emb, enc_mask)\n",
    "        \n",
    "        return out"
   ]
  },
  {
   "cell_type": "code",
   "execution_count": 697,
   "metadata": {
    "code_folding": [
     0
    ]
   },
   "outputs": [],
   "source": [
    "class Trainer:\n",
    "    def __init__(self, dataset, model, optimizer, criterion, batch_size):\n",
    "        \n",
    "        \n",
    "        self.dataset = dataset\n",
    "        self.train_losses = []\n",
    "        self.val_losses = []\n",
    "        self.batch_size = batch_size\n",
    "        \n",
    "        self.optimizer = optimizer\n",
    "        self.model = model\n",
    "        self.criterion = criterion\n",
    "        \n",
    "               \n",
    "    def train(self, n_epochs):\n",
    "        \n",
    "        mask_words = None\n",
    "        for epoch in range(n_epochs):\n",
    "\n",
    "            for batch_idx in range(len(self.dataset)//self.batch_size):\n",
    "\n",
    "                batch_words, batch_trans_in, batch_trans_out, words_lens, trans_lens = self.dataset.get_batch(32, sort = True)\n",
    "                mask_words  = batch_words != 0\n",
    "                \n",
    "                logits = self.model(batch_words, batch_trans_in, words_lens, mask_words)\n",
    "\n",
    "                batch_trans_out = batch_trans_out.view(-1)  \n",
    "                mask = batch_trans_out != self.dataset.trans_vocab.pad_idx\n",
    "                \n",
    "\n",
    "                loss = self.criterion(logits[mask], batch_trans_out[mask])\n",
    "\n",
    "                self.optimizer.zero_grad()\n",
    "\n",
    "                loss.backward()\n",
    "\n",
    "                self.optimizer.step()\n",
    "\n",
    "\n",
    "                self.train_losses.append(loss.item())\n",
    "                \n",
    "                if batch_idx % 200 == 0:\n",
    "                    val_loss = self.eval_()\n",
    "                    self.val_losses.append(val_loss.item())\n",
    "                    self.plot(epoch, batch_idx, self.train_losses, self.val_losses)\n",
    "                  \n",
    "        \n",
    "    def eval_(self):\n",
    "        \n",
    "        val_words, val_trans_in, val_trans_out, val_words_lens, val_trans_lens = self.dataset.get_batch(32, sort = True, val = True)\n",
    "        val_mask = val_words != 0\n",
    "        logits = self.model(val_words, val_trans_in, val_words_lens, val_mask)\n",
    "        val_trans_out = val_trans_out.view(-1)                \n",
    "\n",
    "        mask = val_trans_out != trans_vocab.pad_idx\n",
    "\n",
    "        loss = self.criterion(logits[mask], val_trans_out[mask])\n",
    "\n",
    "        return loss\n",
    "        \n",
    "    def plot(self, epoch, batch_idx, train_losses, val_losses):\n",
    "        clear_output(True)\n",
    "        plt.figure(figsize=(20,5))\n",
    "        plt.subplot(131)\n",
    "        plt.title('epoch %s. | batch: %s | loss: %s' % (epoch, batch_idx, train_losses[-1]))\n",
    "        plt.plot(train_losses)\n",
    "        plt.subplot(132)\n",
    "        plt.title('epoch %s. | loss: %s' % (epoch, val_losses[-1]))\n",
    "        plt.plot(val_losses)\n",
    "        plt.show()  "
   ]
  },
  {
   "cell_type": "code",
   "execution_count": 698,
   "metadata": {},
   "outputs": [],
   "source": [
    "trainer = Trainer(data, model, optimizer, criterion, batch_size = 32)"
   ]
  },
  {
   "cell_type": "code",
   "execution_count": 699,
   "metadata": {},
   "outputs": [
    {
     "data": {
      "image/png": "[encoded data removed]",
      "text/plain": [
       "<Figure size 1440x360 with 2 Axes>"
      ]
     },
     "metadata": {},
     "output_type": "display_data"
    },
    {
     "ename": "KeyboardInterrupt",
     "evalue": "",
     "output_type": "error",
     "traceback": [
      "\u001b[0;31m---------------------------------------------------------------------------\u001b[0m",
      "\u001b[0;31mKeyboardInterrupt\u001b[0m                         Traceback (most recent call last)",
      "\u001b[0;32m<ipython-input-699-b3c9f33c4fbf>\u001b[0m in \u001b[0;36m<module>\u001b[0;34m()\u001b[0m\n\u001b[0;32m----> 1\u001b[0;31m \u001b[0mtrainer\u001b[0m\u001b[0;34m.\u001b[0m\u001b[0mtrain\u001b[0m\u001b[0;34m(\u001b[0m\u001b[0;36m10\u001b[0m\u001b[0;34m)\u001b[0m\u001b[0;34m\u001b[0m\u001b[0m\n\u001b[0m",
      "\u001b[0;32m<ipython-input-697-3671717361c1>\u001b[0m in \u001b[0;36mtrain\u001b[0;34m(self, n_epochs)\u001b[0m\n\u001b[1;32m     29\u001b[0m \u001b[0;34m\u001b[0m\u001b[0m\n\u001b[1;32m     30\u001b[0m \u001b[0;34m\u001b[0m\u001b[0m\n\u001b[0;32m---> 31\u001b[0;31m                 \u001b[0mloss\u001b[0m \u001b[0;34m=\u001b[0m \u001b[0mself\u001b[0m\u001b[0;34m.\u001b[0m\u001b[0mcriterion\u001b[0m\u001b[0;34m(\u001b[0m\u001b[0mlogits\u001b[0m\u001b[0;34m[\u001b[0m\u001b[0mmask\u001b[0m\u001b[0;34m]\u001b[0m\u001b[0;34m,\u001b[0m \u001b[0mbatch_trans_out\u001b[0m\u001b[0;34m[\u001b[0m\u001b[0mmask\u001b[0m\u001b[0;34m]\u001b[0m\u001b[0;34m)\u001b[0m\u001b[0;34m\u001b[0m\u001b[0m\n\u001b[0m\u001b[1;32m     32\u001b[0m \u001b[0;34m\u001b[0m\u001b[0m\n\u001b[1;32m     33\u001b[0m                 \u001b[0mself\u001b[0m\u001b[0;34m.\u001b[0m\u001b[0moptimizer\u001b[0m\u001b[0;34m.\u001b[0m\u001b[0mzero_grad\u001b[0m\u001b[0;34m(\u001b[0m\u001b[0;34m)\u001b[0m\u001b[0;34m\u001b[0m\u001b[0m\n",
      "\u001b[0;31mKeyboardInterrupt\u001b[0m: "
     ]
    }
   ],
   "source": [
    "trainer.train(10)"
   ]
  },
  {
   "cell_type": "code",
   "execution_count": 675,
   "metadata": {
    "code_folding": [
     0
    ]
   },
   "outputs": [],
   "source": [
    "def translate(model, sos_idx, eos_idx, batch_words):\n",
    "    '''\n",
    "    Inputs:\n",
    "        batch_words: (1 x seq_len)\n",
    "    Outputs:\n",
    "        tokens: example - [45, 30, 122, 4, 8, 5]\n",
    "    '''\n",
    "    encoder_outputs, encoder_embedded, mask = model.encoder(batch_words.to(device))\n",
    "    generated_word = [sos_idx]\n",
    "    seq_len = batch_words.size(1)\n",
    "\n",
    "    for char in range(seq_len):\n",
    "        inp_tensor = torch.LongTensor([generated_word]).to(device)\n",
    "        logits = model.decoder(inp_tensor, encoder_outputs, encoder_embedded, mask)\n",
    "#         logits = logits.squeeze(0)\n",
    "        logits = F.softmax(logits, dim=-1)\n",
    "\n",
    "#         print(logits[-1, :])\n",
    "        prob_next_token, next_token = logits[-1, :].max(0)\n",
    "#         print(next_token.item())\n",
    "        generated_word.append(next_token.item())\n",
    "        if next_token is eos_idx:\n",
    "            break\n",
    "    return generated_word"
   ]
  },
  {
   "cell_type": "code",
   "execution_count": 676,
   "metadata": {
    "code_folding": [
     0
    ]
   },
   "outputs": [],
   "source": [
    "def _print(val, model):\n",
    "    batch_words, batch_trans_in, batch_trans_out, words_lens, trans_lens = data.get_batch(1, sort=True, val=val)\n",
    "    batch_words     = batch_words.to(device)\n",
    "    batch_trans_out = batch_trans_out.to(device)\n",
    "\n",
    "\n",
    "    inp = translate(model, data.words_vocab.sos_idx, data.words_vocab.eos_idx, batch_words)\n",
    "            \n",
    "    tokens = [data.trans_vocab.idx2token(idx) for idx in inp if idx not in [data.trans_vocab.sos_idx,\n",
    "                                                                       data.trans_vocab.eos_idx,\n",
    "                                                                       data.trans_vocab.pad_idx]]\n",
    "    print('Src: ', ''.join([data.words_vocab.idx2token(idx) for idx in batch_words[0].tolist()]))\n",
    "    print('Pred:', ''.join(tokens))\n",
    "    print('Real:', ''.join([data.trans_vocab.idx2token(idx) for idx in batch_trans_out[0].tolist() if idx not in [data.trans_vocab.sos_idx,\n",
    "                                                                            data.trans_vocab.eos_idx,\n",
    "                                                                            data.trans_vocab.pad_idx]]))"
   ]
  },
  {
   "cell_type": "code",
   "execution_count": 700,
   "metadata": {},
   "outputs": [
    {
     "name": "stdout",
     "output_type": "stream",
     "text": [
      "Src:  DREPUNG\n",
      "Pred: DREHPAH\n",
      "Real: DREYPAONG\n",
      "\n",
      "Src:  TELEPATHY\n",
      "Pred: TEHLIHIY\n",
      "Real: TAHLEHPAHTHIY\n",
      "\n",
      "Src:  IDENTIFICATIONS\n",
      "Pred: IHFSIHKIHNIYIHKIHNIY\n",
      "Real: AYDEHNAHFAHKEYSHAHNZ\n",
      "\n",
      "Src:  EXHIBITOR\n",
      "Pred: EHKEHSS\n",
      "Real: IHGZIHBAHTER\n",
      "\n",
      "Src:  PROTRUDE\n",
      "Pred: PRAASS\n",
      "Real: PROWTRUWD\n",
      "\n",
      "Src:  MARYLEBONE\n",
      "Pred: MAARIYAHNIY\n",
      "Real: MERLAHBOWN\n",
      "\n",
      "Src:  ADERMAN\n",
      "Pred: VREHNAH\n",
      "Real: AEDERMAHN\n",
      "\n",
      "Src:  TEHRANS\n",
      "Pred: TEHRAHN\n",
      "Real: TEYRAANZ\n",
      "\n",
      "Src:  HILLSBORO\n",
      "Pred: HHLAASSS\n",
      "Real: HHIHLZBEROW\n",
      "\n",
      "Src:  WENDS\n",
      "Pred: WEHSS\n",
      "Real: WEHNDZ\n",
      "\n"
     ]
    }
   ],
   "source": [
    "for _ in range(10):\n",
    "    _print(True, model)\n",
    "    print()"
   ]
  },
  {
   "cell_type": "code",
   "execution_count": null,
   "metadata": {},
   "outputs": [],
   "source": []
  }
 ],
 "metadata": {
  "kernelspec": {
   "display_name": "Python 3",
   "language": "python",
   "name": "python3"
  },
  "language_info": {
   "codemirror_mode": {
    "name": "ipython",
    "version": 3
   },
   "file_extension": ".py",
   "mimetype": "text/x-python",
   "name": "python",
   "nbconvert_exporter": "python",
   "pygments_lexer": "ipython3",
   "version": "3.6.5"
  }
 },
 "nbformat": 4,
 "nbformat_minor": 2
}
