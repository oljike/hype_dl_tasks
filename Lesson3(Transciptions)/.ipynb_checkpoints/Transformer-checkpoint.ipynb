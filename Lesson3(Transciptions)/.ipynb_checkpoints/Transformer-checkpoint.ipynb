{
 "cells": [
  {
   "cell_type": "code",
   "execution_count": 1,
   "metadata": {},
   "outputs": [],
   "source": [
    "from trans import Dataset\n",
    "import math\n",
    "import random\n",
    "\n",
    "import numpy as np\n",
    "\n",
    "import torch\n",
    "import torch.nn as nn\n",
    "import torch.optim as optim\n",
    "import torch.nn.functional as F\n",
    "from torch.nn.utils.rnn import pack_padded_sequence as pack\n",
    "from torch.nn.utils.rnn import pad_packed_sequence as unpack\n",
    "\n",
    "device = torch.device(\"cuda\" if torch.cuda.is_available else \"cpu\")"
   ]
  },
  {
   "cell_type": "code",
   "execution_count": 2,
   "metadata": {},
   "outputs": [],
   "source": [
    "from IPython.display import clear_output\n",
    "import matplotlib.pyplot as plt\n",
    "%matplotlib inline"
   ]
  },
  {
   "cell_type": "code",
   "execution_count": 3,
   "metadata": {},
   "outputs": [],
   "source": [
    "data = Dataset('data/transcriptions/train.csv')\n",
    "words_vocab = data.words_vocab\n",
    "trans_vocab = data.trans_vocab"
   ]
  },
  {
   "cell_type": "code",
   "execution_count": null,
   "metadata": {
    "code_folding": [
     0
    ]
   },
   "outputs": [],
   "source": [
    "class PositionalEncoding(nn.Module):\n",
    "    def __init__(self, dim, max_len=5000):\n",
    "        pe = torch.zeros(max_len, dim)\n",
    "        position = torch.arange(0, max_len).unsqueeze(1)\n",
    "        div_term = torch.exp((torch.arange(0, dim, 2, dtype=torch.float) *\n",
    "                             -(math.log(10000.0) / dim)))\n",
    "        pe[:, 0::2] = torch.sin(position.float() * div_term)\n",
    "        pe[:, 1::2] = torch.cos(position.float() * div_term)\n",
    "        pe = pe.unsqueeze(0)\n",
    "        super(PositionalEncoding, self).__init__()\n",
    "        self.register_buffer('pe', pe)\n",
    "        self.dim = dim\n",
    "\n",
    "    def forward(self, emb):\n",
    "        emb = emb * math.sqrt(self.dim)\n",
    "        emb = emb + self.pe[:,:emb.size(1),:]\n",
    "        return emb"
   ]
  },
  {
   "cell_type": "markdown",
   "metadata": {},
   "source": [
    "### Encoder Part"
   ]
  },
  {
   "cell_type": "code",
   "execution_count": 347,
   "metadata": {
    "code_folding": []
   },
   "outputs": [],
   "source": [
    "class MultiHeadAttention(nn.Module):\n",
    "    \n",
    "    def __init__(self, num_heads, model_size):\n",
    "        super(MultiHeadAttention, self).__init__()\n",
    "        \n",
    "        assert model_size % num_heads == 0 \n",
    "        \n",
    "        self.model_size = model_size\n",
    "        self.num_heads = num_heads\n",
    "        self.head_size    = model_size // num_heads\n",
    "        \n",
    "        self.linear_query = nn.Linear(model_size, model_size, bias = False)\n",
    "        self.linear_key   = nn.Linear(model_size, model_size, bias = False)\n",
    "        self.linear_value = nn.Linear(model_size, model_size, bias = False)\n",
    "        self.linear_out = nn.Linear(model_size, model_size, bias = False)\n",
    "        \n",
    "    def forward(self, query, key, value, mask):\n",
    "        '''\n",
    "        Inputs:\n",
    "            query:   (batch, target_len, hidden)\n",
    "            key:     (batch, source_len, hidden)\n",
    "            value:   (batch, source_len, hidden)  \n",
    "            mask:    (batch, target_len, source_len)\n",
    "\n",
    "        Outputs:\n",
    "            output:  (batch, target_len, model_size)\n",
    "            weight:  (batch, num_heads, target_len, source_len)\n",
    "        '''\n",
    "        batch_size = query.size(0)        \n",
    "        \n",
    "        query = self.linear_query(query)\n",
    "        key   = self.linear_key(key)\n",
    "        value = self.linear_value(value)\n",
    "      \n",
    "        query = query.view(batch_size, -1, self.num_heads, self.head_size)\n",
    "        key   = key.view(batch_size, -1, self.num_heads, self.head_size)\n",
    "        value = value.view(batch_size, -1, self.num_heads, self.head_size)\n",
    "        \n",
    "        query = query.transpose(1, 2)\n",
    "        key = key.transpose(1, 2)\n",
    "        value = value.transpose(1, 2)\n",
    "             \n",
    "        key = key.transpose(2, 3)\n",
    "        \n",
    "        logits = torch.matmul(query, key)\n",
    "        logits = logits / math.sqrt(self.head_size)\n",
    "\n",
    "        \n",
    "        if mask is not None:\n",
    "            mask = mask.unsqueeze(1)#.repeat()\n",
    "            logits.masked_fill_(mask, -1e18)      \n",
    "        \n",
    "        weights = F.softmax(logits, dim = -1)\n",
    "\n",
    "        output = torch.matmul(weights, value)       \n",
    "        output = output.transpose(1,2).contiguous()\n",
    "        output = output.view(batch_size, -1, self.model_size)\n",
    "        output = self.linear_out(output)\n",
    "\n",
    "        return output, weights"
   ]
  },
  {
   "cell_type": "code",
   "execution_count": 348,
   "metadata": {
    "code_folding": [
     0
    ]
   },
   "outputs": [],
   "source": [
    "class PositionWiseFeedForward(nn.Module):\n",
    "    def __init__(self, model_size, ff_size):\n",
    "        super(PositionWiseFeedForward, self).__init__()\n",
    "        \n",
    "        self.linear_1 = nn.Linear(model_size, ff_size)\n",
    "        self.linear_2 = nn.Linear(ff_size, model_size)\n",
    "        self.layer_norm = nn.LayerNorm(model_size)\n",
    "        \n",
    "    def forward(self, x):\n",
    "        '''\n",
    "        Inputs:\n",
    "            x: (batch_size x seq_len x model-size)\n",
    "        Outputs:\n",
    "            output: \n",
    "        '''        \n",
    "        res = x\n",
    "        x = self.layer_norm(x)\n",
    "        x = self.linear_1(x)\n",
    "        x = F.relu(x)\n",
    "        x = self.linear_2(x)\n",
    "        \n",
    "        return x + res"
   ]
  },
  {
   "cell_type": "code",
   "execution_count": 349,
   "metadata": {
    "code_folding": [
     0
    ]
   },
   "outputs": [],
   "source": [
    "class TransformerEncoderLayer(nn.Module):\n",
    "    def __init__(self, model_size, num_heads, ff_size):\n",
    "        super(TransformerEncoderLayer, self).__init__()\n",
    "        \n",
    "        self.self_attention = MultiHeadAttention(num_heads, model_size)\n",
    "        self.positionwise_ff = PositionWiseFeedForward(model_size, ff_size)\n",
    "        self.layer_norm = nn.LayerNorm(model_size)\n",
    "        \n",
    "    def forward(self, x, mask=None):\n",
    "        '''\n",
    "        Inputs:\n",
    "            x: (batch x seq_len x model_size)\n",
    "            mask: (batch x seq_len x seq_len)\n",
    "            \n",
    "        Outputs:\n",
    "            output : (batch x seq_len, model_size)\n",
    "        '''\n",
    "        \n",
    "        res  = x\n",
    "        x, _ = self.self_attention(x, x, x, mask)       \n",
    "        x    = x + res\n",
    "        x    = self.positionwise_ff(x)\n",
    "        x    = self.layer_norm(x)\n",
    "        \n",
    "        \n",
    "        return x        "
   ]
  },
  {
   "cell_type": "code",
   "execution_count": 350,
   "metadata": {
    "code_folding": []
   },
   "outputs": [],
   "source": [
    "class TransformerEncoder(nn.Module):\n",
    "    def __init__(self, \n",
    "                vocab_size,\n",
    "                num_layers, \n",
    "                model_size, \n",
    "                num_heads,\n",
    "                ff_size,\n",
    "                padding_idx):\n",
    "        super(TransformerEncoder, self).__init__()\n",
    "        \n",
    "        self.padding_idx = padding_idx\n",
    "\n",
    "        self.embedding = nn.Embedding(vocab_size, model_size, padding_idx=padding_idx)\n",
    "    \n",
    "        self.positional_enc = PositionalEncoding(model_size)\n",
    "\n",
    "        self.enc_blocks = nn.ModuleList(\n",
    "                            [TransformerEncoderLayer(model_size, num_heads, ff_size)\n",
    "                                        for _ in range(num_layers)])\n",
    "        \n",
    "    def forward(self, source):\n",
    "        \n",
    "        '''\n",
    "        Inputs: \n",
    "            source: (batch_size, source_len)\n",
    "            \n",
    "        Outputs:\n",
    "            x: (batch, source_len, hidden)\n",
    "        '''\n",
    "        source_mask = source == self.padding_idx\n",
    "        mask = (source == self.padding_idx).unsqueeze(1).repeat(1, source.size(1), 1)\n",
    "\n",
    "        source_emb = self.embedding(source)\n",
    "        source_emb = self.positional_enc(source_emb)\n",
    "        \n",
    "        x = source_emb\n",
    "        for layer in self.enc_blocks:       \n",
    "            x = layer(x, mask)\n",
    "\n",
    "        return x, source_mask   "
   ]
  },
  {
   "cell_type": "code",
   "execution_count": 351,
   "metadata": {
    "code_folding": [
     0
    ]
   },
   "outputs": [],
   "source": [
    "class DecoderCell(nn.Module):\n",
    "    def __init__(self, vocab_size, emb_size, hidden_size, pad_idx):\n",
    "        super(DecoderCell, self).__init__()\n",
    "        self.vocab_size = vocab_size\n",
    "        self.embedding = nn.Embedding(vocab_size, emb_size, padding_idx=pad_idx)\n",
    "\n",
    "        self.GRU_cell = nn.GRUCell(emb_size, hidden_size)\n",
    "        \n",
    "        self.linear = nn.Linear(hidden_size, vocab_size)\n",
    "        \n",
    "        self.attention = DotAttentionNoCell()\n",
    "        \n",
    "    def forward(self, hidden, target, mask = None):\n",
    "        \n",
    "        embedded = self.embedding(target)\n",
    "\n",
    "        hidden = self.GRU_cell(embedded, hidden)\n",
    "        \n",
    "        out = self.linear(hidden)\n",
    "        \n",
    "        return out, hidden"
   ]
  },
  {
   "cell_type": "markdown",
   "metadata": {},
   "source": [
    "### Decoder part\n"
   ]
  },
  {
   "cell_type": "code",
   "execution_count": 352,
   "metadata": {
    "code_folding": []
   },
   "outputs": [],
   "source": [
    "class TransformerDecoderLayer(nn.Module):\n",
    "    def __init__(self, model_size, num_heads, ff_size):\n",
    "        super(TransformerDecoderLayer, self).__init__()\n",
    "        \n",
    "        self.self_attention = MultiHeadAttention(num_heads, model_size)\n",
    "        self.masked_attention = MaskedMultiHeadAttention(num_heads, model_size)\n",
    "        self.positionwise_ff = PositionWiseFeedForward(model_size, ff_size)\n",
    "        self.layer_norm = nn.LayerNorm(model_size)\n",
    "        \n",
    "    def forward(self, x, enc_outputs, enc_mask=None, subseq_mask=None):\n",
    "        '''\n",
    "        Inputs:\n",
    "            x: (batch x target_len x model_size)\n",
    "            enc_outputs: (batch x num_heads x model_size)\n",
    "            enc_mask : (batch x target_len x source_len)\n",
    "            subseq_mask: (batch x target_len x target_len)\n",
    "            \n",
    "        Outputs:\n",
    "            output : (batch x ? x ?)\n",
    "        '''\n",
    "        \n",
    "        res  = x\n",
    "        \n",
    "\n",
    "        x, _ = self.self_attention(x, x, x, subseq_mask)\n",
    "       \n",
    "        x    = x + res\n",
    "        \n",
    "        x    = self.layer_norm(x)       \n",
    "        \n",
    "        res2 = x\n",
    "        \n",
    "        enc_mask = enc_mask.unsqueeze(1).repeat(1, res.size(1), 1)\n",
    "        x, _ = self.self_attention(x, enc_outputs, enc_outputs, enc_mask)\n",
    "        \n",
    "        x = res2 + x\n",
    "        \n",
    "        x = self.positionwise_ff(x)\n",
    "        \n",
    "        x = self.layer_norm(x)        \n",
    "        \n",
    "        return x        "
   ]
  },
  {
   "cell_type": "code",
   "execution_count": 353,
   "metadata": {
    "code_folding": []
   },
   "outputs": [],
   "source": [
    "class TransformerDecoder(nn.Module):\n",
    "    def __init__(self, vocab_size, emb_size, hidden_size, pad_idx):\n",
    "        super(TransformerDecoder, self).__init__()\n",
    "        \n",
    "        self.padding_idx = pad_idx\n",
    "        \n",
    "        self.vocab_size = vocab_size\n",
    "        \n",
    "        self.embedding = nn.Embedding(vocab_size, emb_size, padding_idx=pad_idx)\n",
    "        \n",
    "        self.positional_enc = PositionalEncoding(hidden_size)\n",
    "        \n",
    "        self.dec_blocks = nn.ModuleList(\n",
    "                            [TransformerDecoderLayer(hidden_size, num_heads, ff_size)\n",
    "                                        for _ in range(num_layers)])\n",
    "        self.linear_out = nn.Linear(hidden_size, vocab_size, bias = False)   \n",
    "        \n",
    "    def forward(self, target, enc_outputs, enc_mask):        \n",
    "        '''\n",
    "        Inputs: \n",
    "            source: (batch_size, target_len)\n",
    "            \n",
    "        Outputs:\n",
    "            x: (batch, source_len, hidden)\n",
    "        '''\n",
    "        \n",
    "        sz_b, len_s = target.size()\n",
    "        subseq_mask = torch.triu(\n",
    "                torch.ones((len_s, len_s), device=target.device, dtype=torch.uint8), diagonal=1)\n",
    "        subseq_mask = subseq_mask.unsqueeze(0).expand(sz_b, -1, -1)  # b x ls x ls\n",
    "\n",
    "        \n",
    "        target_emb = self.embedding(target)\n",
    "        target_emb = self.positional_enc(target_emb) \n",
    "        \n",
    "        x = target_emb\n",
    "        for layer in self.dec_blocks:       \n",
    "            x = layer(x, enc_outputs, enc_mask, subseq_mask)\n",
    "\n",
    "        logits = self.linear_out(x)\n",
    "        \n",
    "        logits = logits.view(-1, self.vocab_size)\n",
    "        \n",
    "        out = F.softmax(logits)\n",
    "        \n",
    "        return out"
   ]
  },
  {
   "cell_type": "markdown",
   "metadata": {},
   "source": [
    "### Model"
   ]
  },
  {
   "cell_type": "code",
   "execution_count": 354,
   "metadata": {
    "code_folding": []
   },
   "outputs": [],
   "source": [
    "class Model(nn.Module):\n",
    "    def __init__(self, dataset, encoder, decoder, hidden_size):\n",
    "        super(Model, self).__init__()\n",
    "        self.dataset = dataset\n",
    "        self.encoder = encoder\n",
    "        self.decoder = decoder\n",
    "        \n",
    "        \n",
    "    def forward(self, batch_words, batch_trans_in, source_lens = None, mask = None):\n",
    "        enc_outputs, enc_mask = self.encoder(batch_words)\n",
    "\n",
    "#         hidden = enc_outputs.mean(1)#.unsqueeze(0)\n",
    "        \n",
    "#         logits = []\n",
    "#         for  t in range(batch_trans_in.size(1)):\n",
    "#             logit, hidden = self.decoder(hidden, batch_trans_in[:, t], mask)        \n",
    "#             logits.append(logit)\n",
    "\n",
    "#         logits = torch.stack(logits, 1)\n",
    "#         logits = logits.view(-1, len(self.dataset.trans_vocab))\n",
    "        out = self.decoder(batch_trans_in, enc_outputs, enc_mask)\n",
    "        \n",
    "        return out\n",
    "    \n",
    "    def generate(self, model, bos_idx, eos_idx, batch_words):\n",
    "        inp = [bos_idx]\n",
    "        enc_outputs = self.encoder(batch_words)\n",
    "        mask_words  = batch_words != 0\n",
    "\n",
    "        hidden = enc_outputs.mean(1)      \n",
    "        \n",
    "        for _ in range(100):\n",
    "            inp_tensor = torch.LongTensor([inp[-1]]).to(batch_words.device)\n",
    "\n",
    "            logits, hidden   = self.decoder(hidden, inp_tensor, mask_words)\n",
    "            next_token = F.softmax(logits, dim=-1)[-1].topk(1)[1].item()\n",
    "            inp.append(next_token)\n",
    "            if next_token == eos_idx:\n",
    "                break\n",
    "        return inp"
   ]
  },
  {
   "cell_type": "code",
   "execution_count": null,
   "metadata": {},
   "outputs": [],
   "source": []
  },
  {
   "cell_type": "code",
   "execution_count": 355,
   "metadata": {
    "code_folding": []
   },
   "outputs": [],
   "source": [
    "hidden_size = 256\n",
    "num_heads   = 8\n",
    "num_layers = 2\n",
    "ff_size = 128\n",
    "\n",
    "encoder = TransformerEncoder(len(words_vocab), num_layers, \n",
    "                hidden_size, \n",
    "                num_heads,\n",
    "                ff_size,\n",
    "                0).to(device)\n",
    "\n",
    "decoder = TransformerDecoder(len(trans_vocab), hidden_size, hidden_size, 0).to(device)\n",
    "\n",
    "criterion = nn.CrossEntropyLoss()\n",
    "model = Model(data, encoder, decoder, hidden_size).to(device)\n",
    "optimizer = optim.Adam(model.parameters())"
   ]
  },
  {
   "cell_type": "code",
   "execution_count": 356,
   "metadata": {
    "code_folding": [
     0
    ]
   },
   "outputs": [],
   "source": [
    "class Trainer:\n",
    "    def __init__(self, dataset, model, optimizer, criterion, batch_size):\n",
    "        \n",
    "        \n",
    "        self.dataset = dataset\n",
    "        self.train_losses = []\n",
    "        self.val_losses = []\n",
    "        self.batch_size = batch_size\n",
    "        \n",
    "        self.optimizer = optimizer\n",
    "        self.model = model\n",
    "        self.criterion = criterion\n",
    "        \n",
    "               \n",
    "    def train(self, n_epochs):\n",
    "        \n",
    "        mask_words = None\n",
    "        for epoch in range(n_epochs):\n",
    "\n",
    "            for batch_idx in range(len(self.dataset)//self.batch_size):\n",
    "\n",
    "                batch_words, batch_trans_in, batch_trans_out, words_lens, trans_lens = self.dataset.get_batch(32, sort = True)\n",
    "                mask_words  = batch_words != 0\n",
    "                \n",
    "                logits = self.model(batch_words, batch_trans_in, words_lens, mask_words)\n",
    "\n",
    "                batch_trans_out = batch_trans_out.view(-1)  \n",
    "                mask = batch_trans_out != self.dataset.trans_vocab.pad_idx\n",
    "                \n",
    "                loss = self.criterion(logits[mask], batch_trans_out[mask])\n",
    "\n",
    "                self.optimizer.zero_grad()\n",
    "\n",
    "                loss.backward()\n",
    "\n",
    "                self.optimizer.step()\n",
    "\n",
    "\n",
    "                self.train_losses.append(loss.item())\n",
    "                \n",
    "                if batch_idx % 200 == 0:\n",
    "                    val_loss = self.eval_()\n",
    "                    self.val_losses.append(val_loss.item())\n",
    "                    self.plot(epoch, batch_idx, self.train_losses, self.val_losses)\n",
    "                  \n",
    "        \n",
    "    def eval_(self):\n",
    "        \n",
    "        val_words, val_trans_in, val_trans_out, val_words_lens, val_trans_lens = self.dataset.get_batch(32, sort = True, val = True)\n",
    "        val_mask = val_words != 0\n",
    "        logits = self.model(val_words, val_trans_in, val_words_lens, val_mask)\n",
    "        val_trans_out = val_trans_out.view(-1)                \n",
    "\n",
    "        mask = val_trans_out != trans_vocab.pad_idx\n",
    "\n",
    "        loss = self.criterion(logits[mask], val_trans_out[mask])\n",
    "\n",
    "        return loss\n",
    "        \n",
    "    def plot(self, epoch, batch_idx, train_losses, val_losses):\n",
    "        clear_output(True)\n",
    "        plt.figure(figsize=(20,5))\n",
    "        plt.subplot(131)\n",
    "        plt.title('epoch %s. | batch: %s | loss: %s' % (epoch, batch_idx, train_losses[-1]))\n",
    "        plt.plot(train_losses)\n",
    "        plt.subplot(132)\n",
    "        plt.title('epoch %s. | loss: %s' % (epoch, val_losses[-1]))\n",
    "        plt.plot(val_losses)\n",
    "        plt.show()  "
   ]
  },
  {
   "cell_type": "code",
   "execution_count": 357,
   "metadata": {},
   "outputs": [],
   "source": [
    "trainer = Trainer(data, model, optimizer, criterion, batch_size = 32)"
   ]
  },
  {
   "cell_type": "code",
   "execution_count": null,
   "metadata": {},
   "outputs": [
    {
     "data": {
      "image/png": "[encoded data removed]",
      "text/plain": [
       "<Figure size 1440x360 with 2 Axes>"
      ]
     },
     "metadata": {},
     "output_type": "display_data"
    }
   ],
   "source": [
    "trainer.train(10)"
   ]
  },
  {
   "cell_type": "code",
   "execution_count": 318,
   "metadata": {
    "code_folding": [
     0
    ]
   },
   "outputs": [],
   "source": [
    "def _print(val):\n",
    "    batch_words, batch_trans_in, batch_trans_out, words_lens, trans_lens = data.get_batch(1, sort=True, val=val)\n",
    "    batch_words     = batch_words.to(device)\n",
    "    batch_trans_out = batch_trans_out.to(device)\n",
    "\n",
    "\n",
    "    inp = model.generate(data.words_vocab.sos_idx, data.words_vocab.eos_idx, batch_words)\n",
    "            \n",
    "    tokens = [data.trans_vocab.idx2token(idx) for idx in inp if idx not in [data.trans_vocab.sos_idx,\n",
    "                                                                       data.trans_vocab.eos_idx,\n",
    "                                                                       data.trans_vocab.pad_idx]]\n",
    "    print('Src: ', ''.join([data.words_vocab.idx2token(idx) for idx in batch_words[0].tolist()]))\n",
    "    print('Pred:', ''.join(tokens))\n",
    "    print('Real:', ''.join([data.trans_vocab.idx2token(idx) for idx in batch_trans_out[0].tolist() if idx not in [data.trans_vocab.sos_idx,\n",
    "                                                                            data.trans_vocab.eos_idx,\n",
    "                                                                            data.trans_vocab.pad_idx]]))"
   ]
  },
  {
   "cell_type": "code",
   "execution_count": 119,
   "metadata": {},
   "outputs": [
    {
     "name": "stdout",
     "output_type": "stream",
     "text": [
      "Src:  REVES\n",
      "Pred: RIHVERSAHVIHS\n",
      "Real: RIYVZ\n",
      "\n",
      "Src:  DIVERSIONARY\n",
      "Pred: DIHVERAHNEHRIYZ\n",
      "Real: DAYVERZHAHNEHRIY\n",
      "\n",
      "Src:  VOICE\n",
      "Pred: OWVOWVEHKAHVAYS\n",
      "Real: VOYS\n",
      "\n",
      "Src:  KISHORE\n",
      "Pred: KIHSCHIYHHER\n",
      "Real: KIYSHAOR\n",
      "\n",
      "Src:  BARRECA\n",
      "Pred: BRAEKRAHBEY\n",
      "Real: BAAREHKAH\n",
      "\n",
      "Src:  BABIES\n",
      "Pred: BAEBBBBBBAYBAHZ\n",
      "Real: BEYBIYZ\n",
      "\n",
      "Src:  TELECOMMUTER\n",
      "Pred: TEHLKAHMERAHT\n",
      "Real: TEHLAHKAHMYUWTER\n",
      "\n",
      "Src:  UNCOMPLETED\n",
      "Pred: KAHNTAHMPLOYD\n",
      "Real: AHNKAHMPLIYTIHD\n",
      "\n",
      "Src:  TRANSCENDENT\n",
      "Pred: TRAENSAHNSTAHND\n",
      "Real: TRAENSEHNDAHNT\n",
      "\n",
      "Src:  SCHWED\n",
      "Pred: SHKSHWEHDLUWD\n",
      "Real: SHWEHD\n",
      "\n"
     ]
    }
   ],
   "source": [
    "for _ in range(10):\n",
    "    _print(True)\n",
    "    print()"
   ]
  },
  {
   "cell_type": "code",
   "execution_count": null,
   "metadata": {},
   "outputs": [],
   "source": []
  }
 ],
 "metadata": {
  "kernelspec": {
   "display_name": "Python 3",
   "language": "python",
   "name": "python3"
  },
  "language_info": {
   "codemirror_mode": {
    "name": "ipython",
    "version": 3
   },
   "file_extension": ".py",
   "mimetype": "text/x-python",
   "name": "python",
   "nbconvert_exporter": "python",
   "pygments_lexer": "ipython3",
   "version": "3.6.5"
  }
 },
 "nbformat": 4,
 "nbformat_minor": 2
}
