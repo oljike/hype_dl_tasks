{
 "cells": [
  {
   "cell_type": "code",
   "execution_count": null,
   "metadata": {},
   "outputs": [],
   "source": [
    "from trans import Dataset\n",
    "import math\n",
    "import random\n",
    "\n",
    "import numpy as np\n",
    "\n",
    "import torch\n",
    "import torch.nn as nn\n",
    "import torch.optim as optim\n",
    "import torch.nn.functional as F"
   ]
  },
  {
   "cell_type": "code",
   "execution_count": 2,
   "metadata": {},
   "outputs": [],
   "source": [
    "from IPython.display import clear_output\n",
    "import matplotlib.pyplot as plt\n",
    "%matplotlib inline"
   ]
  },
  {
   "cell_type": "code",
   "execution_count": 3,
   "metadata": {},
   "outputs": [],
   "source": [
    "data = Dataset('data/transcriptions/train.csv')\n",
    "words_vocab = data.words_vocab\n",
    "trans_vocab = data.trans_vocab"
   ]
  },
  {
   "cell_type": "code",
   "execution_count": 4,
   "metadata": {},
   "outputs": [],
   "source": [
    "batch_words, batch_trans_in, batch_trans_out, words_lens, trans_lens = data.get_batch(32)"
   ]
  },
  {
   "cell_type": "code",
   "execution_count": 5,
   "metadata": {},
   "outputs": [
    {
     "data": {
      "text/plain": [
       "(torch.Size([32, 12]),\n",
       " torch.Size([32, 13]),\n",
       " torch.Size([32, 13]),\n",
       " torch.Size([32]),\n",
       " torch.Size([32]))"
      ]
     },
     "execution_count": 5,
     "metadata": {},
     "output_type": "execute_result"
    }
   ],
   "source": [
    "batch_words.size(), batch_trans_in.size(), batch_trans_out.size(), words_lens.size(), trans_lens.size()"
   ]
  },
  {
   "cell_type": "code",
   "execution_count": 46,
   "metadata": {},
   "outputs": [],
   "source": [
    "class Encoder(nn.Module):\n",
    "    def __init__(self, vocab_size, emb_size, hidden_size, pad_idx):\n",
    "        super(Encoder, self).__init__()\n",
    "            \n",
    "        self.vocab_size = vocab_size\n",
    "        self.emb_size = emb_size\n",
    "        self.hidden_size = hidden_size\n",
    "        self.pad_idx = pad_idx\n",
    "        \n",
    "        self.embedding = nn.Embedding(vocab_size, emb_size, padding_idx=pad_idx)\n",
    "        self.GRU_cell = nn.GRUCell(emb_size, hidden_size)\n",
    "        \n",
    "    def forward(self, batch_words):\n",
    "        \n",
    "        batch_size = batch_words.size(0)\n",
    "        seq_len = batch_words.size(1)\n",
    "        \n",
    "        embedded = self.embedding(batch_words)\n",
    "        \n",
    "        hidden = torch.zeros(batch_size, self.hidden_size).to(batch_words.device)\n",
    "        \n",
    "        outputs = []\n",
    "        for t in range(seq_len):    \n",
    "            hidden = self.GRU_cell(embedded[:, t, :], hidden)\n",
    "            outputs.append(hidden)\n",
    "        outputs = torch.stack(outputs, dim = 1)  \n",
    "\n",
    "        return outputs, hidden\n",
    "\n",
    "class DotAttention(nn.Module):\n",
    "    def __init__(self):\n",
    "        super(DotAttention, self).__init__()\n",
    "        \n",
    "        \n",
    "    def forward(self, outputs, hidden):\n",
    "        '''\n",
    "        Inputs:\n",
    "            outputs: (batch_size, seq_len, hidden) - outputs of encoder\n",
    "            hidden: (batch_size, hidden) - previous hidden state\n",
    "            \n",
    "        Outputs:\n",
    "            weights: (batch_size, seq_len, 1)\n",
    "            context: (batch, hidden)\n",
    "        '''\n",
    "\n",
    "        hidden =  hidden.unsqueeze(2)\n",
    "        product = torch.matmul(outputs, hidden)\n",
    "\n",
    "        weights = torch.softmax(product, dim = 2)\n",
    "\n",
    "        context = (weights * outputs).sum(1)\n",
    "        \n",
    "        return weights, context\n",
    "    \n",
    "class BahdanauAttention(nn.Module):\n",
    "    def __init__(self, hidden_size):\n",
    "        super(BahdanauAttention, self).__init__()\n",
    "        \n",
    "        self.W = nn.Linear(2 * hidden_size, hidden_size)\n",
    "        self.v_a = nn.Linear(hidden_size, 1)\n",
    "        \n",
    "        \n",
    "    def forward(self, outputs, hidden):\n",
    "        '''\n",
    "        Inputs:\n",
    "            outputs: (batch_size, seq_len, hidden) - outputs of encoder\n",
    "            hidden: (batch_size, hidden) - previous hidden state\n",
    "            \n",
    "        Outputs:\n",
    "            weights: (batch_size, seq_len, 1)\n",
    "            context: (batch, hidden)\n",
    "        '''\n",
    "\n",
    "        hidden =  hidden.unsqueeze(1).repeat(1, outputs.size(1), 1)\n",
    "\n",
    "        hidden_concat = torch.cat((outputs, hidden), 2)\n",
    "        W = self.W(hidden_concat)\n",
    "        W = F.tanh(W)\n",
    "        wieghts = self.v_a(W)\n",
    "\n",
    "        weights = torch.softmax(wieghts, dim = 2)\n",
    "\n",
    "        context = (weights * outputs).sum(1)\n",
    "        \n",
    "        return weights, context\n",
    "\n",
    "class GeneralAttention(nn.Module):\n",
    "    def __init__(self, hidden_size):\n",
    "        super(GeneralAttention, self).__init__()\n",
    "        \n",
    "        self.W = nn.Linear(2 * hidden_size, hidden_size)\n",
    "        self.v_a = nn.Linear(hidden_size, 1)\n",
    "        \n",
    "        \n",
    "    def forward(self, outputs, hidden):\n",
    "        '''\n",
    "        Inputs:\n",
    "            outputs: (batch_size, seq_len, hidden) - outputs of encoder\n",
    "            hidden: (batch_size, hidden) - previous hidden state\n",
    "            \n",
    "        Outputs:\n",
    "            weights: (batch_size, seq_len, 1)\n",
    "            context: (batch, hidden)\n",
    "        '''\n",
    "\n",
    "        hidden =  hidden.unsqueeze(1).repeat(1, outputs.size(1), 1)\n",
    "\n",
    "        hidden_concat = torch.cat((outputs, hidden), 2)\n",
    "        W = self.W(hidden_concat)\n",
    "        W = F.tanh(W)\n",
    "        wieghts = self.v_a(W)\n",
    "\n",
    "        weights = torch.softmax(wieghts, dim = 2)\n",
    "\n",
    "        context = (weights * outputs).sum(1)\n",
    "        \n",
    "        return weights, context\n",
    "        \n",
    "class Decoder(nn.Module):\n",
    "    def __init__(self, vocab_size, emb_size, hidden_size, pad_idx, dot = False):\n",
    "        super(Decoder, self).__init__()\n",
    "    \n",
    "        self.embedding = nn.Embedding(vocab_size, emb_size, padding_idx=pad_idx)\n",
    "        if dot:\n",
    "            self.attention = DotAttention()\n",
    "        else: \n",
    "            self.attention = BahdanauAttention(hidden_size)\n",
    "            \n",
    "        self.GRU_cell = nn.GRUCell(emb_size + hidden_size, hidden_size)\n",
    "        self.linear = nn.Linear(hidden_size, vocab_size)\n",
    "    \n",
    "    def forward(self, outputs, hidden, target):\n",
    " \n",
    "        _, context = self.attention(outputs, hidden)       \n",
    "        \n",
    "        embedded = self.embedding(target)\n",
    "        \n",
    "        x_t = torch.cat((embedded, context), dim = 1)\n",
    "        \n",
    "        hidden = self.GRU_cell(x_t, hidden)\n",
    "        \n",
    "        out = self.linear(hidden)\n",
    "        \n",
    "        \n",
    "        return out, hidden"
   ]
  },
  {
   "cell_type": "code",
   "execution_count": 47,
   "metadata": {},
   "outputs": [],
   "source": [
    "encoder = Encoder(len(words_vocab), 32, 64, pad_idx=words_vocab.pad_idx)\n",
    "decoder = Decoder(len(trans_vocab), 32, 64, pad_idx=words_vocab.pad_idx)\n",
    "\n",
    "criterion = nn.CrossEntropyLoss()\n",
    "\n",
    "encoder_optimizer = optim.Adam(encoder.parameters())\n",
    "decoder_optimizer = optim.Adam(decoder.parameters())"
   ]
  },
  {
   "cell_type": "code",
   "execution_count": 48,
   "metadata": {},
   "outputs": [],
   "source": [
    "num_epochs = 5\n",
    "batch_size = 32\n",
    "losses = []"
   ]
  },
  {
   "cell_type": "code",
   "execution_count": 49,
   "metadata": {},
   "outputs": [],
   "source": [
    "class Model(nn.Module):\n",
    "    def __init__(self, dataset, encoder, decoder):\n",
    "        super(Model, self).__init__()\n",
    "        self.dataset = dataset\n",
    "        self.encoder = encoder\n",
    "        self.decoder = decoder\n",
    "        \n",
    "        \n",
    "    def forward(self, batch_words, batch_trans_in):\n",
    "        outputs, hidden = self.encoder(batch_words)\n",
    "\n",
    "        logits = []\n",
    "        for  t in range(batch_trans_in.size(1)):\n",
    "            logit, hidden = self.decoder(outputs, hidden,  batch_trans_in[:, t])\n",
    "            logits.append(logit)\n",
    "\n",
    "\n",
    "        logits = torch.stack(logits, 1)\n",
    "        logits = logits.view(-1, len(self.dataset.trans_vocab))\n",
    "        \n",
    "        \n",
    "        return logits\n",
    "    "
   ]
  },
  {
   "cell_type": "code",
   "execution_count": 50,
   "metadata": {},
   "outputs": [],
   "source": [
    "class Trainer:\n",
    "    def __init__(self, dataset, model, encoder_optimizer, decoder_optimizer, criterion, batch_size):\n",
    "        \n",
    "        \n",
    "        self.dataset = dataset\n",
    "        self.train_losses = []\n",
    "        self.val_losses = []\n",
    "        self.batch_size = batch_size\n",
    "        \n",
    "        self.model = model\n",
    "        self.encoder_optimizer = encoder_optimizer\n",
    "        self.decoder_optimizer = decoder_optimizer\n",
    "        self.criterion = criterion\n",
    "        \n",
    "               \n",
    "    def train(self, n_epochs):\n",
    "        \n",
    "        for epoch in range(n_epochs):\n",
    "\n",
    "            for batch_idx in range(len(self.dataset)//self.batch_size):\n",
    "\n",
    "                batch_words, batch_trans_in, batch_trans_out, words_lens, trans_lens = self.dataset.get_batch(32)\n",
    "                \n",
    "                logits = self.model(batch_words, batch_trans_in)\n",
    "                \n",
    "                batch_trans_out = batch_trans_out.view(-1)  \n",
    "                mask = batch_trans_out != self.dataset.trans_vocab.pad_idx\n",
    "\n",
    "                loss = self.criterion(logits[mask], batch_trans_out[mask])\n",
    "\n",
    "                self.encoder_optimizer.zero_grad()\n",
    "                self.decoder_optimizer.zero_grad()\n",
    "\n",
    "                loss.backward()\n",
    "\n",
    "                self.encoder_optimizer.step()\n",
    "                self.decoder_optimizer.step()\n",
    "\n",
    "                self.train_losses.append(loss.item())\n",
    "                \n",
    "                if batch_idx % 200 == 0:\n",
    "                    val_loss = self.eval_()\n",
    "                    self.val_losses.append(val_loss.item())\n",
    "                    self.plot(epoch, batch_idx, self.train_losses, self.val_losses)\n",
    "            \n",
    "            \n",
    "        \n",
    "    def eval_(self):\n",
    "        \n",
    "        val_words, val_trans_in, val_trans_out, val_words_lens, val_trans_lens = self.dataset.get_batch(32, val = True)\n",
    "        \n",
    "        logits = self.model(val_words, val_trans_in)\n",
    "        val_trans_out = val_trans_out.view(-1)                \n",
    "\n",
    "        mask = val_trans_out != trans_vocab.pad_idx\n",
    "\n",
    "        loss = self.criterion(logits[mask], val_trans_out[mask])\n",
    "\n",
    "        return loss\n",
    "        \n",
    "    def plot(self, epoch, batch_idx, train_losses, val_losses):\n",
    "        clear_output(True)\n",
    "        plt.figure(figsize=(20,5))\n",
    "        plt.subplot(131)\n",
    "        plt.title('epoch %s. | batch: %s | loss: %s' % (epoch, batch_idx, train_losses[-1]))\n",
    "        plt.plot(train_losses)\n",
    "        plt.subplot(132)\n",
    "        plt.title('epoch %s. | loss: %s' % (epoch, val_losses[-1]))\n",
    "        plt.plot(val_losses)\n",
    "        plt.show()  "
   ]
  },
  {
   "cell_type": "code",
   "execution_count": 51,
   "metadata": {},
   "outputs": [],
   "source": [
    "model = Model(data, encoder, decoder)\n",
    "trainer = Trainer(data, model, encoder_optimizer, decoder_optimizer, criterion, batch_size = 32)"
   ]
  },
  {
   "cell_type": "code",
   "execution_count": 52,
   "metadata": {},
   "outputs": [
    {
     "data": {
      "image/png": "[encoded data removed]",
      "text/plain": [
       "<Figure size 1440x360 with 2 Axes>"
      ]
     },
     "metadata": {},
     "output_type": "display_data"
    }
   ],
   "source": [
    "trainer.train(5)"
   ]
  },
  {
   "cell_type": "code",
   "execution_count": 57,
   "metadata": {},
   "outputs": [
    {
     "data": {
      "text/plain": [
       "0.38209766149520874"
      ]
     },
     "execution_count": 57,
     "metadata": {},
     "output_type": "execute_result"
    }
   ],
   "source": [
    "min(trainer.val_losses)"
   ]
  },
  {
   "cell_type": "code",
   "execution_count": null,
   "metadata": {},
   "outputs": [],
   "source": []
  }
 ],
 "metadata": {
  "kernelspec": {
   "display_name": "Python 3",
   "language": "python",
   "name": "python3"
  },
  "language_info": {
   "codemirror_mode": {
    "name": "ipython",
    "version": 3
   },
   "file_extension": ".py",
   "mimetype": "text/x-python",
   "name": "python",
   "nbconvert_exporter": "python",
   "pygments_lexer": "ipython3",
   "version": "3.6.5"
  }
 },
 "nbformat": 4,
 "nbformat_minor": 2
}
