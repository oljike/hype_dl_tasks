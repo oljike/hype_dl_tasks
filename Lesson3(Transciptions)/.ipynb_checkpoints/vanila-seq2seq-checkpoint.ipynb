{
 "cells": [
  {
   "cell_type": "code",
   "execution_count": 5,
   "metadata": {},
   "outputs": [],
   "source": [
    "import math\n",
    "import random\n",
    "import csv\n",
    "from collections import Counter\n",
    "\n",
    "import numpy as np\n",
    "\n",
    "import torch\n",
    "import torch.nn as nn\n",
    "import torch.optim as optim\n",
    "import torch.nn.functional as F\n",
    "\n",
    "device = torch.device(\"cuda\" if torch.cuda.is_available else \"cpu\")"
   ]
  },
  {
   "cell_type": "code",
   "execution_count": 6,
   "metadata": {},
   "outputs": [
    {
     "name": "stdout",
     "output_type": "stream",
     "text": [
      "Once deleted, variables cannot be recovered. Proceed (y/[n])? N\n",
      "Nothing done.\n"
     ]
    }
   ],
   "source": [
    "reset"
   ]
  },
  {
   "cell_type": "code",
   "execution_count": 6,
   "metadata": {},
   "outputs": [],
   "source": [
    "from IPython.display import clear_output\n",
    "import matplotlib.pyplot as plt\n",
    "%matplotlib inline"
   ]
  },
  {
   "cell_type": "code",
   "execution_count": 7,
   "metadata": {},
   "outputs": [],
   "source": [
    "path     = 'data/transcriptions/train.csv' \n",
    "\n",
    "with open(path, 'r') as f:\n",
    "    reader = csv.reader(f)\n",
    "    lines   = list(reader)\n",
    "    \n",
    "_, words, trans = zip(*lines[1:])"
   ]
  },
  {
   "cell_type": "code",
   "execution_count": 8,
   "metadata": {},
   "outputs": [
    {
     "data": {
      "text/plain": [
       "(('KNOXVILLE',\n",
       "  'MOVIEGOING',\n",
       "  'PHOTOSYNTHESIS',\n",
       "  'DELIO',\n",
       "  'SWIVELED',\n",
       "  'VANLIEW',\n",
       "  'LINDEMAN',\n",
       "  'BARGER',\n",
       "  'HINKSON',\n",
       "  'DUET'),\n",
       " ('N AA K S V IH L',\n",
       "  'M UW V IY G OW IH NG',\n",
       "  'F OW T OW S IH N TH AH S IH S',\n",
       "  'D EY L IY OW',\n",
       "  'S W IH V AH L D',\n",
       "  'V AE N L IY UW',\n",
       "  'L IH N D M AH N',\n",
       "  'B AA R JH ER',\n",
       "  'HH IH NG K S AH N',\n",
       "  'D Y UW EH T'))"
      ]
     },
     "execution_count": 8,
     "metadata": {},
     "output_type": "execute_result"
    }
   ],
   "source": [
    "words[:10], trans[:10]"
   ]
  },
  {
   "cell_type": "markdown",
   "metadata": {},
   "source": [
    "<h4>Shuffle and split data</h4>"
   ]
  },
  {
   "cell_type": "code",
   "execution_count": 9,
   "metadata": {},
   "outputs": [],
   "source": [
    "#shuffle here\n",
    "list_ = list(zip(words, trans))\n",
    "random.shuffle(list_)\n",
    "words, trans = zip(*list_)\n",
    "\n",
    "val_size = 0.1\n",
    "\n",
    "train_words, val_words = words[:int(len(words)*(1-val_size))], words[int(len(words)*(1-val_size)):] \n",
    "train_trans, val_trans = trans[:int(len(trans)*(1-val_size))], trans[int(len(trans)*(1-val_size)):] "
   ]
  },
  {
   "cell_type": "code",
   "execution_count": 10,
   "metadata": {},
   "outputs": [
    {
     "data": {
      "text/plain": [
       "(95782, 10643, 95782, 10643)"
      ]
     },
     "execution_count": 10,
     "metadata": {},
     "output_type": "execute_result"
    }
   ],
   "source": [
    "len(train_words), len(val_words), len(train_trans), len(val_trans)"
   ]
  },
  {
   "cell_type": "code",
   "execution_count": 11,
   "metadata": {},
   "outputs": [],
   "source": [
    "def words_tokenize(line):\n",
    "    #'APPLE' -> ['A', 'P', 'L', 'L', 'E']\n",
    "    #code here\n",
    "    return list(line)\n",
    "\n",
    "def trans_tokenize(line):\n",
    "    #'AH N K AO R K' -> ['AH', 'N', 'K', 'AO', 'R', 'K']\n",
    "    #code here\n",
    "    return line.split()"
   ]
  },
  {
   "cell_type": "code",
   "execution_count": 12,
   "metadata": {},
   "outputs": [
    {
     "data": {
      "text/plain": [
       "['P', 'Lsd', 'dP']"
      ]
     },
     "execution_count": 12,
     "metadata": {},
     "output_type": "execute_result"
    }
   ],
   "source": [
    "trans_tokenize(\"P Lsd dP\")"
   ]
  },
  {
   "cell_type": "markdown",
   "metadata": {},
   "source": [
    "<h4>Cound words and transcriptions</h4>"
   ]
  },
  {
   "cell_type": "code",
   "execution_count": 13,
   "metadata": {},
   "outputs": [],
   "source": [
    "from itertools import chain\n",
    "\n",
    "words_counter = Counter()\n",
    "trans_counter = Counter()\n",
    "\n",
    "#code here\n",
    "for row in chain(*train_words):\n",
    "    words_counter.update(words_tokenize(row))\n",
    "\n",
    "for line in train_trans:\n",
    "    tokens = trans_tokenize(line)\n",
    "    for token in tokens:\n",
    "        trans_counter[token] += 1"
   ]
  },
  {
   "cell_type": "code",
   "execution_count": 19,
   "metadata": {},
   "outputs": [
    {
     "data": {
      "text/plain": [
       "(52, 40)"
      ]
     },
     "execution_count": 19,
     "metadata": {},
     "output_type": "execute_result"
    }
   ],
   "source": [
    "len(words_counter), len(trans_counter)"
   ]
  },
  {
   "cell_type": "code",
   "execution_count": 14,
   "metadata": {},
   "outputs": [],
   "source": [
    "class Vocab:\n",
    "    def __init__(self, counter, sos, eos, pad, unk, min_freq=None):\n",
    "        self.sos = sos\n",
    "        self.eos = eos\n",
    "        self.pad = pad\n",
    "        self.unk = unk\n",
    "        \n",
    "        self.pad_idx = 0\n",
    "        self.unk_idx = 1\n",
    "        self.sos_idx = 2\n",
    "        self.eos_idx = 3\n",
    "        \n",
    "        self._token2idx = {\n",
    "            self.sos: self.sos_idx,\n",
    "            self.eos: self.eos_idx,\n",
    "            self.pad: self.pad_idx,\n",
    "            self.unk: self.unk_idx,\n",
    "        }\n",
    "        self._idx2token = {idx:token for token, idx in self._token2idx.items()}\n",
    "        \n",
    "        idx = len(self._token2idx)\n",
    "        min_freq = 0 if min_freq is None else min_freq\n",
    "        \n",
    "        for token, count in counter.items():\n",
    "            if count > min_freq:\n",
    "                self._token2idx[token] = idx\n",
    "                self._idx2token[idx]   = token\n",
    "                idx += 1\n",
    "        \n",
    "        self.vocab_size = len(self._token2idx)\n",
    "        self.tokens     = list(self._token2idx.keys())\n",
    "    \n",
    "    def token2idx(self, token):\n",
    "        return self._token2idx.get(token, self.pad_idx)\n",
    "    \n",
    "    def idx2token(self, idx):\n",
    "        return self._idx2token.get(idx, self.pad)\n",
    "    \n",
    "    def __len__(self):\n",
    "        return len(self._token2idx)"
   ]
  },
  {
   "cell_type": "code",
   "execution_count": 15,
   "metadata": {},
   "outputs": [],
   "source": [
    "def padding(sequences, pad_idx):\n",
    "    '''\n",
    "    Inputs:\n",
    "        sequences: list of list of tokens\n",
    "    '''\n",
    "    max_length = max(map(len, sequences))\n",
    "    \n",
    "    return [seq + [pad_idx] * (max_length - len(seq)) for seq in sequences]"
   ]
  },
  {
   "cell_type": "code",
   "execution_count": 16,
   "metadata": {},
   "outputs": [],
   "source": [
    "sos = \"<sos>\"\n",
    "eos = \"<eos>\"\n",
    "pad = \"<pad>\"\n",
    "unk = \"<unk>\"\n",
    "\n",
    "words_vocab = Vocab(words_counter, \n",
    "                    sos, eos, pad, unk)\n",
    "\n",
    "trans_vocab = Vocab(trans_counter, \n",
    "                    sos, eos, pad, unk)"
   ]
  },
  {
   "cell_type": "code",
   "execution_count": 23,
   "metadata": {},
   "outputs": [
    {
     "data": {
      "text/plain": [
       "(56, 44)"
      ]
     },
     "execution_count": 23,
     "metadata": {},
     "output_type": "execute_result"
    }
   ],
   "source": [
    "len(words_vocab), len(trans_vocab)"
   ]
  },
  {
   "cell_type": "markdown",
   "metadata": {},
   "source": [
    "<h4>Tokenize data</h4>"
   ]
  },
  {
   "cell_type": "code",
   "execution_count": 17,
   "metadata": {},
   "outputs": [],
   "source": [
    "train_words = [[words_vocab.token2idx(item) for item in words_tokenize(word)] for word in train_words]\n",
    "val_words   = [[words_vocab.token2idx(item) for item in words_tokenize(word)] for word in val_words]\n",
    "\n",
    "train_trans = [[trans_vocab.token2idx(item) for item in trans_tokenize(trans)] for trans in train_trans]\n",
    "val_trans   = [[trans_vocab.token2idx(item) for item in trans_tokenize(trans)] for trans in val_trans]"
   ]
  },
  {
   "cell_type": "code",
   "execution_count": 18,
   "metadata": {},
   "outputs": [],
   "source": [
    "def get_batch(batch_size, sort=False, val=False):\n",
    "    '''\n",
    "    Outputs:\n",
    "        batch_words:    (batch x seq_len)   torch.LongTensor\n",
    "        batch_trans_in: (batch x seq_len)   torch.LongTensor\n",
    "        batch_trans_out: (batch x seq_len)  torch.LongTensor\n",
    "        words_lens: (batch)                 torch.LongTensor\n",
    "        trans_lens: (batch)                 torch.LongTensor\n",
    "    '''\n",
    "    if val:\n",
    "        words, trans = val_words, val_trans\n",
    "    else:\n",
    "        words, trans = train_words, train_trans\n",
    "    \n",
    "    rand_ind = np.random.randint(0, len(words), batch_size)\n",
    "    \n",
    "    batch_words = [words[idx] for idx in rand_ind]\n",
    "    batch_trans = [trans[idx] for idx in rand_ind]\n",
    "    \n",
    "    words_lens = list(map(len, batch_words))\n",
    "    trans_lens = list(map(len, batch_trans))  \n",
    "        \n",
    "    batch_trans_in  =  [[trans_vocab.sos_idx] + item for item in batch_trans]\n",
    "    batch_trans_out =  [item + [trans_vocab.eos_idx] for item in batch_trans]\n",
    "    \n",
    " \n",
    "    \n",
    "    batch_words = padding(batch_words, words_vocab.pad_idx)\n",
    "    batch_trans_in = padding(batch_trans_in, trans_vocab.pad_idx)\n",
    "    batch_trans_out = padding(batch_trans_out, trans_vocab.pad_idx)\n",
    "      \n",
    "    batch_words = torch.LongTensor(batch_words)\n",
    "    batch_trans_in= torch.LongTensor(batch_trans_in)\n",
    "    batch_trans_out= torch.LongTensor(batch_trans_out)\n",
    "    words_lens= torch.LongTensor(words_lens)\n",
    "    trans_lens= torch.LongTensor(trans_lens)\n",
    "    \n",
    "    if sort:\n",
    "        lens, indicies = torch.sort(words_lens, 0 , True)\n",
    "        batch_words = batch_words[indicies]\n",
    "        batch_trans_in = batch_trans_in[indicies]\n",
    "        batch_trans_out = batch_trans_out[indicies]\n",
    "        trans_lens = trans_lens[indicies]\n",
    "        words_lens = lens\n",
    "\n",
    "    return batch_words, batch_trans_in, batch_trans_out, words_lens, trans_lens"
   ]
  },
  {
   "cell_type": "code",
   "execution_count": 19,
   "metadata": {},
   "outputs": [],
   "source": [
    "batch_words, batch_trans_in, batch_trans_out, words_lens, trans_lens = get_batch(batch_size = 32, sort=True, val=False)"
   ]
  },
  {
   "cell_type": "code",
   "execution_count": 20,
   "metadata": {},
   "outputs": [
    {
     "data": {
      "text/plain": [
       "tensor([[21,  6, 10, 15, 13, 16,  5, 17,  9, 20, 11,  9,  5],\n",
       "        [ 8, 22, 23, 11, 18, 23,  6, 11,  9,  5,  6, 23,  0],\n",
       "        [21, 18,  5, 11, 26, 25, 23,  6, 17,  9, 20,  0,  0],\n",
       "        [21, 18, 16, 20, 25, 26,  9,  5, 18,  6, 10,  0,  0],\n",
       "        [14, 18, 20, 11, 22,  5, 21,  6, 10, 17,  9,  0,  0],\n",
       "        [25,  5, 16, 24,  9, 10, 27,  6, 10, 16,  0,  0,  0],\n",
       "        [ 8, 17,  7, 18, 10, 10,  9, 20, 20,  0,  0,  0,  0],\n",
       "        [20, 17, 26, 23,  9, 10, 15,  9,  5,  0,  0,  0,  0],\n",
       "        [ 7, 16, 23, 14, 17,  5,  9, 20, 11,  0,  0,  0,  0],\n",
       "        [ 4,  5, 18, 14, 16, 24, 18, 17, 26,  0,  0,  0,  0],\n",
       "        [ 9, 32, 22,  6, 23, 18, 27,  9, 20,  0,  0,  0,  0],\n",
       "        [ 6, 23,  9, 30,  6, 10, 14,  5,  6,  0,  0,  0,  0],\n",
       "        [21, 23, 16, 10, 14,  9, 23, 23,  0,  0,  0,  0,  0],\n",
       "        [13, 18, 17, 15, 13,  6,  5,  9,  0,  0,  0,  0,  0],\n",
       "        [21, 16, 13,  8,  6, 10, 19, 20,  0,  0,  0,  0,  0],\n",
       "        [17, 16,  8, 22, 10,  6, 23,  9,  0,  0,  0,  0,  0],\n",
       "        [11, 26, 18, 10, 10,  9, 20, 11,  0,  0,  0,  0,  0],\n",
       "        [20, 12, 23, 24, 18,  6, 19, 20,  0,  0,  0,  0,  0],\n",
       "        [ 7, 18, 14, 13, 18, 11, 27,  0,  0,  0,  0,  0,  0],\n",
       "        [ 8,  6,  5, 17, 27,  6, 15,  0,  0,  0,  0,  0,  0],\n",
       "        [ 4, 18, 23, 18, 25,  9, 15,  0,  0,  0,  0,  0,  0],\n",
       "        [ 5,  9, 14, 26,  9,  6, 14,  0,  0,  0,  0,  0,  0],\n",
       "        [17,  9, 24,  6, 30, 20,  0,  0,  0,  0,  0,  0,  0],\n",
       "        [21, 16,  5, 18, 10,  7,  0,  0,  0,  0,  0,  0,  0],\n",
       "        [26,  6, 11, 18, 10,  7,  0,  0,  0,  0,  0,  0,  0],\n",
       "        [ 8,  6,  7, 21, 12,  0,  0,  0,  0,  0,  0,  0,  0],\n",
       "        [25,  6, 22, 20,  9,  0,  0,  0,  0,  0,  0,  0,  0],\n",
       "        [10,  9,  6,  5, 12,  0,  0,  0,  0,  0,  0,  0,  0],\n",
       "        [14,  5, 22, 18, 14,  0,  0,  0,  0,  0,  0,  0,  0],\n",
       "        [ 4, 16, 23, 11, 20,  0,  0,  0,  0,  0,  0,  0,  0],\n",
       "        [10, 16, 11, 11,  0,  0,  0,  0,  0,  0,  0,  0,  0],\n",
       "        [ 6, 13,  9,  0,  0,  0,  0,  0,  0,  0,  0,  0,  0]])"
      ]
     },
     "execution_count": 20,
     "metadata": {},
     "output_type": "execute_result"
    }
   ],
   "source": [
    "batch_words"
   ]
  },
  {
   "cell_type": "code",
   "execution_count": 33,
   "metadata": {},
   "outputs": [],
   "source": [
    "from torch.nn.utils.rnn import pack_padded_sequence as pack\n",
    "from torch.nn.utils.rnn import pad_packed_sequence  as unpack\n",
    "\n",
    "#code Encoder\n",
    "#forward(batch_words, words_lens) -> outputs, hidden\n",
    "class Encoder(nn.Module):\n",
    "    def __init__(self, vocab_size, emb_size, hidden_size, pad_idx):\n",
    "        super(Encoder, self).__init__()\n",
    "            \n",
    "        self.vocab_size = vocab_size\n",
    "        self.emb_size = emb_size\n",
    "        self.hidden_size = hidden_size\n",
    "        self.pad_idx = pad_idx\n",
    "        \n",
    "        self.embedding = nn.Embedding(vocab_size, emb_size, padding_idx=pad_idx)\n",
    "        self.GRU = nn.GRU(emb_size, hidden_size, batch_first = True)\n",
    "        \n",
    "    def forward(self, batch_words):\n",
    "        \n",
    "        batch_size = batch_words.size(0)\n",
    "        \n",
    "        embedded = self.embedding(batch_words)\n",
    "        _, hidden = self.GRU(embedded)\n",
    "\n",
    "        return _, hidden\n",
    "        \n",
    "class Decoder(nn.Module):\n",
    "    def __init__(self, vocab_size, emb_size, hidden_size, pad_idx):\n",
    "        super(Decoder, self).__init__()\n",
    "         \n",
    "        self.vocab_size = vocab_size\n",
    "        self.emb_size = emb_size\n",
    "        self.hidden_size = hidden_size\n",
    "        self.pad_idx = pad_idx\n",
    "        \n",
    "        self.embedding = nn.Embedding(vocab_size, emb_size, padding_idx=pad_idx)\n",
    "        self.GRU = nn.GRU(emb_size, hidden_size, batch_first = True)\n",
    "        self.linear = nn.Linear(hidden_size, vocab_size)\n",
    "       \n",
    "    def forward(self, batch_trans_in, hidden):\n",
    "        \n",
    "        batch_size = batch_words.size(0)\n",
    "        \n",
    "        embedded = self.embedding(batch_trans_in)\n",
    "        outputs, hidden = self.GRU(embedded, hidden)\n",
    "        out = self.linear(outputs)\n",
    "        out = out.view(-1, self.vocab_size)\n",
    "\n",
    "        \n",
    "        return out, hidden\n",
    "    "
   ]
  },
  {
   "cell_type": "code",
   "execution_count": 34,
   "metadata": {},
   "outputs": [
    {
     "ename": "TypeError",
     "evalue": "forward() takes 2 positional arguments but 3 were given",
     "output_type": "error",
     "traceback": [
      "\u001b[0;31m---------------------------------------------------------------------------\u001b[0m",
      "\u001b[0;31mTypeError\u001b[0m                                 Traceback (most recent call last)",
      "\u001b[0;32m<ipython-input-34-6b638104e4ed>\u001b[0m in \u001b[0;36m<module>\u001b[0;34m()\u001b[0m\n\u001b[1;32m      1\u001b[0m \u001b[0mencoder\u001b[0m \u001b[0;34m=\u001b[0m \u001b[0mEncoder\u001b[0m\u001b[0;34m(\u001b[0m\u001b[0mlen\u001b[0m\u001b[0;34m(\u001b[0m\u001b[0mwords_vocab\u001b[0m\u001b[0;34m)\u001b[0m\u001b[0;34m,\u001b[0m \u001b[0;36m32\u001b[0m\u001b[0;34m,\u001b[0m \u001b[0;36m64\u001b[0m\u001b[0;34m,\u001b[0m \u001b[0mwords_vocab\u001b[0m\u001b[0;34m.\u001b[0m\u001b[0mpad_idx\u001b[0m\u001b[0;34m)\u001b[0m\u001b[0;31m#.to(device)\u001b[0m\u001b[0;34m\u001b[0m\u001b[0m\n\u001b[0;32m----> 2\u001b[0;31m \u001b[0m_\u001b[0m\u001b[0;34m,\u001b[0m \u001b[0mhidden\u001b[0m \u001b[0;34m=\u001b[0m \u001b[0mencoder\u001b[0m\u001b[0;34m(\u001b[0m\u001b[0mbatch_words\u001b[0m\u001b[0;34m,\u001b[0m \u001b[0mwords_lens\u001b[0m\u001b[0;34m)\u001b[0m\u001b[0;34m\u001b[0m\u001b[0m\n\u001b[0m",
      "\u001b[0;32m/home/oljike/PycharmProjects/TopicModelling/venv/lib/python3.6/site-packages/torch/nn/modules/module.py\u001b[0m in \u001b[0;36m__call__\u001b[0;34m(self, *input, **kwargs)\u001b[0m\n\u001b[1;32m    475\u001b[0m             \u001b[0mresult\u001b[0m \u001b[0;34m=\u001b[0m \u001b[0mself\u001b[0m\u001b[0;34m.\u001b[0m\u001b[0m_slow_forward\u001b[0m\u001b[0;34m(\u001b[0m\u001b[0;34m*\u001b[0m\u001b[0minput\u001b[0m\u001b[0;34m,\u001b[0m \u001b[0;34m**\u001b[0m\u001b[0mkwargs\u001b[0m\u001b[0;34m)\u001b[0m\u001b[0;34m\u001b[0m\u001b[0m\n\u001b[1;32m    476\u001b[0m         \u001b[0;32melse\u001b[0m\u001b[0;34m:\u001b[0m\u001b[0;34m\u001b[0m\u001b[0m\n\u001b[0;32m--> 477\u001b[0;31m             \u001b[0mresult\u001b[0m \u001b[0;34m=\u001b[0m \u001b[0mself\u001b[0m\u001b[0;34m.\u001b[0m\u001b[0mforward\u001b[0m\u001b[0;34m(\u001b[0m\u001b[0;34m*\u001b[0m\u001b[0minput\u001b[0m\u001b[0;34m,\u001b[0m \u001b[0;34m**\u001b[0m\u001b[0mkwargs\u001b[0m\u001b[0;34m)\u001b[0m\u001b[0;34m\u001b[0m\u001b[0m\n\u001b[0m\u001b[1;32m    478\u001b[0m         \u001b[0;32mfor\u001b[0m \u001b[0mhook\u001b[0m \u001b[0;32min\u001b[0m \u001b[0mself\u001b[0m\u001b[0;34m.\u001b[0m\u001b[0m_forward_hooks\u001b[0m\u001b[0;34m.\u001b[0m\u001b[0mvalues\u001b[0m\u001b[0;34m(\u001b[0m\u001b[0;34m)\u001b[0m\u001b[0;34m:\u001b[0m\u001b[0;34m\u001b[0m\u001b[0m\n\u001b[1;32m    479\u001b[0m             \u001b[0mhook_result\u001b[0m \u001b[0;34m=\u001b[0m \u001b[0mhook\u001b[0m\u001b[0;34m(\u001b[0m\u001b[0mself\u001b[0m\u001b[0;34m,\u001b[0m \u001b[0minput\u001b[0m\u001b[0;34m,\u001b[0m \u001b[0mresult\u001b[0m\u001b[0;34m)\u001b[0m\u001b[0;34m\u001b[0m\u001b[0m\n",
      "\u001b[0;31mTypeError\u001b[0m: forward() takes 2 positional arguments but 3 were given"
     ]
    }
   ],
   "source": [
    "encoder = Encoder(len(words_vocab), 32, 64, words_vocab.pad_idx)#.to(device)\n",
    "_, hidden = encoder(batch_words, words_lens)"
   ]
  },
  {
   "cell_type": "code",
   "execution_count": 35,
   "metadata": {},
   "outputs": [
    {
     "data": {
      "text/plain": [
       "(tensor([[ 0.0076, -0.0535, -0.0934,  ...,  0.1756, -0.0847,  0.1715],\n",
       "         [-0.0861, -0.0669, -0.0014,  ..., -0.0203,  0.0338,  0.0322],\n",
       "         [ 0.0801, -0.1021, -0.0701,  ..., -0.1602,  0.0360,  0.1126],\n",
       "         ...,\n",
       "         [-0.0107, -0.0412,  0.0100,  ..., -0.0073, -0.0179,  0.1498],\n",
       "         [-0.0099, -0.0409,  0.0092,  ..., -0.0080, -0.0179,  0.1507],\n",
       "         [-0.0094, -0.0407,  0.0088,  ..., -0.0083, -0.0180,  0.1511]],\n",
       "        grad_fn=<ViewBackward>),\n",
       " tensor([[[-0.1655, -0.0976,  0.0412,  ..., -0.0667,  0.0167, -0.0176],\n",
       "          [-0.3487, -0.1612,  0.1670,  ...,  0.1430,  0.1881, -0.1628],\n",
       "          [-0.1339, -0.0906, -0.0921,  ..., -0.1572,  0.0884,  0.0473],\n",
       "          ...,\n",
       "          [-0.0813, -0.0347, -0.0569,  ..., -0.0614, -0.0156,  0.0067],\n",
       "          [-0.0680, -0.0233, -0.0713,  ..., -0.0508, -0.0162,  0.0053],\n",
       "          [-0.0733, -0.0270, -0.0704,  ..., -0.0517, -0.0179,  0.0018]]],\n",
       "        grad_fn=<ViewBackward>))"
      ]
     },
     "execution_count": 35,
     "metadata": {},
     "output_type": "execute_result"
    }
   ],
   "source": [
    "decoder = Decoder(len(words_vocab), 32, 64, words_vocab.pad_idx)#.to(device)\n",
    "decoder(batch_trans_in, hidden)"
   ]
  },
  {
   "cell_type": "code",
   "execution_count": 43,
   "metadata": {},
   "outputs": [],
   "source": [
    "class Model(nn.Module):\n",
    "    def __init__(self):\n",
    "        super(Model, self).__init__()\n",
    "        \n",
    "    def forward(self, batch_words, words_lens, batch_trans_in):\n",
    "        _, hidden = self.encoder(batch_words)\n",
    "        pred, _   = self.decoder(batch_trans_in, hidden)\n",
    "        return pred\n",
    "    \n",
    "    def generate(self, bos_idx, eos_idx, batch_words):\n",
    "        inp = [bos_idx]\n",
    "        _, hidden = self.encoder(batch_words)\n",
    "\n",
    "        for _ in range(100):\n",
    "            inp_tensor = torch.LongTensor([[inp[-1]]]).to(batch_words.device)\n",
    "            pred, hidden   = self.decoder(inp_tensor, hidden)\n",
    "            next_token = pred[-1].topk(1)[1].item()\n",
    "            inp.append(next_token)\n",
    "            if next_token == eos_idx:\n",
    "                break\n",
    "        return inp\n",
    "        "
   ]
  },
  {
   "cell_type": "code",
   "execution_count": 44,
   "metadata": {},
   "outputs": [],
   "source": [
    "def plot(epoch, batch_idx, train_losses, val_losses):\n",
    "    clear_output(True)\n",
    "    plt.figure(figsize=(20,5))\n",
    "    plt.subplot(131)\n",
    "    plt.title('epoch %s. | batch: %s | loss: %s' % (epoch, batch_idx, train_losses[-1]))\n",
    "    plt.plot(train_losses)\n",
    "    plt.subplot(132)\n",
    "    plt.title('epoch %s. | loss: %s' % (epoch, val_losses[-1]))\n",
    "    plt.plot(val_losses)\n",
    "    plt.show()"
   ]
  },
  {
   "cell_type": "code",
   "execution_count": 45,
   "metadata": {},
   "outputs": [],
   "source": [
    "def one_step(batch_size, val):\n",
    "    batch_words, batch_trans_in, batch_trans_out, words_lens, trans_lens = get_batch(batch_size, sort=True, val=val)\n",
    "\n",
    "    batch_words     = batch_words.to(device)\n",
    "    batch_trans_in  = batch_trans_in.to(device)\n",
    "    batch_trans_out = batch_trans_out.to(device)\n",
    "    words_lens      = words_lens.to(device)\n",
    "    trans_lens      = trans_lens.to(device)\n",
    "    \n",
    "    logits = model(batch_words, words_lens, batch_trans_in)\n",
    "    \n",
    "    batch_trans_out = batch_trans_out.view(-1)\n",
    "    mask = batch_trans_out != trans_vocab.pad_idx\n",
    "    loss = criterion(logits[mask], batch_trans_out[mask])\n",
    "    \n",
    "    return loss"
   ]
  },
  {
   "cell_type": "code",
   "execution_count": 46,
   "metadata": {},
   "outputs": [],
   "source": [
    "device = torch.device(\"cuda\" if torch.cuda.is_available else \"cpu\")\n",
    "emb_size    = 32\n",
    "hidden_size = 64\n",
    "encoder = Encoder(words_vocab.vocab_size, emb_size, hidden_size, words_vocab.pad_idx).to(device)\n",
    "decoder = Decoder(trans_vocab.vocab_size, emb_size, hidden_size, trans_vocab.pad_idx).to(device)\n",
    "model   = Model().to(device)\n",
    "model.encoder = encoder\n",
    "model.decoder = decoder\n",
    "\n",
    "criterion = nn.CrossEntropyLoss()\n",
    "optimizer = optim.Adam(model.parameters())\n",
    "\n",
    "batch_size = 32\n",
    "epoch      = 0\n",
    "num_epochs = 5\n",
    "\n",
    "train_losses = []\n",
    "val_losses   = []"
   ]
  },
  {
   "cell_type": "code",
   "execution_count": 47,
   "metadata": {},
   "outputs": [
    {
     "data": {
      "image/png": "[encoded data removed]",
      "text/plain": [
       "<Figure size 1440x360 with 2 Axes>"
      ]
     },
     "metadata": {},
     "output_type": "display_data"
    }
   ],
   "source": [
    "while epoch < num_epochs:\n",
    "    for batch_idx in range(len(train_words) // batch_size):\n",
    "        loss = one_step(batch_size, val=False)\n",
    "        optimizer.zero_grad()\n",
    "        loss.backward()\n",
    "        optimizer.step()\n",
    "        train_losses.append(loss.item())\n",
    "\n",
    "        if batch_idx % 100 == 0:\n",
    "            with torch.no_grad():\n",
    "                loss = one_step(batch_size, val=True)\n",
    "                val_losses.append(loss.item())\n",
    "\n",
    "            plot(epoch, batch_idx, train_losses, val_losses)\n",
    "            \n",
    "    epoch += 1"
   ]
  },
  {
   "cell_type": "code",
   "execution_count": 48,
   "metadata": {},
   "outputs": [],
   "source": [
    "def _print(val):\n",
    "    batch_words, batch_trans_in, batch_trans_out, words_lens, trans_lens = get_batch(1, sort=True, val=val)\n",
    "    batch_words     = batch_words.to(device)\n",
    "    batch_trans_out = batch_trans_out.to(device)\n",
    "\n",
    "\n",
    "    inp = model.generate(words_vocab.sos_idx, words_vocab.eos_idx, batch_words)\n",
    "            \n",
    "    tokens = [trans_vocab.idx2token(idx) for idx in inp if idx not in [trans_vocab.sos_idx,\n",
    "                                                                                     trans_vocab.eos_idx,\n",
    "                                                                                     trans_vocab.pad_idx]]\n",
    "    print('Src: ', ''.join([words_vocab.idx2token(idx) for idx in batch_words[0].tolist()]))\n",
    "    print('Pred:', ''.join(tokens))\n",
    "    print('Real:', ''.join([trans_vocab.idx2token(idx) for idx in batch_trans_out[0].tolist() if idx not in [trans_vocab.sos_idx,\n",
    "                                                                            trans_vocab.eos_idx,\n",
    "                                                                            trans_vocab.pad_idx]]))"
   ]
  },
  {
   "cell_type": "code",
   "execution_count": 49,
   "metadata": {},
   "outputs": [
    {
     "name": "stdout",
     "output_type": "stream",
     "text": [
      "Src:  REVOLUTIONIZE\n",
      "Pred: RIYVAHLEYSHAHNIHST\n",
      "Real: REHVAHLUWSHAHNAYZ\n",
      "\n",
      "Src:  DUPLECHIN\n",
      "Pred: DAHPLIHSHAHN\n",
      "Real: DUWPLIHKIHN\n",
      "\n",
      "Src:  COSMO'S\n",
      "Pred: KOWSKOWMZ\n",
      "Real: KAAZMOWZ\n",
      "\n",
      "Src:  BELLO\n",
      "Pred: BOWLOW\n",
      "Real: BEHLOW\n",
      "\n",
      "Src:  MIGRAINE\n",
      "Pred: MIHGREYNIY\n",
      "Real: MAYGREYN\n",
      "\n",
      "Src:  BASHED\n",
      "Pred: BAESHIHD\n",
      "Real: BAESHT\n",
      "\n",
      "Src:  TINNIN\n",
      "Pred: TAYNIHN\n",
      "Real: TIHNIHN\n",
      "\n",
      "Src:  PERVERSITY\n",
      "Pred: PERVERSIYTIY\n",
      "Real: PERVERSAHTIY\n",
      "\n",
      "Src:  MINDS\n",
      "Pred: MIHNDST\n",
      "Real: MAYNDZ\n",
      "\n",
      "Src:  GOTTESMAN\n",
      "Pred: GAATSMAHN\n",
      "Real: GAATSMAHN\n",
      "\n"
     ]
    }
   ],
   "source": [
    "for _ in range(10):\n",
    "    _print(True)\n",
    "    print()"
   ]
  },
  {
   "cell_type": "markdown",
   "metadata": {},
   "source": [
    "<h1>Практика</h1>"
   ]
  },
  {
   "cell_type": "code",
   "execution_count": 29,
   "metadata": {},
   "outputs": [],
   "source": [
    "class Task:\n",
    "    def __init__(self,):\n",
    "        pass\n",
    "    \n",
    "    def get_batch(self, ):\n",
    "        pass\n",
    "\n",
    "class Vocab:\n",
    "    def __init__(self,):\n",
    "        pass\n",
    "    \n",
    "    def token2idx(self,):\n",
    "        pass\n",
    "    \n",
    "    def idx2token(self,):\n",
    "        pass\n",
    "    \n",
    "    def __len__(self,):\n",
    "        pass\n",
    "\n",
    "class Trainer:\n",
    "    def __init__(self, model, optimizer, criterion):\n",
    "        pass\n",
    "    \n",
    "    def one_train_step(self, ):\n",
    "        pass\n",
    "    \n",
    "    def one_val_step(self,):\n",
    "        pass\n",
    "    \n",
    "    def train(self, epochs):\n",
    "        pass\n",
    "    \n",
    "    def plot(self,):\n",
    "        pass\n",
    "\n",
    "class Model:\n",
    "    def forward(self, ):\n",
    "        return loss\n",
    "    \n",
    "    def generate(self, ):\n",
    "        return pred_tokens"
   ]
  },
  {
   "cell_type": "code",
   "execution_count": null,
   "metadata": {},
   "outputs": [],
   "source": []
  }
 ],
 "metadata": {
  "kernelspec": {
   "display_name": "Python 3",
   "language": "python",
   "name": "python3"
  },
  "language_info": {
   "codemirror_mode": {
    "name": "ipython",
    "version": 3
   },
   "file_extension": ".py",
   "mimetype": "text/x-python",
   "name": "python",
   "nbconvert_exporter": "python",
   "pygments_lexer": "ipython3",
   "version": "3.6.5"
  }
 },
 "nbformat": 4,
 "nbformat_minor": 2
}
